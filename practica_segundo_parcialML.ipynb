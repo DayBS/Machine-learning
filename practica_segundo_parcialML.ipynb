{
  "cells": [
    {
      "cell_type": "code",
      "execution_count": null,
      "metadata": {
        "id": "NAOSLUujZzc2"
      },
      "outputs": [],
      "source": [
        "import pandas as pd\n",
        "import numpy as np\n",
        "import matplotlib.pyplot as plt\n",
        "\n",
        "import seaborn as sns\n",
        "import warnings\n",
        "warnings.filterwarnings(\"ignore\",category=DeprecationWarning)"
      ]
    },
    {
      "cell_type": "markdown",
      "metadata": {
        "id": "TYouvkIN-Boc"
      },
      "source": [
        "**1. Cargar datos**"
      ]
    },
    {
      "cell_type": "markdown",
      "metadata": {
        "id": "ytIgI3Pl-OiM"
      },
      "source": [
        "se utilizo el conjunto de datos de artículos que contine articulos de las materias de .... en un archivo CSV \n",
        "\n"
      ]
    },
    {
      "cell_type": "code",
      "execution_count": null,
      "metadata": {
        "colab": {
          "base_uri": "https://localhost:8080/",
          "height": 612
        },
        "id": "euqXsRO0ZzmA",
        "outputId": "27faf79e-9b8f-49e9-a2d7-17e5ccda7425"
      },
      "outputs": [
        {
          "output_type": "execute_result",
          "data": {
            "text/plain": [
              "     id                                           ABSTRACT  Computer Science  \\\n",
              "0  1824  a ever-growing datasets inside observational a...                 0   \n",
              "1  3094  we propose the framework considering optimal $...                 1   \n",
              "2  8463  nanostructures with open shell transition meta...                 0   \n",
              "3  2082  stars are self-gravitating fluids inside which...                 0   \n",
              "4  8687  deep neural perception and control networks ar...                 1   \n",
              "\n",
              "   Mathematics  Physics  Statistics  Analysis of PDEs  Applications  \\\n",
              "0            0        1           0                 0             0   \n",
              "1            0        0           0                 0             0   \n",
              "2            0        1           0                 0             0   \n",
              "3            0        1           0                 0             0   \n",
              "4            0        0           0                 0             0   \n",
              "\n",
              "   Artificial Intelligence  Astrophysics of Galaxies  ...  Methodology  \\\n",
              "0                        0                         0  ...            0   \n",
              "1                        0                         0  ...            0   \n",
              "2                        0                         0  ...            0   \n",
              "3                        0                         0  ...            0   \n",
              "4                        0                         0  ...            0   \n",
              "\n",
              "   Number Theory  Optimization and Control  Representation Theory  Robotics  \\\n",
              "0              0                         0                      0         0   \n",
              "1              0                         0                      0         0   \n",
              "2              0                         0                      0         0   \n",
              "3              0                         0                      0         0   \n",
              "4              0                         0                      0         0   \n",
              "\n",
              "   Social and Information Networks  Statistics Theory  \\\n",
              "0                                0                  0   \n",
              "1                                0                  0   \n",
              "2                                0                  0   \n",
              "3                                0                  0   \n",
              "4                                0                  0   \n",
              "\n",
              "   Strongly Correlated Electrons  Superconductivity  Systems and Control  \n",
              "0                              0                  0                    0  \n",
              "1                              0                  0                    0  \n",
              "2                              1                  0                    0  \n",
              "3                              0                  0                    0  \n",
              "4                              0                  0                    0  \n",
              "\n",
              "[5 rows x 31 columns]"
            ],
            "text/html": [
              "\n",
              "  <div id=\"df-04b01d3e-c622-42bc-87bb-f1fa2c536775\">\n",
              "    <div class=\"colab-df-container\">\n",
              "      <div>\n",
              "<style scoped>\n",
              "    .dataframe tbody tr th:only-of-type {\n",
              "        vertical-align: middle;\n",
              "    }\n",
              "\n",
              "    .dataframe tbody tr th {\n",
              "        vertical-align: top;\n",
              "    }\n",
              "\n",
              "    .dataframe thead th {\n",
              "        text-align: right;\n",
              "    }\n",
              "</style>\n",
              "<table border=\"1\" class=\"dataframe\">\n",
              "  <thead>\n",
              "    <tr style=\"text-align: right;\">\n",
              "      <th></th>\n",
              "      <th>id</th>\n",
              "      <th>ABSTRACT</th>\n",
              "      <th>Computer Science</th>\n",
              "      <th>Mathematics</th>\n",
              "      <th>Physics</th>\n",
              "      <th>Statistics</th>\n",
              "      <th>Analysis of PDEs</th>\n",
              "      <th>Applications</th>\n",
              "      <th>Artificial Intelligence</th>\n",
              "      <th>Astrophysics of Galaxies</th>\n",
              "      <th>...</th>\n",
              "      <th>Methodology</th>\n",
              "      <th>Number Theory</th>\n",
              "      <th>Optimization and Control</th>\n",
              "      <th>Representation Theory</th>\n",
              "      <th>Robotics</th>\n",
              "      <th>Social and Information Networks</th>\n",
              "      <th>Statistics Theory</th>\n",
              "      <th>Strongly Correlated Electrons</th>\n",
              "      <th>Superconductivity</th>\n",
              "      <th>Systems and Control</th>\n",
              "    </tr>\n",
              "  </thead>\n",
              "  <tbody>\n",
              "    <tr>\n",
              "      <th>0</th>\n",
              "      <td>1824</td>\n",
              "      <td>a ever-growing datasets inside observational a...</td>\n",
              "      <td>0</td>\n",
              "      <td>0</td>\n",
              "      <td>1</td>\n",
              "      <td>0</td>\n",
              "      <td>0</td>\n",
              "      <td>0</td>\n",
              "      <td>0</td>\n",
              "      <td>0</td>\n",
              "      <td>...</td>\n",
              "      <td>0</td>\n",
              "      <td>0</td>\n",
              "      <td>0</td>\n",
              "      <td>0</td>\n",
              "      <td>0</td>\n",
              "      <td>0</td>\n",
              "      <td>0</td>\n",
              "      <td>0</td>\n",
              "      <td>0</td>\n",
              "      <td>0</td>\n",
              "    </tr>\n",
              "    <tr>\n",
              "      <th>1</th>\n",
              "      <td>3094</td>\n",
              "      <td>we propose the framework considering optimal $...</td>\n",
              "      <td>1</td>\n",
              "      <td>0</td>\n",
              "      <td>0</td>\n",
              "      <td>0</td>\n",
              "      <td>0</td>\n",
              "      <td>0</td>\n",
              "      <td>0</td>\n",
              "      <td>0</td>\n",
              "      <td>...</td>\n",
              "      <td>0</td>\n",
              "      <td>0</td>\n",
              "      <td>0</td>\n",
              "      <td>0</td>\n",
              "      <td>0</td>\n",
              "      <td>0</td>\n",
              "      <td>0</td>\n",
              "      <td>0</td>\n",
              "      <td>0</td>\n",
              "      <td>0</td>\n",
              "    </tr>\n",
              "    <tr>\n",
              "      <th>2</th>\n",
              "      <td>8463</td>\n",
              "      <td>nanostructures with open shell transition meta...</td>\n",
              "      <td>0</td>\n",
              "      <td>0</td>\n",
              "      <td>1</td>\n",
              "      <td>0</td>\n",
              "      <td>0</td>\n",
              "      <td>0</td>\n",
              "      <td>0</td>\n",
              "      <td>0</td>\n",
              "      <td>...</td>\n",
              "      <td>0</td>\n",
              "      <td>0</td>\n",
              "      <td>0</td>\n",
              "      <td>0</td>\n",
              "      <td>0</td>\n",
              "      <td>0</td>\n",
              "      <td>0</td>\n",
              "      <td>1</td>\n",
              "      <td>0</td>\n",
              "      <td>0</td>\n",
              "    </tr>\n",
              "    <tr>\n",
              "      <th>3</th>\n",
              "      <td>2082</td>\n",
              "      <td>stars are self-gravitating fluids inside which...</td>\n",
              "      <td>0</td>\n",
              "      <td>0</td>\n",
              "      <td>1</td>\n",
              "      <td>0</td>\n",
              "      <td>0</td>\n",
              "      <td>0</td>\n",
              "      <td>0</td>\n",
              "      <td>0</td>\n",
              "      <td>...</td>\n",
              "      <td>0</td>\n",
              "      <td>0</td>\n",
              "      <td>0</td>\n",
              "      <td>0</td>\n",
              "      <td>0</td>\n",
              "      <td>0</td>\n",
              "      <td>0</td>\n",
              "      <td>0</td>\n",
              "      <td>0</td>\n",
              "      <td>0</td>\n",
              "    </tr>\n",
              "    <tr>\n",
              "      <th>4</th>\n",
              "      <td>8687</td>\n",
              "      <td>deep neural perception and control networks ar...</td>\n",
              "      <td>1</td>\n",
              "      <td>0</td>\n",
              "      <td>0</td>\n",
              "      <td>0</td>\n",
              "      <td>0</td>\n",
              "      <td>0</td>\n",
              "      <td>0</td>\n",
              "      <td>0</td>\n",
              "      <td>...</td>\n",
              "      <td>0</td>\n",
              "      <td>0</td>\n",
              "      <td>0</td>\n",
              "      <td>0</td>\n",
              "      <td>0</td>\n",
              "      <td>0</td>\n",
              "      <td>0</td>\n",
              "      <td>0</td>\n",
              "      <td>0</td>\n",
              "      <td>0</td>\n",
              "    </tr>\n",
              "  </tbody>\n",
              "</table>\n",
              "<p>5 rows × 31 columns</p>\n",
              "</div>\n",
              "      <button class=\"colab-df-convert\" onclick=\"convertToInteractive('df-04b01d3e-c622-42bc-87bb-f1fa2c536775')\"\n",
              "              title=\"Convert this dataframe to an interactive table.\"\n",
              "              style=\"display:none;\">\n",
              "        \n",
              "  <svg xmlns=\"http://www.w3.org/2000/svg\" height=\"24px\"viewBox=\"0 0 24 24\"\n",
              "       width=\"24px\">\n",
              "    <path d=\"M0 0h24v24H0V0z\" fill=\"none\"/>\n",
              "    <path d=\"M18.56 5.44l.94 2.06.94-2.06 2.06-.94-2.06-.94-.94-2.06-.94 2.06-2.06.94zm-11 1L8.5 8.5l.94-2.06 2.06-.94-2.06-.94L8.5 2.5l-.94 2.06-2.06.94zm10 10l.94 2.06.94-2.06 2.06-.94-2.06-.94-.94-2.06-.94 2.06-2.06.94z\"/><path d=\"M17.41 7.96l-1.37-1.37c-.4-.4-.92-.59-1.43-.59-.52 0-1.04.2-1.43.59L10.3 9.45l-7.72 7.72c-.78.78-.78 2.05 0 2.83L4 21.41c.39.39.9.59 1.41.59.51 0 1.02-.2 1.41-.59l7.78-7.78 2.81-2.81c.8-.78.8-2.07 0-2.86zM5.41 20L4 18.59l7.72-7.72 1.47 1.35L5.41 20z\"/>\n",
              "  </svg>\n",
              "      </button>\n",
              "      \n",
              "  <style>\n",
              "    .colab-df-container {\n",
              "      display:flex;\n",
              "      flex-wrap:wrap;\n",
              "      gap: 12px;\n",
              "    }\n",
              "\n",
              "    .colab-df-convert {\n",
              "      background-color: #E8F0FE;\n",
              "      border: none;\n",
              "      border-radius: 50%;\n",
              "      cursor: pointer;\n",
              "      display: none;\n",
              "      fill: #1967D2;\n",
              "      height: 32px;\n",
              "      padding: 0 0 0 0;\n",
              "      width: 32px;\n",
              "    }\n",
              "\n",
              "    .colab-df-convert:hover {\n",
              "      background-color: #E2EBFA;\n",
              "      box-shadow: 0px 1px 2px rgba(60, 64, 67, 0.3), 0px 1px 3px 1px rgba(60, 64, 67, 0.15);\n",
              "      fill: #174EA6;\n",
              "    }\n",
              "\n",
              "    [theme=dark] .colab-df-convert {\n",
              "      background-color: #3B4455;\n",
              "      fill: #D2E3FC;\n",
              "    }\n",
              "\n",
              "    [theme=dark] .colab-df-convert:hover {\n",
              "      background-color: #434B5C;\n",
              "      box-shadow: 0px 1px 3px 1px rgba(0, 0, 0, 0.15);\n",
              "      filter: drop-shadow(0px 1px 2px rgba(0, 0, 0, 0.3));\n",
              "      fill: #FFFFFF;\n",
              "    }\n",
              "  </style>\n",
              "\n",
              "      <script>\n",
              "        const buttonEl =\n",
              "          document.querySelector('#df-04b01d3e-c622-42bc-87bb-f1fa2c536775 button.colab-df-convert');\n",
              "        buttonEl.style.display =\n",
              "          google.colab.kernel.accessAllowed ? 'block' : 'none';\n",
              "\n",
              "        async function convertToInteractive(key) {\n",
              "          const element = document.querySelector('#df-04b01d3e-c622-42bc-87bb-f1fa2c536775');\n",
              "          const dataTable =\n",
              "            await google.colab.kernel.invokeFunction('convertToInteractive',\n",
              "                                                     [key], {});\n",
              "          if (!dataTable) return;\n",
              "\n",
              "          const docLinkHtml = 'Like what you see? Visit the ' +\n",
              "            '<a target=\"_blank\" href=https://colab.research.google.com/notebooks/data_table.ipynb>data table notebook</a>'\n",
              "            + ' to learn more about interactive tables.';\n",
              "          element.innerHTML = '';\n",
              "          dataTable['output_type'] = 'display_data';\n",
              "          await google.colab.output.renderOutput(dataTable, element);\n",
              "          const docLink = document.createElement('div');\n",
              "          docLink.innerHTML = docLinkHtml;\n",
              "          element.appendChild(docLink);\n",
              "        }\n",
              "      </script>\n",
              "    </div>\n",
              "  </div>\n",
              "  "
            ]
          },
          "metadata": {},
          "execution_count": 121
        }
      ],
      "source": [
        "docs= pd.read_csv(\"https://raw.githubusercontent.com/DayBS/Machine-learning/main/2do-dataset/train.csv\")\n",
        "docs.head(5)\n"
      ]
    },
    {
      "cell_type": "markdown",
      "metadata": {
        "id": "KNToSe21Aakh"
      },
      "source": [
        "**2. Limpieza de datos**"
      ]
    },
    {
      "cell_type": "markdown",
      "metadata": {
        "id": "R5KnYTosAtC0"
      },
      "source": [
        "Para realizar la prediccion solo necesitaremos el texto de cada documento"
      ]
    },
    {
      "cell_type": "code",
      "execution_count": null,
      "metadata": {
        "id": "kKz6Jf9SCDX0"
      },
      "outputs": [],
      "source": [
        "docs.columns=docs.columns.str.lower().str.replace(\" \",\"_\",regex=True)"
      ]
    },
    {
      "cell_type": "code",
      "source": [
        "docs.head(5)"
      ],
      "metadata": {
        "colab": {
          "base_uri": "https://localhost:8080/",
          "height": 577
        },
        "id": "gKa_8R3h1sSo",
        "outputId": "a4bb4147-ba9d-4e5b-9398-7c33a12b7862"
      },
      "execution_count": null,
      "outputs": [
        {
          "output_type": "execute_result",
          "data": {
            "text/plain": [
              "     id                                           abstract  computer_science  \\\n",
              "0  1824  a ever-growing datasets inside observational a...                 0   \n",
              "1  3094  we propose the framework considering optimal $...                 1   \n",
              "2  8463  nanostructures with open shell transition meta...                 0   \n",
              "3  2082  stars are self-gravitating fluids inside which...                 0   \n",
              "4  8687  deep neural perception and control networks ar...                 1   \n",
              "\n",
              "   mathematics  physics  statistics  analysis_of_pdes  applications  \\\n",
              "0            0        1           0                 0             0   \n",
              "1            0        0           0                 0             0   \n",
              "2            0        1           0                 0             0   \n",
              "3            0        1           0                 0             0   \n",
              "4            0        0           0                 0             0   \n",
              "\n",
              "   artificial_intelligence  astrophysics_of_galaxies  ...  methodology  \\\n",
              "0                        0                         0  ...            0   \n",
              "1                        0                         0  ...            0   \n",
              "2                        0                         0  ...            0   \n",
              "3                        0                         0  ...            0   \n",
              "4                        0                         0  ...            0   \n",
              "\n",
              "   number_theory  optimization_and_control  representation_theory  robotics  \\\n",
              "0              0                         0                      0         0   \n",
              "1              0                         0                      0         0   \n",
              "2              0                         0                      0         0   \n",
              "3              0                         0                      0         0   \n",
              "4              0                         0                      0         0   \n",
              "\n",
              "   social_and_information_networks  statistics_theory  \\\n",
              "0                                0                  0   \n",
              "1                                0                  0   \n",
              "2                                0                  0   \n",
              "3                                0                  0   \n",
              "4                                0                  0   \n",
              "\n",
              "   strongly_correlated_electrons  superconductivity  systems_and_control  \n",
              "0                              0                  0                    0  \n",
              "1                              0                  0                    0  \n",
              "2                              1                  0                    0  \n",
              "3                              0                  0                    0  \n",
              "4                              0                  0                    0  \n",
              "\n",
              "[5 rows x 31 columns]"
            ],
            "text/html": [
              "\n",
              "  <div id=\"df-664bf9b9-fbf8-4845-9a9f-82156c4f576e\">\n",
              "    <div class=\"colab-df-container\">\n",
              "      <div>\n",
              "<style scoped>\n",
              "    .dataframe tbody tr th:only-of-type {\n",
              "        vertical-align: middle;\n",
              "    }\n",
              "\n",
              "    .dataframe tbody tr th {\n",
              "        vertical-align: top;\n",
              "    }\n",
              "\n",
              "    .dataframe thead th {\n",
              "        text-align: right;\n",
              "    }\n",
              "</style>\n",
              "<table border=\"1\" class=\"dataframe\">\n",
              "  <thead>\n",
              "    <tr style=\"text-align: right;\">\n",
              "      <th></th>\n",
              "      <th>id</th>\n",
              "      <th>abstract</th>\n",
              "      <th>computer_science</th>\n",
              "      <th>mathematics</th>\n",
              "      <th>physics</th>\n",
              "      <th>statistics</th>\n",
              "      <th>analysis_of_pdes</th>\n",
              "      <th>applications</th>\n",
              "      <th>artificial_intelligence</th>\n",
              "      <th>astrophysics_of_galaxies</th>\n",
              "      <th>...</th>\n",
              "      <th>methodology</th>\n",
              "      <th>number_theory</th>\n",
              "      <th>optimization_and_control</th>\n",
              "      <th>representation_theory</th>\n",
              "      <th>robotics</th>\n",
              "      <th>social_and_information_networks</th>\n",
              "      <th>statistics_theory</th>\n",
              "      <th>strongly_correlated_electrons</th>\n",
              "      <th>superconductivity</th>\n",
              "      <th>systems_and_control</th>\n",
              "    </tr>\n",
              "  </thead>\n",
              "  <tbody>\n",
              "    <tr>\n",
              "      <th>0</th>\n",
              "      <td>1824</td>\n",
              "      <td>a ever-growing datasets inside observational a...</td>\n",
              "      <td>0</td>\n",
              "      <td>0</td>\n",
              "      <td>1</td>\n",
              "      <td>0</td>\n",
              "      <td>0</td>\n",
              "      <td>0</td>\n",
              "      <td>0</td>\n",
              "      <td>0</td>\n",
              "      <td>...</td>\n",
              "      <td>0</td>\n",
              "      <td>0</td>\n",
              "      <td>0</td>\n",
              "      <td>0</td>\n",
              "      <td>0</td>\n",
              "      <td>0</td>\n",
              "      <td>0</td>\n",
              "      <td>0</td>\n",
              "      <td>0</td>\n",
              "      <td>0</td>\n",
              "    </tr>\n",
              "    <tr>\n",
              "      <th>1</th>\n",
              "      <td>3094</td>\n",
              "      <td>we propose the framework considering optimal $...</td>\n",
              "      <td>1</td>\n",
              "      <td>0</td>\n",
              "      <td>0</td>\n",
              "      <td>0</td>\n",
              "      <td>0</td>\n",
              "      <td>0</td>\n",
              "      <td>0</td>\n",
              "      <td>0</td>\n",
              "      <td>...</td>\n",
              "      <td>0</td>\n",
              "      <td>0</td>\n",
              "      <td>0</td>\n",
              "      <td>0</td>\n",
              "      <td>0</td>\n",
              "      <td>0</td>\n",
              "      <td>0</td>\n",
              "      <td>0</td>\n",
              "      <td>0</td>\n",
              "      <td>0</td>\n",
              "    </tr>\n",
              "    <tr>\n",
              "      <th>2</th>\n",
              "      <td>8463</td>\n",
              "      <td>nanostructures with open shell transition meta...</td>\n",
              "      <td>0</td>\n",
              "      <td>0</td>\n",
              "      <td>1</td>\n",
              "      <td>0</td>\n",
              "      <td>0</td>\n",
              "      <td>0</td>\n",
              "      <td>0</td>\n",
              "      <td>0</td>\n",
              "      <td>...</td>\n",
              "      <td>0</td>\n",
              "      <td>0</td>\n",
              "      <td>0</td>\n",
              "      <td>0</td>\n",
              "      <td>0</td>\n",
              "      <td>0</td>\n",
              "      <td>0</td>\n",
              "      <td>1</td>\n",
              "      <td>0</td>\n",
              "      <td>0</td>\n",
              "    </tr>\n",
              "    <tr>\n",
              "      <th>3</th>\n",
              "      <td>2082</td>\n",
              "      <td>stars are self-gravitating fluids inside which...</td>\n",
              "      <td>0</td>\n",
              "      <td>0</td>\n",
              "      <td>1</td>\n",
              "      <td>0</td>\n",
              "      <td>0</td>\n",
              "      <td>0</td>\n",
              "      <td>0</td>\n",
              "      <td>0</td>\n",
              "      <td>...</td>\n",
              "      <td>0</td>\n",
              "      <td>0</td>\n",
              "      <td>0</td>\n",
              "      <td>0</td>\n",
              "      <td>0</td>\n",
              "      <td>0</td>\n",
              "      <td>0</td>\n",
              "      <td>0</td>\n",
              "      <td>0</td>\n",
              "      <td>0</td>\n",
              "    </tr>\n",
              "    <tr>\n",
              "      <th>4</th>\n",
              "      <td>8687</td>\n",
              "      <td>deep neural perception and control networks ar...</td>\n",
              "      <td>1</td>\n",
              "      <td>0</td>\n",
              "      <td>0</td>\n",
              "      <td>0</td>\n",
              "      <td>0</td>\n",
              "      <td>0</td>\n",
              "      <td>0</td>\n",
              "      <td>0</td>\n",
              "      <td>...</td>\n",
              "      <td>0</td>\n",
              "      <td>0</td>\n",
              "      <td>0</td>\n",
              "      <td>0</td>\n",
              "      <td>0</td>\n",
              "      <td>0</td>\n",
              "      <td>0</td>\n",
              "      <td>0</td>\n",
              "      <td>0</td>\n",
              "      <td>0</td>\n",
              "    </tr>\n",
              "  </tbody>\n",
              "</table>\n",
              "<p>5 rows × 31 columns</p>\n",
              "</div>\n",
              "      <button class=\"colab-df-convert\" onclick=\"convertToInteractive('df-664bf9b9-fbf8-4845-9a9f-82156c4f576e')\"\n",
              "              title=\"Convert this dataframe to an interactive table.\"\n",
              "              style=\"display:none;\">\n",
              "        \n",
              "  <svg xmlns=\"http://www.w3.org/2000/svg\" height=\"24px\"viewBox=\"0 0 24 24\"\n",
              "       width=\"24px\">\n",
              "    <path d=\"M0 0h24v24H0V0z\" fill=\"none\"/>\n",
              "    <path d=\"M18.56 5.44l.94 2.06.94-2.06 2.06-.94-2.06-.94-.94-2.06-.94 2.06-2.06.94zm-11 1L8.5 8.5l.94-2.06 2.06-.94-2.06-.94L8.5 2.5l-.94 2.06-2.06.94zm10 10l.94 2.06.94-2.06 2.06-.94-2.06-.94-.94-2.06-.94 2.06-2.06.94z\"/><path d=\"M17.41 7.96l-1.37-1.37c-.4-.4-.92-.59-1.43-.59-.52 0-1.04.2-1.43.59L10.3 9.45l-7.72 7.72c-.78.78-.78 2.05 0 2.83L4 21.41c.39.39.9.59 1.41.59.51 0 1.02-.2 1.41-.59l7.78-7.78 2.81-2.81c.8-.78.8-2.07 0-2.86zM5.41 20L4 18.59l7.72-7.72 1.47 1.35L5.41 20z\"/>\n",
              "  </svg>\n",
              "      </button>\n",
              "      \n",
              "  <style>\n",
              "    .colab-df-container {\n",
              "      display:flex;\n",
              "      flex-wrap:wrap;\n",
              "      gap: 12px;\n",
              "    }\n",
              "\n",
              "    .colab-df-convert {\n",
              "      background-color: #E8F0FE;\n",
              "      border: none;\n",
              "      border-radius: 50%;\n",
              "      cursor: pointer;\n",
              "      display: none;\n",
              "      fill: #1967D2;\n",
              "      height: 32px;\n",
              "      padding: 0 0 0 0;\n",
              "      width: 32px;\n",
              "    }\n",
              "\n",
              "    .colab-df-convert:hover {\n",
              "      background-color: #E2EBFA;\n",
              "      box-shadow: 0px 1px 2px rgba(60, 64, 67, 0.3), 0px 1px 3px 1px rgba(60, 64, 67, 0.15);\n",
              "      fill: #174EA6;\n",
              "    }\n",
              "\n",
              "    [theme=dark] .colab-df-convert {\n",
              "      background-color: #3B4455;\n",
              "      fill: #D2E3FC;\n",
              "    }\n",
              "\n",
              "    [theme=dark] .colab-df-convert:hover {\n",
              "      background-color: #434B5C;\n",
              "      box-shadow: 0px 1px 3px 1px rgba(0, 0, 0, 0.15);\n",
              "      filter: drop-shadow(0px 1px 2px rgba(0, 0, 0, 0.3));\n",
              "      fill: #FFFFFF;\n",
              "    }\n",
              "  </style>\n",
              "\n",
              "      <script>\n",
              "        const buttonEl =\n",
              "          document.querySelector('#df-664bf9b9-fbf8-4845-9a9f-82156c4f576e button.colab-df-convert');\n",
              "        buttonEl.style.display =\n",
              "          google.colab.kernel.accessAllowed ? 'block' : 'none';\n",
              "\n",
              "        async function convertToInteractive(key) {\n",
              "          const element = document.querySelector('#df-664bf9b9-fbf8-4845-9a9f-82156c4f576e');\n",
              "          const dataTable =\n",
              "            await google.colab.kernel.invokeFunction('convertToInteractive',\n",
              "                                                     [key], {});\n",
              "          if (!dataTable) return;\n",
              "\n",
              "          const docLinkHtml = 'Like what you see? Visit the ' +\n",
              "            '<a target=\"_blank\" href=https://colab.research.google.com/notebooks/data_table.ipynb>data table notebook</a>'\n",
              "            + ' to learn more about interactive tables.';\n",
              "          element.innerHTML = '';\n",
              "          dataTable['output_type'] = 'display_data';\n",
              "          await google.colab.output.renderOutput(dataTable, element);\n",
              "          const docLink = document.createElement('div');\n",
              "          docLink.innerHTML = docLinkHtml;\n",
              "          element.appendChild(docLink);\n",
              "        }\n",
              "      </script>\n",
              "    </div>\n",
              "  </div>\n",
              "  "
            ]
          },
          "metadata": {},
          "execution_count": 123
        }
      ]
    },
    {
      "cell_type": "code",
      "execution_count": null,
      "metadata": {
        "colab": {
          "base_uri": "https://localhost:8080/"
        },
        "id": "1JPrGlCoCJVW",
        "outputId": "6013eeff-dcce-463e-9a9d-2c628882ca73"
      },
      "outputs": [
        {
          "output_type": "stream",
          "name": "stdout",
          "text": [
            "<class 'pandas.core.frame.DataFrame'>\n",
            "RangeIndex: 14004 entries, 0 to 14003\n",
            "Data columns (total 31 columns):\n",
            " #   Column                                        Non-Null Count  Dtype \n",
            "---  ------                                        --------------  ----- \n",
            " 0   id                                            14004 non-null  int64 \n",
            " 1   abstract                                      14004 non-null  object\n",
            " 2   computer_science                              14004 non-null  int64 \n",
            " 3   mathematics                                   14004 non-null  int64 \n",
            " 4   physics                                       14004 non-null  int64 \n",
            " 5   statistics                                    14004 non-null  int64 \n",
            " 6   analysis_of_pdes                              14004 non-null  int64 \n",
            " 7   applications                                  14004 non-null  int64 \n",
            " 8   artificial_intelligence                       14004 non-null  int64 \n",
            " 9   astrophysics_of_galaxies                      14004 non-null  int64 \n",
            " 10  computation_and_language                      14004 non-null  int64 \n",
            " 11  computer_vision_and_pattern_recognition       14004 non-null  int64 \n",
            " 12  cosmology_and_nongalactic_astrophysics        14004 non-null  int64 \n",
            " 13  data_structures_and_algorithms                14004 non-null  int64 \n",
            " 14  differential_geometry                         14004 non-null  int64 \n",
            " 15  earth_and_planetary_astrophysics              14004 non-null  int64 \n",
            " 16  fluid_dynamics                                14004 non-null  int64 \n",
            " 17  information_theory                            14004 non-null  int64 \n",
            " 18  instrumentation_and_methods_for_astrophysics  14004 non-null  int64 \n",
            " 19  machine_learning                              14004 non-null  int64 \n",
            " 20  materials_science                             14004 non-null  int64 \n",
            " 21  methodology                                   14004 non-null  int64 \n",
            " 22  number_theory                                 14004 non-null  int64 \n",
            " 23  optimization_and_control                      14004 non-null  int64 \n",
            " 24  representation_theory                         14004 non-null  int64 \n",
            " 25  robotics                                      14004 non-null  int64 \n",
            " 26  social_and_information_networks               14004 non-null  int64 \n",
            " 27  statistics_theory                             14004 non-null  int64 \n",
            " 28  strongly_correlated_electrons                 14004 non-null  int64 \n",
            " 29  superconductivity                             14004 non-null  int64 \n",
            " 30  systems_and_control                           14004 non-null  int64 \n",
            "dtypes: int64(30), object(1)\n",
            "memory usage: 3.3+ MB\n"
          ]
        }
      ],
      "source": [
        "docs.info()"
      ]
    },
    {
      "cell_type": "code",
      "execution_count": null,
      "metadata": {
        "colab": {
          "base_uri": "https://localhost:8080/",
          "height": 206
        },
        "id": "oVBGZ1sQZzoK",
        "outputId": "785de6d8-a946-4e9b-9923-fc9821d2ce17"
      },
      "outputs": [
        {
          "output_type": "execute_result",
          "data": {
            "text/plain": [
              "                                            abstract\n",
              "0  a ever-growing datasets inside observational a...\n",
              "1  we propose the framework considering optimal $...\n",
              "2  nanostructures with open shell transition meta...\n",
              "3  stars are self-gravitating fluids inside which...\n",
              "4  deep neural perception and control networks ar..."
            ],
            "text/html": [
              "\n",
              "  <div id=\"df-5d87ebe7-29df-4de3-9ac4-4cb3b60a6f1a\">\n",
              "    <div class=\"colab-df-container\">\n",
              "      <div>\n",
              "<style scoped>\n",
              "    .dataframe tbody tr th:only-of-type {\n",
              "        vertical-align: middle;\n",
              "    }\n",
              "\n",
              "    .dataframe tbody tr th {\n",
              "        vertical-align: top;\n",
              "    }\n",
              "\n",
              "    .dataframe thead th {\n",
              "        text-align: right;\n",
              "    }\n",
              "</style>\n",
              "<table border=\"1\" class=\"dataframe\">\n",
              "  <thead>\n",
              "    <tr style=\"text-align: right;\">\n",
              "      <th></th>\n",
              "      <th>abstract</th>\n",
              "    </tr>\n",
              "  </thead>\n",
              "  <tbody>\n",
              "    <tr>\n",
              "      <th>0</th>\n",
              "      <td>a ever-growing datasets inside observational a...</td>\n",
              "    </tr>\n",
              "    <tr>\n",
              "      <th>1</th>\n",
              "      <td>we propose the framework considering optimal $...</td>\n",
              "    </tr>\n",
              "    <tr>\n",
              "      <th>2</th>\n",
              "      <td>nanostructures with open shell transition meta...</td>\n",
              "    </tr>\n",
              "    <tr>\n",
              "      <th>3</th>\n",
              "      <td>stars are self-gravitating fluids inside which...</td>\n",
              "    </tr>\n",
              "    <tr>\n",
              "      <th>4</th>\n",
              "      <td>deep neural perception and control networks ar...</td>\n",
              "    </tr>\n",
              "  </tbody>\n",
              "</table>\n",
              "</div>\n",
              "      <button class=\"colab-df-convert\" onclick=\"convertToInteractive('df-5d87ebe7-29df-4de3-9ac4-4cb3b60a6f1a')\"\n",
              "              title=\"Convert this dataframe to an interactive table.\"\n",
              "              style=\"display:none;\">\n",
              "        \n",
              "  <svg xmlns=\"http://www.w3.org/2000/svg\" height=\"24px\"viewBox=\"0 0 24 24\"\n",
              "       width=\"24px\">\n",
              "    <path d=\"M0 0h24v24H0V0z\" fill=\"none\"/>\n",
              "    <path d=\"M18.56 5.44l.94 2.06.94-2.06 2.06-.94-2.06-.94-.94-2.06-.94 2.06-2.06.94zm-11 1L8.5 8.5l.94-2.06 2.06-.94-2.06-.94L8.5 2.5l-.94 2.06-2.06.94zm10 10l.94 2.06.94-2.06 2.06-.94-2.06-.94-.94-2.06-.94 2.06-2.06.94z\"/><path d=\"M17.41 7.96l-1.37-1.37c-.4-.4-.92-.59-1.43-.59-.52 0-1.04.2-1.43.59L10.3 9.45l-7.72 7.72c-.78.78-.78 2.05 0 2.83L4 21.41c.39.39.9.59 1.41.59.51 0 1.02-.2 1.41-.59l7.78-7.78 2.81-2.81c.8-.78.8-2.07 0-2.86zM5.41 20L4 18.59l7.72-7.72 1.47 1.35L5.41 20z\"/>\n",
              "  </svg>\n",
              "      </button>\n",
              "      \n",
              "  <style>\n",
              "    .colab-df-container {\n",
              "      display:flex;\n",
              "      flex-wrap:wrap;\n",
              "      gap: 12px;\n",
              "    }\n",
              "\n",
              "    .colab-df-convert {\n",
              "      background-color: #E8F0FE;\n",
              "      border: none;\n",
              "      border-radius: 50%;\n",
              "      cursor: pointer;\n",
              "      display: none;\n",
              "      fill: #1967D2;\n",
              "      height: 32px;\n",
              "      padding: 0 0 0 0;\n",
              "      width: 32px;\n",
              "    }\n",
              "\n",
              "    .colab-df-convert:hover {\n",
              "      background-color: #E2EBFA;\n",
              "      box-shadow: 0px 1px 2px rgba(60, 64, 67, 0.3), 0px 1px 3px 1px rgba(60, 64, 67, 0.15);\n",
              "      fill: #174EA6;\n",
              "    }\n",
              "\n",
              "    [theme=dark] .colab-df-convert {\n",
              "      background-color: #3B4455;\n",
              "      fill: #D2E3FC;\n",
              "    }\n",
              "\n",
              "    [theme=dark] .colab-df-convert:hover {\n",
              "      background-color: #434B5C;\n",
              "      box-shadow: 0px 1px 3px 1px rgba(0, 0, 0, 0.15);\n",
              "      filter: drop-shadow(0px 1px 2px rgba(0, 0, 0, 0.3));\n",
              "      fill: #FFFFFF;\n",
              "    }\n",
              "  </style>\n",
              "\n",
              "      <script>\n",
              "        const buttonEl =\n",
              "          document.querySelector('#df-5d87ebe7-29df-4de3-9ac4-4cb3b60a6f1a button.colab-df-convert');\n",
              "        buttonEl.style.display =\n",
              "          google.colab.kernel.accessAllowed ? 'block' : 'none';\n",
              "\n",
              "        async function convertToInteractive(key) {\n",
              "          const element = document.querySelector('#df-5d87ebe7-29df-4de3-9ac4-4cb3b60a6f1a');\n",
              "          const dataTable =\n",
              "            await google.colab.kernel.invokeFunction('convertToInteractive',\n",
              "                                                     [key], {});\n",
              "          if (!dataTable) return;\n",
              "\n",
              "          const docLinkHtml = 'Like what you see? Visit the ' +\n",
              "            '<a target=\"_blank\" href=https://colab.research.google.com/notebooks/data_table.ipynb>data table notebook</a>'\n",
              "            + ' to learn more about interactive tables.';\n",
              "          element.innerHTML = '';\n",
              "          dataTable['output_type'] = 'display_data';\n",
              "          await google.colab.output.renderOutput(dataTable, element);\n",
              "          const docLink = document.createElement('div');\n",
              "          docLink.innerHTML = docLinkHtml;\n",
              "          element.appendChild(docLink);\n",
              "        }\n",
              "      </script>\n",
              "    </div>\n",
              "  </div>\n",
              "  "
            ]
          },
          "metadata": {},
          "execution_count": 125
        }
      ],
      "source": [
        "\n",
        "docs = docs.drop(columns=[\n",
        "'id','computer_science','mathematics','physics','statistics','analysis_of_pdes','applications',  \n",
        "'artificial_intelligence','astrophysics_of_galaxies','computation_and_language','computer_vision_and_pattern_recognition',   \n",
        "'cosmology_and_nongalactic_astrophysics','data_structures_and_algorithms','differential_geometry',             \n",
        "'earth_and_planetary_astrophysics', 'fluid_dynamics', 'information_theory','instrumentation_and_methods_for_astrophysics',  \n",
        "'machine_learning',          \n",
        "'materials_science',\n",
        "'methodology',              \n",
        "'number_theory',                  \n",
        "'optimization_and_control',       \n",
        "'representation_theory',         \n",
        "'robotics',            \n",
        "'social_and_information_networks', \n",
        "'statistics_theory',                  \n",
        "'strongly_correlated_electrons',              \n",
        "'superconductivity',                      \n",
        "'systems_and_control'                      \n",
        " ], axis=1)\n",
        "\n",
        "docs.head()"
      ]
    },
    {
      "cell_type": "code",
      "execution_count": null,
      "metadata": {
        "colab": {
          "base_uri": "https://localhost:8080/"
        },
        "id": "zOVnUIevDgx0",
        "outputId": "fdc862b5-6b27-4227-a478-78805921255c"
      },
      "outputs": [
        {
          "output_type": "stream",
          "name": "stdout",
          "text": [
            "<class 'pandas.core.frame.DataFrame'>\n",
            "RangeIndex: 14004 entries, 0 to 14003\n",
            "Data columns (total 1 columns):\n",
            " #   Column    Non-Null Count  Dtype \n",
            "---  ------    --------------  ----- \n",
            " 0   abstract  14004 non-null  object\n",
            "dtypes: object(1)\n",
            "memory usage: 109.5+ KB\n"
          ]
        }
      ],
      "source": [
        "docs.info()"
      ]
    },
    {
      "cell_type": "markdown",
      "metadata": {
        "id": "YtyGWFrhRfbM"
      },
      "source": [
        "se realizara un preprocesamiento simple en el contenido del abstract ‎‎para que los resultados del analisis sean mas confiables \n",
        "Para hacer eso, se usara una expresión regular para eliminar cualquier puntuación y luego ‎‎pondremos el texto en minúsculas‎‎.‎"
      ]
    },
    {
      "cell_type": "code",
      "execution_count": null,
      "metadata": {
        "colab": {
          "base_uri": "https://localhost:8080/",
          "height": 320
        },
        "id": "YbckUGyuZzp4",
        "outputId": "58997878-60e9-4fad-bcf0-adb9570c3ef5"
      },
      "outputs": [
        {
          "output_type": "execute_result",
          "data": {
            "text/plain": [
              "                                            abstract  \\\n",
              "0  a ever-growing datasets inside observational a...   \n",
              "1  we propose the framework considering optimal $...   \n",
              "2  nanostructures with open shell transition meta...   \n",
              "3  stars are self-gravitating fluids inside which...   \n",
              "4  deep neural perception and control networks ar...   \n",
              "\n",
              "                                     docs_procesados  \n",
              "0  a ever-growing datasets inside observational a...  \n",
              "1  we propose the framework considering optimal t...  \n",
              "2  nanostructures with open shell transition meta...  \n",
              "3  stars are self-gravitating fluids inside which...  \n",
              "4  deep neural perception and control networks ar...  "
            ],
            "text/html": [
              "\n",
              "  <div id=\"df-50004c30-3e2a-4d90-9d00-d2558ce93ec0\">\n",
              "    <div class=\"colab-df-container\">\n",
              "      <div>\n",
              "<style scoped>\n",
              "    .dataframe tbody tr th:only-of-type {\n",
              "        vertical-align: middle;\n",
              "    }\n",
              "\n",
              "    .dataframe tbody tr th {\n",
              "        vertical-align: top;\n",
              "    }\n",
              "\n",
              "    .dataframe thead th {\n",
              "        text-align: right;\n",
              "    }\n",
              "</style>\n",
              "<table border=\"1\" class=\"dataframe\">\n",
              "  <thead>\n",
              "    <tr style=\"text-align: right;\">\n",
              "      <th></th>\n",
              "      <th>abstract</th>\n",
              "      <th>docs_procesados</th>\n",
              "    </tr>\n",
              "  </thead>\n",
              "  <tbody>\n",
              "    <tr>\n",
              "      <th>0</th>\n",
              "      <td>a ever-growing datasets inside observational a...</td>\n",
              "      <td>a ever-growing datasets inside observational a...</td>\n",
              "    </tr>\n",
              "    <tr>\n",
              "      <th>1</th>\n",
              "      <td>we propose the framework considering optimal $...</td>\n",
              "      <td>we propose the framework considering optimal t...</td>\n",
              "    </tr>\n",
              "    <tr>\n",
              "      <th>2</th>\n",
              "      <td>nanostructures with open shell transition meta...</td>\n",
              "      <td>nanostructures with open shell transition meta...</td>\n",
              "    </tr>\n",
              "    <tr>\n",
              "      <th>3</th>\n",
              "      <td>stars are self-gravitating fluids inside which...</td>\n",
              "      <td>stars are self-gravitating fluids inside which...</td>\n",
              "    </tr>\n",
              "    <tr>\n",
              "      <th>4</th>\n",
              "      <td>deep neural perception and control networks ar...</td>\n",
              "      <td>deep neural perception and control networks ar...</td>\n",
              "    </tr>\n",
              "  </tbody>\n",
              "</table>\n",
              "</div>\n",
              "      <button class=\"colab-df-convert\" onclick=\"convertToInteractive('df-50004c30-3e2a-4d90-9d00-d2558ce93ec0')\"\n",
              "              title=\"Convert this dataframe to an interactive table.\"\n",
              "              style=\"display:none;\">\n",
              "        \n",
              "  <svg xmlns=\"http://www.w3.org/2000/svg\" height=\"24px\"viewBox=\"0 0 24 24\"\n",
              "       width=\"24px\">\n",
              "    <path d=\"M0 0h24v24H0V0z\" fill=\"none\"/>\n",
              "    <path d=\"M18.56 5.44l.94 2.06.94-2.06 2.06-.94-2.06-.94-.94-2.06-.94 2.06-2.06.94zm-11 1L8.5 8.5l.94-2.06 2.06-.94-2.06-.94L8.5 2.5l-.94 2.06-2.06.94zm10 10l.94 2.06.94-2.06 2.06-.94-2.06-.94-.94-2.06-.94 2.06-2.06.94z\"/><path d=\"M17.41 7.96l-1.37-1.37c-.4-.4-.92-.59-1.43-.59-.52 0-1.04.2-1.43.59L10.3 9.45l-7.72 7.72c-.78.78-.78 2.05 0 2.83L4 21.41c.39.39.9.59 1.41.59.51 0 1.02-.2 1.41-.59l7.78-7.78 2.81-2.81c.8-.78.8-2.07 0-2.86zM5.41 20L4 18.59l7.72-7.72 1.47 1.35L5.41 20z\"/>\n",
              "  </svg>\n",
              "      </button>\n",
              "      \n",
              "  <style>\n",
              "    .colab-df-container {\n",
              "      display:flex;\n",
              "      flex-wrap:wrap;\n",
              "      gap: 12px;\n",
              "    }\n",
              "\n",
              "    .colab-df-convert {\n",
              "      background-color: #E8F0FE;\n",
              "      border: none;\n",
              "      border-radius: 50%;\n",
              "      cursor: pointer;\n",
              "      display: none;\n",
              "      fill: #1967D2;\n",
              "      height: 32px;\n",
              "      padding: 0 0 0 0;\n",
              "      width: 32px;\n",
              "    }\n",
              "\n",
              "    .colab-df-convert:hover {\n",
              "      background-color: #E2EBFA;\n",
              "      box-shadow: 0px 1px 2px rgba(60, 64, 67, 0.3), 0px 1px 3px 1px rgba(60, 64, 67, 0.15);\n",
              "      fill: #174EA6;\n",
              "    }\n",
              "\n",
              "    [theme=dark] .colab-df-convert {\n",
              "      background-color: #3B4455;\n",
              "      fill: #D2E3FC;\n",
              "    }\n",
              "\n",
              "    [theme=dark] .colab-df-convert:hover {\n",
              "      background-color: #434B5C;\n",
              "      box-shadow: 0px 1px 3px 1px rgba(0, 0, 0, 0.15);\n",
              "      filter: drop-shadow(0px 1px 2px rgba(0, 0, 0, 0.3));\n",
              "      fill: #FFFFFF;\n",
              "    }\n",
              "  </style>\n",
              "\n",
              "      <script>\n",
              "        const buttonEl =\n",
              "          document.querySelector('#df-50004c30-3e2a-4d90-9d00-d2558ce93ec0 button.colab-df-convert');\n",
              "        buttonEl.style.display =\n",
              "          google.colab.kernel.accessAllowed ? 'block' : 'none';\n",
              "\n",
              "        async function convertToInteractive(key) {\n",
              "          const element = document.querySelector('#df-50004c30-3e2a-4d90-9d00-d2558ce93ec0');\n",
              "          const dataTable =\n",
              "            await google.colab.kernel.invokeFunction('convertToInteractive',\n",
              "                                                     [key], {});\n",
              "          if (!dataTable) return;\n",
              "\n",
              "          const docLinkHtml = 'Like what you see? Visit the ' +\n",
              "            '<a target=\"_blank\" href=https://colab.research.google.com/notebooks/data_table.ipynb>data table notebook</a>'\n",
              "            + ' to learn more about interactive tables.';\n",
              "          element.innerHTML = '';\n",
              "          dataTable['output_type'] = 'display_data';\n",
              "          await google.colab.output.renderOutput(dataTable, element);\n",
              "          const docLink = document.createElement('div');\n",
              "          docLink.innerHTML = docLinkHtml;\n",
              "          element.appendChild(docLink);\n",
              "        }\n",
              "      </script>\n",
              "    </div>\n",
              "  </div>\n",
              "  "
            ]
          },
          "metadata": {},
          "execution_count": 127
        }
      ],
      "source": [
        "#libreria para usar expresiones regulares\n",
        "import re\n",
        "# Eliminar los caracteres como puntos, simbolos de dolar, comas, etc.\n",
        "docs['docs_procesados'] = \\\n",
        "docs['abstract'].map(lambda x: re.sub('[$,\\.!?_]', '', x))\n",
        "# LLevar las palabras a minusculas\n",
        "docs['docs_procesados'] = \\\n",
        "docs['docs_procesados'].map(lambda x: x.lower())\n",
        "# Visualizar la columna de datos procesados\n",
        "docs.head()\n"
      ]
    },
    {
      "cell_type": "code",
      "execution_count": null,
      "metadata": {
        "colab": {
          "base_uri": "https://localhost:8080/",
          "height": 320
        },
        "id": "cj8M8VRvZzsy",
        "outputId": "7c8ff653-3cac-45be-f564-40ff7227cf2a"
      },
      "outputs": [
        {
          "output_type": "execute_result",
          "data": {
            "text/plain": [
              "                                            abstract  \\\n",
              "0  a ever-growing datasets inside observational a...   \n",
              "1  we propose the framework considering optimal $...   \n",
              "2  nanostructures with open shell transition meta...   \n",
              "3  stars are self-gravitating fluids inside which...   \n",
              "4  deep neural perception and control networks ar...   \n",
              "\n",
              "                                     docs_procesados  \n",
              "0  a ever-growing datasets inside observational a...  \n",
              "1  we propose the framework considering optimal t...  \n",
              "2  nanostructures with open shell transition meta...  \n",
              "3  stars are self-gravitating fluids inside which...  \n",
              "4  deep neural perception and control networks ar...  "
            ],
            "text/html": [
              "\n",
              "  <div id=\"df-bdcdf1bf-038e-40b9-9b26-150416d2230c\">\n",
              "    <div class=\"colab-df-container\">\n",
              "      <div>\n",
              "<style scoped>\n",
              "    .dataframe tbody tr th:only-of-type {\n",
              "        vertical-align: middle;\n",
              "    }\n",
              "\n",
              "    .dataframe tbody tr th {\n",
              "        vertical-align: top;\n",
              "    }\n",
              "\n",
              "    .dataframe thead th {\n",
              "        text-align: right;\n",
              "    }\n",
              "</style>\n",
              "<table border=\"1\" class=\"dataframe\">\n",
              "  <thead>\n",
              "    <tr style=\"text-align: right;\">\n",
              "      <th></th>\n",
              "      <th>abstract</th>\n",
              "      <th>docs_procesados</th>\n",
              "    </tr>\n",
              "  </thead>\n",
              "  <tbody>\n",
              "    <tr>\n",
              "      <th>0</th>\n",
              "      <td>a ever-growing datasets inside observational a...</td>\n",
              "      <td>a ever-growing datasets inside observational a...</td>\n",
              "    </tr>\n",
              "    <tr>\n",
              "      <th>1</th>\n",
              "      <td>we propose the framework considering optimal $...</td>\n",
              "      <td>we propose the framework considering optimal t...</td>\n",
              "    </tr>\n",
              "    <tr>\n",
              "      <th>2</th>\n",
              "      <td>nanostructures with open shell transition meta...</td>\n",
              "      <td>nanostructures with open shell transition meta...</td>\n",
              "    </tr>\n",
              "    <tr>\n",
              "      <th>3</th>\n",
              "      <td>stars are self-gravitating fluids inside which...</td>\n",
              "      <td>stars are self-gravitating fluids inside which...</td>\n",
              "    </tr>\n",
              "    <tr>\n",
              "      <th>4</th>\n",
              "      <td>deep neural perception and control networks ar...</td>\n",
              "      <td>deep neural perception and control networks ar...</td>\n",
              "    </tr>\n",
              "  </tbody>\n",
              "</table>\n",
              "</div>\n",
              "      <button class=\"colab-df-convert\" onclick=\"convertToInteractive('df-bdcdf1bf-038e-40b9-9b26-150416d2230c')\"\n",
              "              title=\"Convert this dataframe to an interactive table.\"\n",
              "              style=\"display:none;\">\n",
              "        \n",
              "  <svg xmlns=\"http://www.w3.org/2000/svg\" height=\"24px\"viewBox=\"0 0 24 24\"\n",
              "       width=\"24px\">\n",
              "    <path d=\"M0 0h24v24H0V0z\" fill=\"none\"/>\n",
              "    <path d=\"M18.56 5.44l.94 2.06.94-2.06 2.06-.94-2.06-.94-.94-2.06-.94 2.06-2.06.94zm-11 1L8.5 8.5l.94-2.06 2.06-.94-2.06-.94L8.5 2.5l-.94 2.06-2.06.94zm10 10l.94 2.06.94-2.06 2.06-.94-2.06-.94-.94-2.06-.94 2.06-2.06.94z\"/><path d=\"M17.41 7.96l-1.37-1.37c-.4-.4-.92-.59-1.43-.59-.52 0-1.04.2-1.43.59L10.3 9.45l-7.72 7.72c-.78.78-.78 2.05 0 2.83L4 21.41c.39.39.9.59 1.41.59.51 0 1.02-.2 1.41-.59l7.78-7.78 2.81-2.81c.8-.78.8-2.07 0-2.86zM5.41 20L4 18.59l7.72-7.72 1.47 1.35L5.41 20z\"/>\n",
              "  </svg>\n",
              "      </button>\n",
              "      \n",
              "  <style>\n",
              "    .colab-df-container {\n",
              "      display:flex;\n",
              "      flex-wrap:wrap;\n",
              "      gap: 12px;\n",
              "    }\n",
              "\n",
              "    .colab-df-convert {\n",
              "      background-color: #E8F0FE;\n",
              "      border: none;\n",
              "      border-radius: 50%;\n",
              "      cursor: pointer;\n",
              "      display: none;\n",
              "      fill: #1967D2;\n",
              "      height: 32px;\n",
              "      padding: 0 0 0 0;\n",
              "      width: 32px;\n",
              "    }\n",
              "\n",
              "    .colab-df-convert:hover {\n",
              "      background-color: #E2EBFA;\n",
              "      box-shadow: 0px 1px 2px rgba(60, 64, 67, 0.3), 0px 1px 3px 1px rgba(60, 64, 67, 0.15);\n",
              "      fill: #174EA6;\n",
              "    }\n",
              "\n",
              "    [theme=dark] .colab-df-convert {\n",
              "      background-color: #3B4455;\n",
              "      fill: #D2E3FC;\n",
              "    }\n",
              "\n",
              "    [theme=dark] .colab-df-convert:hover {\n",
              "      background-color: #434B5C;\n",
              "      box-shadow: 0px 1px 3px 1px rgba(0, 0, 0, 0.15);\n",
              "      filter: drop-shadow(0px 1px 2px rgba(0, 0, 0, 0.3));\n",
              "      fill: #FFFFFF;\n",
              "    }\n",
              "  </style>\n",
              "\n",
              "      <script>\n",
              "        const buttonEl =\n",
              "          document.querySelector('#df-bdcdf1bf-038e-40b9-9b26-150416d2230c button.colab-df-convert');\n",
              "        buttonEl.style.display =\n",
              "          google.colab.kernel.accessAllowed ? 'block' : 'none';\n",
              "\n",
              "        async function convertToInteractive(key) {\n",
              "          const element = document.querySelector('#df-bdcdf1bf-038e-40b9-9b26-150416d2230c');\n",
              "          const dataTable =\n",
              "            await google.colab.kernel.invokeFunction('convertToInteractive',\n",
              "                                                     [key], {});\n",
              "          if (!dataTable) return;\n",
              "\n",
              "          const docLinkHtml = 'Like what you see? Visit the ' +\n",
              "            '<a target=\"_blank\" href=https://colab.research.google.com/notebooks/data_table.ipynb>data table notebook</a>'\n",
              "            + ' to learn more about interactive tables.';\n",
              "          element.innerHTML = '';\n",
              "          dataTable['output_type'] = 'display_data';\n",
              "          await google.colab.output.renderOutput(dataTable, element);\n",
              "          const docLink = document.createElement('div');\n",
              "          docLink.innerHTML = docLinkHtml;\n",
              "          element.appendChild(docLink);\n",
              "        }\n",
              "      </script>\n",
              "    </div>\n",
              "  </div>\n",
              "  "
            ]
          },
          "metadata": {},
          "execution_count": 128
        }
      ],
      "source": [
        "docs.head()"
      ]
    },
    {
      "cell_type": "markdown",
      "metadata": {
        "id": "bnHzxanWTQtY"
      },
      "source": [
        "**3. Analisis Exploratorio**"
      ]
    },
    {
      "cell_type": "markdown",
      "metadata": {
        "id": "HnQdPBlcTWtb"
      },
      "source": [
        "‎Para verificar  el preprocesamiento, se hara uso de la libreria wordcloud, que nos permite tener una representacion visual de las palabras mas comunes.\n",
        "nos permite comprender los datos y verificar si no es necesario realizar mas preprocesamiento antes de entrenar el modelo\n"
      ]
    },
    {
      "cell_type": "code",
      "execution_count": null,
      "metadata": {
        "colab": {
          "base_uri": "https://localhost:8080/",
          "height": 272
        },
        "id": "-DdE8Nh9Z0IA",
        "outputId": "eabc5020-49d1-4e01-f8df-988b489e64d7"
      },
      "outputs": [
        {
          "output_type": "stream",
          "name": "stdout",
          "text": [
            "['a ever-growing datasets inside observational astronomy have challenged scientists inside many aspects including an efficient and interactive data exploration and visualization many tools have been developed to confront this challenge however they usually focus on displaying a actual images or focus on visualizing patterns within catalogs inside the predefined way inside this paper we introduce vizic the python visualization library that builds a connection between images and catalogs through an interactive map of a sky region vizic visualizes catalog data over the custom background canvas with the help of a shape size and orientation of each object inside a catalog a displayed objects inside a map are highly interactive and customizable comparing to those inside a images these objects should be filtered by or colored by their properties such as redshift and magnitude they also should be sub-selected with the help of the lasso-like tool considering further analysis with the help of standard python functions from in the jupyter notebook furthermore vizic allows custom overlays to be appended dynamically on top of a sky map we have initially implemented several overlays namely voronoi delaunay minimum spanning tree and healpix grid layers which are helpful considering visualizing large-scale structure all these overlays should be generated added or removed interactively with one line of code a catalog data was stored inside the non-relational database and a interfaces were developed inside javascript and python to work within jupyter notebook which allows to create custom widgets user generated scripts to analyze and plot a data selected/displayed inside a interactive map this unique design makes vizic the very powerful and flexible interactive analysis tool vizic should be adopted inside variety of exercises considering example data inspection clustering analysis galaxy alignment studies outlier identification or simply large-scale visualizations', \"we propose the framework considering optimal t-matchings excluding a prescribed t-factors inside bipartite graphs a proposed framework was the generalization of a nonbipartite matching problem and includes several problems such as a triangle-free 2-matching square-free 2-matching even factor and arborescence problems inside this paper we demonstrate the unified understanding of these problems by commonly extending previous important results we solve our problem under the reasonable assumption which was sufficiently broad to include a specific problems listed above we first present the min-max theorem and the combinatorial algorithm considering a unweighted version we then provide the linear programming formulation with dual integrality and the primal-dual algorithm considering a weighted version the key ingredient of a proposed algorithm was the technique to shrink forbidden structures which corresponds to a techniques of shrinking odd cycles triangles squares and directed cycles inside edmonds' blossom algorithm the triangle-free 2-matching algorithm the square-free 2-matching algorithm and an arborescence algorithm respectively\"]\n",
            "a ever-growing datasets inside observational astronomy have challenged scientists inside many aspects including an efficient and interactive data exploration and visualization many tools have been developed to confront this challenge however they usually focus on displaying a actual images or focus on visualizing patterns within catalogs inside the predefined way inside this paper we introduce vizic the python visualization library that builds a connection between images and catalogs through an \n"
          ]
        },
        {
          "output_type": "execute_result",
          "data": {
            "text/plain": [
              "<PIL.Image.Image image mode=RGB size=400x200 at 0x7F63E4912D50>"
            ],
            "image/png": "[encoded data removed]"
          },
          "metadata": {},
          "execution_count": 129
        }
      ],
      "source": [
        "from wordcloud import WordCloud\n",
        "#todos los resumenes en una sola lista\n",
        "print(list(docs['docs_procesados'].values)[:2]) \n",
        "long_string = ','.join(list(docs['docs_procesados'].values))\n",
        "print(long_string[:500])\n",
        "# crear un objeto de la clase importada\n",
        "wordcloud = WordCloud(background_color=\"white\", max_words=5000, contour_width=3, contour_color='steelblue')\n",
        "# generar la nube\n",
        "wordcloud.generate(long_string)\n",
        "# visualizar la nube\n",
        "wordcloud.to_image()"
      ]
    },
    {
      "cell_type": "markdown",
      "metadata": {
        "id": "yzeMWVWqVHJt"
      },
      "source": [
        "**4. Preparar los datos para el analisis LDA**\n",
        "\n",
        "*  Primero se eliminan las palabras comunes que poco influyen al momento de tomar una decisión.\n",
        "\n",
        "\n",
        "\n",
        "*  posteriormente se convertira cada objeto Tokenizado en un corpus y un diccionario\n",
        "\n"
      ]
    },
    {
      "cell_type": "code",
      "execution_count": null,
      "metadata": {
        "colab": {
          "base_uri": "https://localhost:8080/"
        },
        "id": "yjfyqGldWsu5",
        "outputId": "1266a51a-909c-4ba7-c46b-19c2004e1560"
      },
      "outputs": [
        {
          "output_type": "stream",
          "name": "stderr",
          "text": [
            "[nltk_data] Downloading package stopwords to /root/nltk_data...\n",
            "[nltk_data]   Package stopwords is already up-to-date!\n"
          ]
        }
      ],
      "source": [
        "import gensim\n",
        "from gensim.utils import simple_preprocess\n",
        "import nltk\n",
        "nltk.download('stopwords')\n",
        "from nltk.corpus import stopwords"
      ]
    },
    {
      "cell_type": "code",
      "execution_count": null,
      "metadata": {
        "colab": {
          "base_uri": "https://localhost:8080/"
        },
        "id": "x-_3pXxxZ0LB",
        "outputId": "214f9f68-76d1-4a04-a083-d97cc3d9e8fd"
      },
      "outputs": [
        {
          "output_type": "stream",
          "name": "stdout",
          "text": [
            "['i', 'me', 'my', 'myself', 'we', 'our', 'ours', 'ourselves', 'you', \"you're\", \"you've\", \"you'll\", \"you'd\", 'your', 'yours', 'yourself', 'yourselves', 'he', 'him', 'his', 'himself', 'she', \"she's\", 'her', 'hers', 'herself', 'it', \"it's\", 'its', 'itself', 'they', 'them', 'their', 'theirs', 'themselves', 'what', 'which', 'who', 'whom', 'this', 'that', \"that'll\", 'these', 'those', 'am', 'is', 'are', 'was', 'were', 'be', 'been', 'being', 'have', 'has', 'had', 'having', 'do', 'does', 'did', 'doing', 'a', 'an', 'the', 'and', 'but', 'if', 'or', 'because', 'as', 'until', 'while', 'of', 'at', 'by', 'for', 'with', 'about', 'against', 'between', 'into', 'through', 'during', 'before', 'after', 'above', 'below', 'to', 'from', 'up', 'down', 'in', 'out', 'on', 'off', 'over', 'under', 'again', 'further', 'then', 'once', 'here', 'there', 'when', 'where', 'why', 'how', 'all', 'any', 'both', 'each', 'few', 'more', 'most', 'other', 'some', 'such', 'no', 'nor', 'not', 'only', 'own', 'same', 'so', 'than', 'too', 'very', 's', 't', 'can', 'will', 'just', 'don', \"don't\", 'should', \"should've\", 'now', 'd', 'll', 'm', 'o', 're', 've', 'y', 'ain', 'aren', \"aren't\", 'couldn', \"couldn't\", 'didn', \"didn't\", 'doesn', \"doesn't\", 'hadn', \"hadn't\", 'hasn', \"hasn't\", 'haven', \"haven't\", 'isn', \"isn't\", 'ma', 'mightn', \"mightn't\", 'mustn', \"mustn't\", 'needn', \"needn't\", 'shan', \"shan't\", 'shouldn', \"shouldn't\", 'wasn', \"wasn't\", 'weren', \"weren't\", 'won', \"won't\", 'wouldn', \"wouldn't\", 'from', 'subject', 're', 'edu', 'use']\n"
          ]
        }
      ],
      "source": [
        "#recuperar una lista de palabras de parada del idioma inglés\n",
        "stop_words = stopwords.words('english')\n",
        "#se agrega otras que no estan dentro del conjundo de palabras de parada\n",
        "stop_words.extend(['from', 'subject', 're', 'edu', 'use'])\n",
        "print(stop_words)\n"
      ]
    },
    {
      "cell_type": "code",
      "execution_count": null,
      "metadata": {
        "colab": {
          "base_uri": "https://localhost:8080/"
        },
        "id": "3J5PPjtLZ0Nx",
        "outputId": "e5ee95fc-68e6-46b3-fbb0-09e5966d75b8"
      },
      "outputs": [
        {
          "output_type": "stream",
          "name": "stdout",
          "text": [
            "[['ever', 'growing', 'datasets', 'inside', 'observational', 'astronomy', 'have', 'challenged', 'scientists', 'inside', 'many', 'aspects', 'including', 'an', 'efficient', 'and', 'interactive', 'data', 'exploration', 'and', 'visualization', 'many', 'tools', 'have', 'been', 'developed', 'to', 'confront', 'this', 'challenge', 'however', 'they', 'usually', 'focus', 'on', 'displaying', 'actual', 'images', 'or', 'focus', 'on', 'visualizing', 'patterns', 'within', 'catalogs', 'inside', 'the', 'predefined', 'way', 'inside', 'this', 'paper', 'we', 'introduce', 'vizic', 'the', 'python', 'visualization', 'library', 'that', 'builds', 'connection', 'between', 'images', 'and', 'catalogs', 'through', 'an', 'interactive', 'map', 'of', 'sky', 'region', 'vizic', 'visualizes', 'catalog', 'data', 'over', 'the', 'custom', 'background', 'canvas', 'with', 'the', 'help', 'of', 'shape', 'size', 'and', 'orientation', 'of', 'each', 'object', 'inside', 'catalog', 'displayed', 'objects', 'inside', 'map', 'are', 'highly', 'interactive', 'and', 'customizable', 'comparing', 'to', 'those', 'inside', 'images', 'these', 'objects', 'should', 'be', 'filtered', 'by', 'or', 'colored', 'by', 'their', 'properties', 'such', 'as', 'redshift', 'and', 'magnitude', 'they', 'also', 'should', 'be', 'sub', 'selected', 'with', 'the', 'help', 'of', 'the', 'lasso', 'like', 'tool', 'considering', 'further', 'analysis', 'with', 'the', 'help', 'of', 'standard', 'python', 'functions', 'from', 'in', 'the', 'jupyter', 'notebook', 'furthermore', 'vizic', 'allows', 'custom', 'overlays', 'to', 'be', 'appended', 'dynamically', 'on', 'top', 'of', 'sky', 'map', 'we', 'have', 'initially', 'implemented', 'several', 'overlays', 'namely', 'voronoi', 'delaunay', 'minimum', 'spanning', 'tree', 'and', 'healpix', 'grid', 'layers', 'which', 'are', 'helpful', 'considering', 'visualizing', 'large', 'scale', 'structure', 'all', 'these', 'overlays', 'should', 'be', 'generated', 'added', 'or', 'removed', 'interactively', 'with', 'one', 'line', 'of', 'code', 'catalog', 'data', 'was', 'stored', 'inside', 'the', 'non', 'relational', 'database', 'and', 'interfaces', 'were', 'developed', 'inside', 'javascript', 'and', 'python', 'to', 'work', 'within', 'jupyter', 'notebook', 'which', 'allows', 'to', 'create', 'custom', 'widgets', 'user', 'generated', 'scripts', 'to', 'analyze', 'and', 'plot', 'data', 'selected', 'displayed', 'inside', 'interactive', 'map', 'this', 'unique', 'design', 'makes', 'vizic', 'the', 'very', 'powerful', 'and', 'flexible', 'interactive', 'analysis', 'tool', 'vizic', 'should', 'be', 'adopted', 'inside', 'variety', 'of', 'exercises', 'considering', 'example', 'data', 'inspection', 'clustering', 'analysis', 'galaxy', 'alignment', 'studies', 'outlier', 'identification', 'or', 'simply', 'large', 'scale', 'visualizations'], ['we', 'propose', 'the', 'framework', 'considering', 'optimal', 'matchings', 'excluding', 'prescribed', 'factors', 'inside', 'bipartite', 'graphs', 'proposed', 'framework', 'was', 'the', 'generalization', 'of', 'nonbipartite', 'matching', 'problem', 'and', 'includes', 'several', 'problems', 'such', 'as', 'triangle', 'free', 'matching', 'square', 'free', 'matching', 'even', 'factor', 'and', 'arborescence', 'problems', 'inside', 'this', 'paper', 'we', 'demonstrate', 'the', 'unified', 'understanding', 'of', 'these', 'problems', 'by', 'commonly', 'extending', 'previous', 'important', 'results', 'we', 'solve', 'our', 'problem', 'under', 'the', 'reasonable', 'assumption', 'which', 'was', 'sufficiently', 'broad', 'to', 'include', 'specific', 'problems', 'listed', 'above', 'we', 'first', 'present', 'the', 'min', 'max', 'theorem', 'and', 'the', 'combinatorial', 'algorithm', 'considering', 'unweighted', 'version', 'we', 'then', 'provide', 'the', 'linear', 'programming', 'formulation', 'with', 'dual', 'integrality', 'and', 'the', 'primal', 'dual', 'algorithm', 'considering', 'weighted', 'version', 'the', 'key', 'ingredient', 'of', 'proposed', 'algorithm', 'was', 'the', 'technique', 'to', 'shrink', 'forbidden', 'structures', 'which', 'corresponds', 'to', 'techniques', 'of', 'shrinking', 'odd', 'cycles', 'triangles', 'squares', 'and', 'directed', 'cycles', 'inside', 'edmonds', 'blossom', 'algorithm', 'the', 'triangle', 'free', 'matching', 'algorithm', 'the', 'square', 'free', 'matching', 'algorithm', 'and', 'an', 'arborescence', 'algorithm', 'respectively']]\n",
            "[['ever', 'growing', 'datasets', 'inside', 'observational', 'astronomy', 'challenged', 'scientists', 'inside', 'many', 'aspects', 'including', 'efficient', 'interactive', 'data', 'exploration', 'visualization', 'many', 'tools', 'developed', 'confront', 'challenge', 'however', 'usually', 'focus', 'displaying', 'actual', 'images', 'focus', 'visualizing', 'patterns', 'within', 'catalogs', 'inside', 'predefined', 'way', 'inside', 'paper', 'introduce', 'vizic', 'python', 'visualization', 'library', 'builds', 'connection', 'images', 'catalogs', 'interactive', 'map', 'sky', 'region', 'vizic', 'visualizes', 'catalog', 'data', 'custom', 'background', 'canvas', 'help', 'shape', 'size', 'orientation', 'object', 'inside', 'catalog', 'displayed', 'objects', 'inside', 'map', 'highly', 'interactive', 'customizable', 'comparing', 'inside', 'images', 'objects', 'filtered', 'colored', 'properties', 'redshift', 'magnitude', 'also', 'sub', 'selected', 'help', 'lasso', 'like', 'tool', 'considering', 'analysis', 'help', 'standard', 'python', 'functions', 'jupyter', 'notebook', 'furthermore', 'vizic', 'allows', 'custom', 'overlays', 'appended', 'dynamically', 'top', 'sky', 'map', 'initially', 'implemented', 'several', 'overlays', 'namely', 'voronoi', 'delaunay', 'minimum', 'spanning', 'tree', 'healpix', 'grid', 'layers', 'helpful', 'considering', 'visualizing', 'large', 'scale', 'structure', 'overlays', 'generated', 'added', 'removed', 'interactively', 'one', 'line', 'code', 'catalog', 'data', 'stored', 'inside', 'non', 'relational', 'database', 'interfaces', 'developed', 'inside', 'javascript', 'python', 'work', 'within', 'jupyter', 'notebook', 'allows', 'create', 'custom', 'widgets', 'user', 'generated', 'scripts', 'analyze', 'plot', 'data', 'selected', 'displayed', 'inside', 'interactive', 'map', 'unique', 'design', 'makes', 'vizic', 'powerful', 'flexible', 'interactive', 'analysis', 'tool', 'vizic', 'adopted', 'inside', 'variety', 'exercises', 'considering', 'example', 'data', 'inspection', 'clustering', 'analysis', 'galaxy', 'alignment', 'studies', 'outlier', 'identification', 'simply', 'large', 'scale', 'visualizations'], ['propose', 'framework', 'considering', 'optimal', 'matchings', 'excluding', 'prescribed', 'factors', 'inside', 'bipartite', 'graphs', 'proposed', 'framework', 'generalization', 'nonbipartite', 'matching', 'problem', 'includes', 'several', 'problems', 'triangle', 'free', 'matching', 'square', 'free', 'matching', 'even', 'factor', 'arborescence', 'problems', 'inside', 'paper', 'demonstrate', 'unified', 'understanding', 'problems', 'commonly', 'extending', 'previous', 'important', 'results', 'solve', 'problem', 'reasonable', 'assumption', 'sufficiently', 'broad', 'include', 'specific', 'problems', 'listed', 'first', 'present', 'min', 'max', 'theorem', 'combinatorial', 'algorithm', 'considering', 'unweighted', 'version', 'provide', 'linear', 'programming', 'formulation', 'dual', 'integrality', 'primal', 'dual', 'algorithm', 'considering', 'weighted', 'version', 'key', 'ingredient', 'proposed', 'algorithm', 'technique', 'shrink', 'forbidden', 'structures', 'corresponds', 'techniques', 'shrinking', 'odd', 'cycles', 'triangles', 'squares', 'directed', 'cycles', 'inside', 'edmonds', 'blossom', 'algorithm', 'triangle', 'free', 'matching', 'algorithm', 'square', 'free', 'matching', 'algorithm', 'arborescence', 'algorithm', 'respectively']]\n"
          ]
        }
      ],
      "source": [
        "def sent_to_words(sentences):\n",
        "  #recibir una lista de tokens de cada articulo\n",
        "    for sentence in sentences:\n",
        "      #usar la herramienta gensim para el procesamiento de los textos de cada articulo,\n",
        "      #deacc en true para eliminar las puntuaciones\n",
        "        yield(gensim.utils.simple_preprocess(str(sentence), deacc=True))\n",
        "\n",
        "def remove_stopwords(texts):\n",
        "    return [[word for word in simple_preprocess(str(doc)) \n",
        "             if word not in stop_words] for doc in texts]\n",
        "\n",
        "#obtener una lista que contenga el contenido de cada articulo\n",
        "datos = docs.docs_procesados.values.tolist() ##[[articulo 1],[articulo2]]\n",
        "#obtener las palabras.\n",
        "palabras_documento= list(sent_to_words(datos))#[['','',''],['','','']]\n",
        "print(palabras_documento[0:2])\n",
        "\n",
        "# eliminar las palabras de parada\n",
        "palabras_documento = remove_stopwords(palabras_documento)\n",
        "print(palabras_documento[0:2])\n",
        "\n",
        "#se eliminaran palabras como have,an,and,etc"
      ]
    },
    {
      "cell_type": "code",
      "execution_count": null,
      "metadata": {
        "id": "y7-Q3LeJZ0RQ",
        "colab": {
          "base_uri": "https://localhost:8080/"
        },
        "outputId": "a48df150-d83c-426d-dea4-f2188b20696f"
      },
      "outputs": [
        {
          "output_type": "stream",
          "name": "stdout",
          "text": [
            "Dictionary(38048 unique tokens: ['actual', 'added', 'adopted', 'alignment', 'allows']...)\n",
            "[(0, 1), (1, 1), (2, 1), (3, 1), (4, 2), (5, 1), (6, 3), (7, 1), (8, 1), (9, 1), (10, 1), (11, 1), (12, 1), (13, 1), (14, 3), (15, 2), (16, 1), (17, 1), (18, 1), (19, 1), (20, 1), (21, 1), (22, 1), (23, 1), (24, 3), (25, 1), (26, 3), (27, 1), (28, 5), (29, 1)]\n"
          ]
        }
      ],
      "source": [
        "import gensim.corpora as corpora\n",
        "# creacion del diccionario donde cada palabra fue tokenizada\n",
        "id2word= corpora.Dictionary(palabras_documento)\n",
        "print(id2word)\n",
        "\n",
        "# creacion del copus\n",
        "texts = palabras_documento\n",
        "corpus = [id2word.doc2bow(text) for text in texts]\n",
        "\n",
        "print(corpus[:1][0][:30])"
      ]
    },
    {
      "cell_type": "markdown",
      "metadata": {
        "id": "GfLc2FSxez0x"
      },
      "source": [
        "**Entrenamiento del modelo**\n",
        "\n",
        "* los parametros alfa y beta seran asignados aleatoreamente\n",
        "\n",
        "* el numero de temas sera de 4\n",
        "\n",
        "* usaremos las palabras con el formato requerido por el modelo\n",
        "\n",
        "** Nota: Cada documento es una combinacion de palabras \n",
        "\n",
        "Cada palabra contribuye un peso al tema **\n",
        "\n",
        "\n"
      ]
    },
    {
      "cell_type": "code",
      "execution_count": null,
      "metadata": {
        "colab": {
          "base_uri": "https://localhost:8080/"
        },
        "id": "I_I49l6IZ0Uo",
        "outputId": "27ee54a3-882e-4518-a588-01c98d8aa15b"
      },
      "outputs": [
        {
          "output_type": "stream",
          "name": "stdout",
          "text": [
            "[(0,\n",
            "  '0.035*\"inside\" + 0.019*\"depth\" + 0.018*\"considering\" + '\n",
            "  '0.011*\"reconstruction\" + 0.009*\"problems\" + 0.007*\"learning\" + '\n",
            "  '0.007*\"results\" + 0.007*\"contribution\" + 0.007*\"based\" + 0.007*\"real\"'),\n",
            " (1,\n",
            "  '0.027*\"inside\" + 0.013*\"considering\" + 0.009*\"system\" + 0.009*\"exercise\" + '\n",
            "  '0.007*\"two\" + 0.007*\"present\" + 0.007*\"data\" + 0.005*\"learning\" + '\n",
            "  '0.005*\"method\" + 0.005*\"methods\"'),\n",
            " (2,\n",
            "  '0.029*\"inside\" + 0.022*\"considering\" + 0.004*\"show\" + 0.004*\"problem\" + '\n",
            "  '0.004*\"also\" + 0.004*\"two\" + 0.004*\"depth\" + 0.004*\"number\" + '\n",
            "  '0.004*\"results\" + 0.004*\"case\"'),\n",
            " (3,\n",
            "  '0.039*\"inside\" + 0.015*\"considering\" + 0.014*\"phase\" + 0.014*\"order\" + '\n",
            "  '0.013*\"wave\" + 0.012*\"two\" + 0.011*\"density\" + 0.011*\"transition\" + '\n",
            "  '0.011*\"superconducting\" + 0.011*\"mathrm\"')]\n"
          ]
        }
      ],
      "source": [
        "from pprint import pprint\n",
        "# establecer el numero de topicos\n",
        "num_topics = 4\n",
        "# importar el modelo LDA con los datos,las palabras y el numero de topicos\n",
        "lda_model = gensim.models.LdaMulticore(corpus=corpus,\n",
        "                                       id2word=id2word,\n",
        "                                       num_topics=num_topics)\n",
        "# \n",
        "pprint(lda_model.print_topics())\n"
      ]
    },
    {
      "cell_type": "code",
      "execution_count": null,
      "metadata": {
        "id": "vf6GbDHpnZcv"
      },
      "outputs": [],
      "source": [
        "doc_lda = lda_model[corpus]\n"
      ]
    },
    {
      "cell_type": "code",
      "source": [
        "print(doc_lda)"
      ],
      "metadata": {
        "colab": {
          "base_uri": "https://localhost:8080/"
        },
        "id": "vB-sqdKO9YXM",
        "outputId": "cac9fb55-6210-4bb8-fced-7c162a781e26"
      },
      "execution_count": null,
      "outputs": [
        {
          "output_type": "stream",
          "name": "stdout",
          "text": [
            "<gensim.interfaces.TransformedCorpus object at 0x7f63d45d9f50>\n"
          ]
        }
      ]
    },
    {
      "cell_type": "markdown",
      "metadata": {
        "id": "SxGZe8xbe8YM"
      },
      "source": [
        "**Analisis de los resultado**\n",
        "\n",
        "se usara la libreria pyLDAvis, el cual nos permite visualizar los resultados del entrenamiento del modelo \n",
        "* analisis de las palabras para cada tema\n",
        "* analisis de relaciones entre los temas\n",
        "\n",
        "\n"
      ]
    },
    {
      "cell_type": "code",
      "execution_count": null,
      "metadata": {
        "colab": {
          "base_uri": "https://localhost:8080/"
        },
        "id": "vOIprJEtgIsL",
        "outputId": "fa6ea202-072a-4ff6-dbc4-1a0d1da2c64b"
      },
      "outputs": [
        {
          "output_type": "stream",
          "name": "stdout",
          "text": [
            "Looking in indexes: https://pypi.org/simple, https://us-python.pkg.dev/colab-wheels/public/simple/\n",
            "Requirement already satisfied: pyLDAvis in /usr/local/lib/python3.7/dist-packages (3.3.1)\n",
            "Requirement already satisfied: numexpr in /usr/local/lib/python3.7/dist-packages (from pyLDAvis) (2.8.1)\n",
            "Requirement already satisfied: numpy>=1.20.0 in /usr/local/lib/python3.7/dist-packages (from pyLDAvis) (1.21.6)\n",
            "Requirement already satisfied: gensim in /usr/local/lib/python3.7/dist-packages (from pyLDAvis) (3.6.0)\n",
            "Requirement already satisfied: joblib in /usr/local/lib/python3.7/dist-packages (from pyLDAvis) (1.1.0)\n",
            "Requirement already satisfied: jinja2 in /usr/local/lib/python3.7/dist-packages (from pyLDAvis) (2.11.3)\n",
            "Requirement already satisfied: future in /usr/local/lib/python3.7/dist-packages (from pyLDAvis) (0.16.0)\n",
            "Requirement already satisfied: setuptools in /usr/local/lib/python3.7/dist-packages (from pyLDAvis) (57.4.0)\n",
            "Requirement already satisfied: scipy in /usr/local/lib/python3.7/dist-packages (from pyLDAvis) (1.4.1)\n",
            "Requirement already satisfied: scikit-learn in /usr/local/lib/python3.7/dist-packages (from pyLDAvis) (1.0.2)\n",
            "Requirement already satisfied: sklearn in /usr/local/lib/python3.7/dist-packages (from pyLDAvis) (0.0)\n",
            "Requirement already satisfied: funcy in /usr/local/lib/python3.7/dist-packages (from pyLDAvis) (1.17)\n",
            "Requirement already satisfied: pandas>=1.2.0 in /usr/local/lib/python3.7/dist-packages (from pyLDAvis) (1.3.5)\n",
            "Requirement already satisfied: pytz>=2017.3 in /usr/local/lib/python3.7/dist-packages (from pandas>=1.2.0->pyLDAvis) (2022.1)\n",
            "Requirement already satisfied: python-dateutil>=2.7.3 in /usr/local/lib/python3.7/dist-packages (from pandas>=1.2.0->pyLDAvis) (2.8.2)\n",
            "Requirement already satisfied: six>=1.5 in /usr/local/lib/python3.7/dist-packages (from python-dateutil>=2.7.3->pandas>=1.2.0->pyLDAvis) (1.15.0)\n",
            "Requirement already satisfied: smart-open>=1.2.1 in /usr/local/lib/python3.7/dist-packages (from gensim->pyLDAvis) (5.2.1)\n",
            "Requirement already satisfied: MarkupSafe>=0.23 in /usr/local/lib/python3.7/dist-packages (from jinja2->pyLDAvis) (2.0.1)\n",
            "Requirement already satisfied: packaging in /usr/local/lib/python3.7/dist-packages (from numexpr->pyLDAvis) (21.3)\n",
            "Requirement already satisfied: pyparsing!=3.0.5,>=2.0.2 in /usr/local/lib/python3.7/dist-packages (from packaging->numexpr->pyLDAvis) (3.0.9)\n",
            "Requirement already satisfied: threadpoolctl>=2.0.0 in /usr/local/lib/python3.7/dist-packages (from scikit-learn->pyLDAvis) (3.1.0)\n"
          ]
        }
      ],
      "source": [
        "##instalacion de pyLDAvis\n",
        "!pip install pyLDAvis\n",
        "#!pip install gensim\n",
        "\n"
      ]
    },
    {
      "cell_type": "code",
      "execution_count": null,
      "metadata": {
        "id": "tmeFjPnmgEnv"
      },
      "outputs": [],
      "source": [
        "import pyLDAvis.gensim_models as gensimvis\n",
        "import pickle \n",
        "import pyLDAvis\n",
        "import os"
      ]
    },
    {
      "cell_type": "code",
      "execution_count": null,
      "metadata": {
        "id": "xtM4WqS1jO7j"
      },
      "outputs": [],
      "source": [
        "! touch ldavis_prepared"
      ]
    },
    {
      "cell_type": "code",
      "execution_count": null,
      "metadata": {
        "id": "xJHTZDj8Z0YN"
      },
      "outputs": [],
      "source": [
        "#visualizar los temas\n",
        "\n",
        "pyLDAvis.enable_notebook()\n",
        "LDAvis_data_filepath = os.path.join('./ldavis_prepared')"
      ]
    },
    {
      "cell_type": "code",
      "execution_count": null,
      "metadata": {
        "colab": {
          "base_uri": "https://localhost:8080/",
          "height": 916
        },
        "id": "5CHQpx8MZ0bI",
        "outputId": "3d522701-991c-417f-a2a5-2d4f563695e2"
      },
      "outputs": [
        {
          "output_type": "stream",
          "name": "stderr",
          "text": [
            "/usr/local/lib/python3.7/dist-packages/pyLDAvis/_prepare.py:247: FutureWarning: In a future version of pandas all arguments of DataFrame.drop except for the argument 'labels' will be keyword-only\n",
            "  by='saliency', ascending=False).head(R).drop('saliency', 1)\n"
          ]
        },
        {
          "output_type": "execute_result",
          "data": {
            "text/plain": [
              "PreparedData(topic_coordinates=              x         y  topics  cluster       Freq\n",
              "topic                                                \n",
              "1      0.055524 -0.059284       1        1  32.027994\n",
              "2      0.021769  0.095139       2        1  29.318839\n",
              "0      0.127922 -0.018423       3        1  22.515068\n",
              "3     -0.205215 -0.017432       4        1  16.138099, topic_info=                 Term         Freq         Total Category  logprob  loglift\n",
              "1743            depth  9384.000000   9384.000000  Default  30.0000  30.0000\n",
              "285             phase  3724.000000   3724.000000  Default  29.0000  29.0000\n",
              "1641             wave  3441.000000   3441.000000  Default  28.0000  28.0000\n",
              "686             order  4662.000000   4662.000000  Default  27.0000  27.0000\n",
              "2915  superconducting  2582.000000   2582.000000  Default  26.0000  26.0000\n",
              "...               ...          ...           ...      ...      ...      ...\n",
              "311               two  2729.071882   8974.843587   Topic4  -4.4415   0.6335\n",
              "467             three  1309.325691   2477.404475   Topic4  -5.1760   1.1863\n",
              "305           systems  1349.959976   3087.267844   Topic4  -5.1454   0.9968\n",
              "24        considering  3565.327375  24850.220373   Topic4  -4.1742  -0.1176\n",
              "446             model  1699.497325   6424.633445   Topic4  -4.9151   0.4942\n",
              "\n",
              "[366 rows x 6 columns], token_table=      Topic      Freq     Term\n",
              "term                          \n",
              "2261      1  0.012556  abelian\n",
              "2261      2  0.941716  abelian\n",
              "2261      3  0.018834  abelian\n",
              "2261      4  0.031391  abelian\n",
              "1466      1  0.231690  acquire\n",
              "...     ...       ...      ...\n",
              "5191      4  0.008991     wise\n",
              "133       1  0.415546     work\n",
              "133       2  0.137051     work\n",
              "133       3  0.238961     work\n",
              "133       4  0.208505     work\n",
              "\n",
              "[1073 rows x 3 columns], R=30, lambda_step=0.01, plot_opts={'xlab': 'PC1', 'ylab': 'PC2'}, topic_order=[2, 3, 1, 4])"
            ],
            "text/html": [
              "\n",
              "<link rel=\"stylesheet\" type=\"text/css\" href=\"https://cdn.jsdelivr.net/gh/bmabey/pyLDAvis@3.3.1/pyLDAvis/js/ldavis.v1.0.0.css\">\n",
              "\n",
              "\n",
              "<div id=\"ldavis_el601400667808128805952242707\"></div>\n",
              "<script type=\"text/javascript\">\n",
              "\n",
              "var ldavis_el601400667808128805952242707_data = {\"mdsDat\": {\"x\": [0.055523502359500244, 0.021769342003193897, 0.1279221404749611, -0.20521498483765524], \"y\": [-0.05928396988322324, 0.09513943659892805, -0.018423489559359355, -0.017431977156345434], \"topics\": [1, 2, 3, 4], \"cluster\": [1, 1, 1, 1], \"Freq\": [32.027993597205175, 29.31883937954441, 22.51506776468429, 16.138099258566143]}, \"tinfo\": {\"Term\": [\"depth\", \"phase\", \"wave\", \"order\", \"superconducting\", \"transition\", \"mathrm\", \"charge\", \"mode\", \"density\", \"exercise\", \"inside\", \"reconstruction\", \"nature\", \"problems\", \"magnetic\", \"temperature\", \"electronic\", \"learning\", \"metal\", \"pressure\", \"raman\", \"nbse\", \"sinusoidally\", \"sans\", \"modulated\", \"transitions\", \"ge\", \"gap\", \"two\", \"ddeo\", \"phenotype\", \"nlc\", \"visuo\", \"mapd\", \"subtopics\", \"cobot\", \"metabolomics\", \"surgeons\", \"lesion\", \"ardrone\", \"bicycles\", \"liver\", \"lesions\", \"ebm\", \"rumour\", \"airways\", \"tactile\", \"borophene\", \"transplant\", \"atrous\", \"subtask\", \"cdes\", \"chest\", \"teams\", \"exercise\", \"recidivism\", \"laborious\", \"teleperception\", \"sublimation\", \"educational\", \"drug\", \"freely\", \"vehicles\", \"cultural\", \"platform\", \"integrated\", \"hybrid\", \"candidates\", \"traffic\", \"urban\", \"extent\", \"home\", \"teachers\", \"skin\", \"human\", \"robots\", \"safety\", \"clinical\", \"overall\", \"sentiment\", \"autonomous\", \"dialogue\", \"addition\", \"conducted\", \"vehicle\", \"identification\", \"users\", \"present\", \"detailed\", \"extracted\", \"social\", \"online\", \"dark\", \"linguistic\", \"focus\", \"context\", \"relevant\", \"system\", \"aims\", \"available\", \"selection\", \"features\", \"machine\", \"generation\", \"combining\", \"inside\", \"methods\", \"data\", \"learning\", \"models\", \"two\", \"considering\", \"method\", \"based\", \"model\", \"results\", \"time\", \"help\", \"also\", \"work\", \"number\", \"framework\", \"depth\", \"semisimple\", \"sln\", \"isometric\", \"pseudosymmetric\", \"courant\", \"grassmannian\", \"idbvp\", \"superalgebra\", \"gln\", \"submanifold\", \"algebroids\", \"malle\", \"injective\", \"fpf\", \"isomorphic\", \"scl\", \"hermitian\", \"automorphic\", \"lambek\", \"graded\", \"rationally\", \"biserial\", \"morita\", \"frak\", \"bendable\", \"drinfeld\", \"forall\", \"rubel\", \"lizorkin\", \"dn\", \"mathbb\", \"algebras\", \"ricci\", \"integers\", \"algebra\", \"riemannian\", \"geodesics\", \"conformal\", \"irreducible\", \"curvature\", \"homogenization\", \"cuspidal\", \"let\", \"elliptic\", \"cohomology\", \"kahler\", \"integrable\", \"abelian\", \"manifolds\", \"lambda\", \"conjecture\", \"geq\", \"formula\", \"projective\", \"geodesic\", \"manifold\", \"cite\", \"prove\", \"equations\", \"infty\", \"differential\", \"finite\", \"theorem\", \"frac\", \"lie\", \"operator\", \"equation\", \"existence\", \"group\", \"bound\", \"operators\", \"solutions\", \"functions\", \"boundary\", \"result\", \"considering\", \"linear\", \"case\", \"exactness\", \"inside\", \"space\", \"non\", \"show\", \"regularity\", \"problem\", \"study\", \"ascertain\", \"also\", \"one\", \"dimensional\", \"number\", \"paper\", \"function\", \"help\", \"general\", \"results\", \"two\", \"depth\", \"method\", \"model\", \"based\", \"problems\", \"time\", \"first\", \"data\", \"programs\", \"refitting\", \"structured\", \"raml\", \"siamese\", \"aod\", \"rmt\", \"leverage\", \"steiner\", \"bdeu\", \"ppo\", \"adam\", \"wise\", \"kriging\", \"discriminators\", \"cvb\", \"pmi\", \"solvers\", \"kws\", \"lexicon\", \"ucf\", \"syntax\", \"rmgd\", \"phsic\", \"trustvi\", \"terngrad\", \"incomplete\", \"pain\", \"honest\", \"argumentation\", \"bridges\", \"sentences\", \"lasso\", \"sparse\", \"reason\", \"reconstruction\", \"runs\", \"lidar\", \"performs\", \"environment\", \"hoc\", \"instances\", \"unknown\", \"depth\", \"infer\", \"payload\", \"problems\", \"violated\", \"formulation\", \"algorithms\", \"datasets\", \"edges\", \"ensures\", \"acquire\", \"programming\", \"eg\", \"contribution\", \"reconstruct\", \"robot\", \"set\", \"real\", \"learning\", \"empirical\", \"convex\", \"inside\", \"general\", \"processing\", \"results\", \"considering\", \"language\", \"behind\", \"measurements\", \"based\", \"method\", \"methods\", \"framework\", \"system\", \"data\", \"problem\", \"idea\", \"help\", \"proposed\", \"number\", \"two\", \"nbse\", \"emblematic\", \"knob\", \"sinusoidally\", \"dichalcogenide\", \"sans\", \"dichalcogenides\", \"commensurate\", \"unveil\", \"raman\", \"intertwined\", \"delicate\", \"magnets\", \"incommensurate\", \"frustrated\", \"coexist\", \"fingerprint\", \"dramatic\", \"ferromagnetic\", \"modulated\", \"prototypical\", \"debate\", \"unusual\", \"neutron\", \"uncover\", \"metal\", \"charge\", \"fill\", \"superconducting\", \"axial\", \"mathrm\", \"mode\", \"transition\", \"phase\", \"transitions\", \"wave\", \"ge\", \"electronic\", \"nature\", \"pressure\", \"magnetic\", \"temperature\", \"density\", \"order\", \"gap\", \"al\", \"inside\", \"phonon\", \"two\", \"three\", \"systems\", \"considering\", \"model\"], \"Freq\": [9384.0, 3724.0, 3441.0, 4662.0, 2582.0, 2799.0, 2627.0, 2542.0, 2600.0, 3427.0, 4326.0, 44706.0, 4985.0, 2037.0, 4212.0, 1894.0, 1779.0, 1410.0, 5052.0, 1304.0, 1415.0, 1194.0, 1164.0, 1164.0, 1168.0, 1205.0, 1296.0, 1269.0, 1506.0, 8974.0, 32.2393994788479, 50.27175324065292, 28.28803024890343, 24.45874232836098, 25.429470668115922, 18.053042758768022, 18.751220706656323, 26.19689410499043, 23.028693831401004, 62.294086381816896, 17.556093620509476, 17.682246816270997, 20.509429116631726, 29.838221141423745, 23.056452586685797, 14.540379970448575, 17.3481614219551, 46.81995126817514, 17.76577736590789, 21.365681239585417, 17.9003035243766, 23.309826300927558, 14.793204967054379, 36.487685174950755, 68.811754461698, 4068.0231732092525, 15.093868773165635, 18.89440255124831, 12.296127348769435, 29.263516372062814, 1758.746875959914, 111.73770091376075, 1589.5250337025893, 300.919669129894, 34.01847588818583, 1638.7610121427517, 1589.708010959145, 1621.2238894307536, 1435.9876292845647, 261.3129624994763, 137.28404007373712, 1385.6065708216615, 67.03348105377854, 1267.6290670855249, 51.38046733665448, 950.4718795060013, 432.3546201047695, 216.892262365321, 190.2664751652071, 1419.6658224527096, 154.97560672522124, 301.83514428037955, 97.0168179348771, 1477.576892883761, 1116.7867495616028, 216.39828265939116, 1164.7679044518336, 524.495151700871, 3087.123749820811, 1110.7732325389522, 1026.521574244914, 659.3331156203736, 1249.157678989849, 392.9022235802681, 917.3543879385369, 1152.634445951871, 1222.8816524409074, 1100.6005964360415, 4239.22136255772, 982.1910779367671, 1243.8887048824051, 1659.9500782391033, 904.7065802633291, 1242.8860237778736, 1034.9342453722466, 972.1678000976921, 12229.608819141966, 2191.822564571757, 3034.849642280575, 2324.8858953564372, 1592.4437832584501, 3238.5601813275466, 6171.941279567772, 2236.4822914614774, 2127.776027969303, 2120.012610255519, 2028.3092058649195, 1576.27797283549, 1636.1998658852503, 1588.519033525528, 1418.990444726347, 1451.985665944492, 1360.1048517738384, 1416.644502848996, 59.742284636200466, 29.890462615026234, 54.49967244757321, 27.590802098071663, 27.224589361459238, 32.264666154584646, 24.909349787701544, 38.66806126208985, 35.716542870299534, 34.61770251404547, 28.451945833600274, 22.090463947921933, 41.15227226910089, 20.86304468787871, 63.76596618287747, 20.396875142400003, 80.02533143758805, 42.76035926596933, 20.95206721329131, 87.29038177231284, 19.808459082779336, 19.614213221778154, 26.936720612651218, 19.523043656393273, 19.522055895493047, 50.50882437950222, 25.93629493312928, 23.942207821986653, 18.566673644433735, 23.803530785831448, 1218.080107838787, 263.60512665192465, 235.4460327825887, 124.8260126818919, 420.7675950317824, 367.28661188620566, 71.82404303632137, 177.01154357828952, 142.04293326164228, 583.4374384010713, 48.02426727332304, 42.900596811205666, 365.1796826635386, 251.7780176061191, 108.99756845693825, 127.61900234055081, 96.94511516160301, 149.61226295882912, 359.5469033879092, 617.2550882770018, 294.9336558131758, 290.4436286086115, 311.46075480845224, 134.19623417802256, 129.62913405782007, 463.90774759818305, 237.02375493739558, 1068.2430090592945, 778.626343064827, 342.4981196217368, 436.49571337751786, 850.6611329291262, 375.86011922292306, 414.0210502561258, 325.3668846201097, 406.10494756940795, 657.611598925108, 519.5559853577164, 827.9863326038134, 665.1830480968466, 286.3923693901651, 813.7728667308461, 990.688372384213, 557.3890716567785, 869.4481553563354, 9175.471040919296, 1036.7193412237013, 1569.1649661990673, 890.4777533775272, 12278.114412436129, 1230.3074912924342, 1177.3197454038268, 1885.7399763471337, 1247.941225532309, 1811.9593275144496, 1260.5526136700707, 844.7331708797904, 1767.1056594063507, 1480.6126823571137, 1170.5597732055762, 1647.0964528002387, 1326.732949272958, 1076.129512610075, 1433.7891035430378, 1134.2306562474373, 1603.6758925255044, 1732.865731791393, 1716.8949397351248, 1393.698152030105, 1379.0518723018415, 1238.8783033435943, 1114.6979708195279, 1076.7945130648268, 1066.687094214905, 1098.8479275562227, 643.9691856414423, 8.759782854713164, 673.7553108642323, 6.979507233127525, 7.515562534431833, 8.027393370629126, 9.290049733692703, 638.8289725346053, 9.623691362333517, 6.135925237384718, 6.079484003611339, 15.24303518814896, 644.177371272003, 8.349618094774033, 8.137378686937149, 5.265963112552512, 4.872540323400744, 1190.1656382144672, 5.284202170219075, 10.886325380816807, 4.654593933354083, 13.875649189266873, 4.408613915276814, 4.408225237182881, 4.407365558857118, 4.407270006375629, 1184.512788690512, 5.366023319106395, 4.5248589481490695, 6.329911475188545, 581.8678485877278, 605.4459626050675, 58.48928625710483, 782.9510073379042, 600.7653986832753, 3497.5468934184087, 590.3319567837987, 589.2658145361877, 633.6736309708837, 1858.7994771945703, 583.5833478590779, 627.4983228227286, 1265.5473519022778, 6223.09149212392, 598.6649140538927, 571.9658595940317, 2789.3297856966465, 570.4946736114741, 1207.5617830466651, 1762.952799905635, 901.6742446808908, 632.6938940392104, 575.9740727429394, 567.3056551129723, 628.2153439396976, 1299.2573171388133, 2203.6954782063453, 1115.4707263628336, 1803.3144691502798, 1635.2916551820585, 2112.4072081948057, 2401.9621096675805, 1210.2261978412596, 1274.1463366890807, 11269.661708824155, 1387.051139407883, 1175.755519601081, 2398.55376617723, 5937.480677206692, 1192.3038687201065, 1274.055867011592, 1687.9328143958699, 2162.5791925003837, 2047.0113297741707, 1649.5336296527576, 1513.3540347138533, 2086.9019846746187, 1966.5851412738373, 1426.0793969999563, 1247.7951991045873, 1317.7992355986416, 1257.5602040608212, 1280.2514593345252, 1274.345791468902, 1162.0572120283696, 580.630036033953, 580.7837886657425, 1161.3008569765493, 584.30850031415, 1162.5340070317923, 585.8063206892382, 586.691989796637, 585.732573374271, 1181.8537535180722, 583.9573508824598, 582.6472705630302, 594.9756960628239, 587.7372379513458, 600.8322147301205, 589.1900115027343, 580.5126445508746, 585.6469574350957, 626.301257263599, 1172.7224656385365, 585.874133692101, 583.7702042580115, 594.9556812465454, 627.7578071954174, 585.4099625889726, 1247.3427718644118, 2419.8517101637826, 581.5371765615106, 2456.0956831847716, 588.9340268578778, 2443.3211592596213, 2389.2302281200195, 2530.765729735738, 3295.6903598206723, 1207.8777621298727, 3034.321028057538, 1178.2478496904214, 1296.4213672076787, 1803.574908699686, 1266.375945024353, 1630.9464169693833, 1490.4292433107373, 2574.711792488415, 3208.6609753986786, 1257.3400377248188, 1234.0914529358388, 8929.10262924949, 631.6935508794753, 2729.071882044126, 1309.3256907230345, 1349.9599757352594, 3565.3273752073123, 1699.4973245682984], \"Total\": [9384.0, 3724.0, 3441.0, 4662.0, 2582.0, 2799.0, 2627.0, 2542.0, 2600.0, 3427.0, 4326.0, 44706.0, 4985.0, 2037.0, 4212.0, 1894.0, 1779.0, 1410.0, 5052.0, 1304.0, 1415.0, 1194.0, 1164.0, 1164.0, 1168.0, 1205.0, 1296.0, 1269.0, 1506.0, 8974.0, 33.12132580330756, 51.95714207745429, 29.253927209966992, 25.508999139375085, 26.56307661224544, 18.890883875777252, 19.647844518048576, 27.47773264352756, 24.220939352801146, 65.58512755352581, 18.51666775357329, 18.659606428764718, 21.67709897955056, 31.542185218345303, 24.387453652827954, 15.380552559292896, 18.35747188366851, 49.574907688324444, 18.817719235951756, 22.678915637726305, 19.001052762398285, 24.753839742518117, 15.709626371013174, 38.783401526041644, 73.16446813612296, 4326.010848575987, 16.062537121424043, 20.148795205251673, 13.134060283567457, 31.300886185227732, 1960.190656393231, 122.18472953434056, 1842.6125533532295, 337.8230768412137, 36.53957189951598, 1962.0757529764542, 1907.8959034641707, 1971.2540063765082, 1784.73123131373, 303.3975462386017, 155.18189204657426, 1729.9084157868797, 74.05579389004693, 1583.2872769901603, 56.16921314464756, 1175.3766618393072, 518.033593919901, 253.55733802782547, 221.4686526038898, 1849.7528593489096, 183.15233016494764, 375.96406764402815, 111.48312947425497, 2090.5345747032147, 1549.1592717198264, 264.48658404073836, 1648.2371792627723, 703.3471427771217, 4946.724161977313, 1611.3732432691202, 1482.4998967126753, 916.314728912432, 1885.8418273128236, 516.1770580641256, 1350.1332220415422, 1756.9306929283998, 1887.3344116836033, 1679.8605984625494, 7995.48840225363, 1474.203835577859, 1959.120855936355, 2809.2542538476723, 1373.460276828872, 2044.1984593775485, 1644.3443744233448, 1518.495490444403, 44706.48756965174, 4497.575772047199, 6993.403264477239, 5052.040885922065, 3060.3418801227044, 8974.843586631967, 24850.22037290107, 5930.544388859095, 5806.105059086093, 6424.633445335472, 6360.188283504586, 3582.3316228310496, 4714.719034666512, 4587.932315817173, 3414.7825034781904, 4524.891558745264, 3802.765621537524, 9384.309571148746, 61.15538861358736, 30.661692437793036, 55.95771348848681, 28.35558044124283, 28.00145777787862, 33.19231537160757, 25.67009311990549, 39.95237443395798, 36.93032866845483, 35.81560263767896, 29.460341707119742, 22.883032482397446, 42.643773121152435, 21.62166771230688, 66.10312110350603, 21.153890893321332, 83.03755711714899, 44.373331472961944, 21.754904950976403, 90.64921866677211, 20.571433479700367, 20.372376930967057, 27.978194161242552, 20.28629426234297, 20.285751940820898, 52.48653255319047, 26.969897632754265, 24.907346657023115, 19.328790711211578, 24.78844536252155, 1279.9291175708104, 276.26846979712764, 246.71869772887496, 130.1605196334456, 446.1516254329161, 389.20364648885766, 74.88189102592894, 186.62770778153876, 149.52148618334726, 623.6951051489838, 50.140587949841624, 44.74953119458574, 393.19850687988287, 269.3773524318888, 114.93643113639122, 135.32263631451835, 102.23198837178212, 159.28372854278703, 390.5092336126578, 682.9938114688425, 321.2360058816299, 317.00153551504235, 341.38204171902265, 143.4158001682619, 138.9375669891752, 524.9035548213316, 260.9687091551717, 1275.547815904706, 930.5494150484686, 389.1858777889412, 514.5512519253607, 1058.4350597364719, 439.0676533444808, 488.53476075219555, 376.93784260710066, 483.87472479319956, 824.2893470226948, 638.6852681028253, 1090.4470885826224, 852.8428469150799, 330.7941885153174, 1089.792763660824, 1383.6821922489094, 728.7612571107571, 1273.2387538319217, 24850.22037290107, 1611.1009121984416, 2775.322996735693, 1343.2195261515972, 44706.48756965174, 2106.019622081645, 2072.637058704527, 4114.002255641295, 2362.633519427669, 4144.110786307985, 2539.828353091002, 1426.8671603593398, 4587.932315817173, 3524.1486459645766, 2500.8187168404775, 4524.891558745264, 3457.5231195306014, 2509.7042885205065, 4714.719034666512, 2817.7354462650774, 6360.188283504586, 8974.843586631967, 9384.309571148746, 5930.544388859095, 6424.633445335472, 5806.105059086093, 4212.952763036315, 3582.3316228310496, 3477.530294389982, 6993.403264477239, 747.1195684129875, 10.196962625515521, 790.3976594043154, 8.216146648526847, 8.855609199011777, 9.49151087887166, 11.028766872405503, 765.4703344506228, 11.539507751527905, 7.3716722945400655, 7.3108816562895855, 18.409130859876957, 778.5586945737572, 10.09908679603989, 9.960244908565603, 6.4990949379527665, 6.097533296907857, 1497.1160606001972, 6.661282516892881, 13.792353945348191, 5.932444774786964, 17.73462260289187, 5.642019865407272, 5.642857394811519, 5.645069302982056, 5.645451469803324, 1531.0619879040046, 6.950071469089764, 5.87823386157972, 8.22931457168533, 766.8705225680729, 800.8436365993291, 76.07109025543515, 1052.2257121742339, 825.3470755929757, 4985.046322342361, 820.5336553720642, 821.1511657993785, 885.1729292325809, 2684.795678172082, 814.2863171913141, 879.0885347352425, 1813.8941273054265, 9384.309571148746, 847.6104741987596, 808.3936022310803, 4212.952763036315, 822.7862436207092, 1813.1227848763988, 2700.992510181852, 1342.9510002304794, 930.5003181224914, 843.8963457938102, 833.0093880318209, 928.6658777298561, 2055.77523288709, 3810.095189810423, 1782.3421166038825, 3237.926188818171, 2924.0098995093795, 4163.5413960844435, 5052.040885922065, 2110.1144811180925, 2270.7089855188465, 44706.48756965174, 2817.7354462650774, 2212.435398327614, 6360.188283504586, 24850.22037290107, 2269.1637082987354, 2513.0864125120697, 3910.2914239261213, 5806.105059086093, 5930.544388859095, 4497.575772047199, 3802.765621537524, 7995.48840225363, 6993.403264477239, 4144.110786307985, 2782.231754441143, 4714.719034666512, 3247.2258548431805, 4524.891558745264, 8974.843586631967, 1164.299712468705, 582.1907402610522, 582.3616481935668, 1164.9428092284554, 586.6769935319442, 1168.4916643288516, 589.6631960918924, 591.9355717352898, 590.9840173571914, 1194.5643704080107, 591.1590685187258, 590.4586270889064, 603.6828046352251, 598.6596962689064, 613.3507699045413, 601.6394506263298, 595.2001737364462, 600.6122494854882, 642.8556740165399, 1205.350797867124, 604.9622635280814, 603.2967709325494, 617.9272738415392, 654.7783810090468, 612.078917894976, 1304.4405896603278, 2542.0865658556054, 611.3943191915014, 2582.8515120687757, 619.4066986667383, 2627.767196689583, 2600.819105044091, 2799.2713348510238, 3724.144570672567, 1296.3523189462408, 3441.8680426942133, 1269.5392442222742, 1410.9412307797957, 2037.791073726135, 1415.9162179780126, 1894.912063812017, 1779.2380442717927, 3427.7647470112115, 4662.016796622011, 1506.7227370725614, 1582.7962741497852, 44706.48756965174, 671.4794958971113, 8974.843586631967, 2477.404474761143, 3087.267843874417, 24850.22037290107, 6424.633445335472], \"Category\": [\"Default\", \"Default\", \"Default\", \"Default\", \"Default\", \"Default\", \"Default\", \"Default\", \"Default\", \"Default\", \"Default\", \"Default\", \"Default\", \"Default\", \"Default\", \"Default\", \"Default\", \"Default\", \"Default\", \"Default\", \"Default\", \"Default\", \"Default\", \"Default\", \"Default\", \"Default\", \"Default\", \"Default\", \"Default\", \"Default\", \"Topic1\", \"Topic1\", \"Topic1\", \"Topic1\", \"Topic1\", \"Topic1\", \"Topic1\", \"Topic1\", \"Topic1\", \"Topic1\", \"Topic1\", \"Topic1\", \"Topic1\", \"Topic1\", \"Topic1\", \"Topic1\", \"Topic1\", \"Topic1\", \"Topic1\", \"Topic1\", \"Topic1\", \"Topic1\", \"Topic1\", \"Topic1\", \"Topic1\", \"Topic1\", \"Topic1\", \"Topic1\", \"Topic1\", \"Topic1\", \"Topic1\", \"Topic1\", \"Topic1\", \"Topic1\", \"Topic1\", \"Topic1\", \"Topic1\", \"Topic1\", \"Topic1\", \"Topic1\", \"Topic1\", \"Topic1\", \"Topic1\", \"Topic1\", \"Topic1\", \"Topic1\", \"Topic1\", \"Topic1\", \"Topic1\", \"Topic1\", \"Topic1\", \"Topic1\", \"Topic1\", \"Topic1\", \"Topic1\", \"Topic1\", \"Topic1\", \"Topic1\", \"Topic1\", \"Topic1\", \"Topic1\", \"Topic1\", \"Topic1\", \"Topic1\", \"Topic1\", \"Topic1\", \"Topic1\", \"Topic1\", \"Topic1\", \"Topic1\", \"Topic1\", \"Topic1\", \"Topic1\", \"Topic1\", \"Topic1\", \"Topic1\", \"Topic1\", \"Topic1\", \"Topic1\", \"Topic1\", \"Topic1\", \"Topic1\", \"Topic1\", \"Topic1\", \"Topic1\", \"Topic1\", \"Topic1\", \"Topic1\", \"Topic1\", \"Topic1\", \"Topic1\", \"Topic1\", \"Topic1\", \"Topic1\", \"Topic2\", \"Topic2\", \"Topic2\", \"Topic2\", \"Topic2\", \"Topic2\", \"Topic2\", \"Topic2\", \"Topic2\", \"Topic2\", \"Topic2\", \"Topic2\", \"Topic2\", \"Topic2\", \"Topic2\", \"Topic2\", \"Topic2\", \"Topic2\", \"Topic2\", \"Topic2\", \"Topic2\", \"Topic2\", \"Topic2\", \"Topic2\", \"Topic2\", \"Topic2\", \"Topic2\", \"Topic2\", \"Topic2\", \"Topic2\", \"Topic2\", \"Topic2\", \"Topic2\", \"Topic2\", \"Topic2\", \"Topic2\", \"Topic2\", \"Topic2\", \"Topic2\", \"Topic2\", \"Topic2\", \"Topic2\", \"Topic2\", \"Topic2\", \"Topic2\", \"Topic2\", \"Topic2\", \"Topic2\", \"Topic2\", \"Topic2\", \"Topic2\", \"Topic2\", \"Topic2\", \"Topic2\", \"Topic2\", \"Topic2\", \"Topic2\", \"Topic2\", \"Topic2\", \"Topic2\", \"Topic2\", \"Topic2\", \"Topic2\", \"Topic2\", \"Topic2\", \"Topic2\", \"Topic2\", \"Topic2\", \"Topic2\", \"Topic2\", \"Topic2\", \"Topic2\", \"Topic2\", \"Topic2\", \"Topic2\", \"Topic2\", \"Topic2\", \"Topic2\", \"Topic2\", \"Topic2\", \"Topic2\", \"Topic2\", \"Topic2\", \"Topic2\", \"Topic2\", \"Topic2\", \"Topic2\", \"Topic2\", \"Topic2\", \"Topic2\", \"Topic2\", \"Topic2\", \"Topic2\", \"Topic2\", \"Topic2\", \"Topic2\", \"Topic2\", \"Topic2\", \"Topic2\", \"Topic2\", \"Topic2\", \"Topic2\", \"Topic2\", \"Topic2\", \"Topic2\", \"Topic3\", \"Topic3\", \"Topic3\", \"Topic3\", \"Topic3\", \"Topic3\", \"Topic3\", \"Topic3\", \"Topic3\", \"Topic3\", \"Topic3\", \"Topic3\", \"Topic3\", \"Topic3\", \"Topic3\", \"Topic3\", \"Topic3\", \"Topic3\", \"Topic3\", \"Topic3\", \"Topic3\", \"Topic3\", \"Topic3\", \"Topic3\", \"Topic3\", \"Topic3\", \"Topic3\", \"Topic3\", \"Topic3\", \"Topic3\", \"Topic3\", \"Topic3\", \"Topic3\", \"Topic3\", \"Topic3\", \"Topic3\", \"Topic3\", \"Topic3\", \"Topic3\", \"Topic3\", \"Topic3\", \"Topic3\", \"Topic3\", \"Topic3\", \"Topic3\", \"Topic3\", \"Topic3\", \"Topic3\", \"Topic3\", \"Topic3\", \"Topic3\", \"Topic3\", \"Topic3\", \"Topic3\", \"Topic3\", \"Topic3\", \"Topic3\", \"Topic3\", \"Topic3\", \"Topic3\", \"Topic3\", \"Topic3\", \"Topic3\", \"Topic3\", \"Topic3\", \"Topic3\", \"Topic3\", \"Topic3\", \"Topic3\", \"Topic3\", \"Topic3\", \"Topic3\", \"Topic3\", \"Topic3\", \"Topic3\", \"Topic3\", \"Topic3\", \"Topic3\", \"Topic3\", \"Topic3\", \"Topic3\", \"Topic3\", \"Topic3\", \"Topic3\", \"Topic4\", \"Topic4\", \"Topic4\", \"Topic4\", \"Topic4\", \"Topic4\", \"Topic4\", \"Topic4\", \"Topic4\", \"Topic4\", \"Topic4\", \"Topic4\", \"Topic4\", \"Topic4\", \"Topic4\", \"Topic4\", \"Topic4\", \"Topic4\", \"Topic4\", \"Topic4\", \"Topic4\", \"Topic4\", \"Topic4\", \"Topic4\", \"Topic4\", \"Topic4\", \"Topic4\", \"Topic4\", \"Topic4\", \"Topic4\", \"Topic4\", \"Topic4\", \"Topic4\", \"Topic4\", \"Topic4\", \"Topic4\", \"Topic4\", \"Topic4\", \"Topic4\", \"Topic4\", \"Topic4\", \"Topic4\", \"Topic4\", \"Topic4\", \"Topic4\", \"Topic4\", \"Topic4\", \"Topic4\", \"Topic4\", \"Topic4\", \"Topic4\", \"Topic4\", \"Topic4\"], \"logprob\": [30.0, 29.0, 28.0, 27.0, 26.0, 25.0, 24.0, 23.0, 22.0, 21.0, 20.0, 19.0, 18.0, 17.0, 16.0, 15.0, 14.0, 13.0, 12.0, 11.0, 10.0, 9.0, 8.0, 7.0, 6.0, 5.0, 4.0, 3.0, 2.0, 1.0, -9.5655, -9.1212, -9.6962, -9.8417, -9.8027, -10.1453, -10.1074, -9.773, -9.9019, -8.9068, -10.1733, -10.1661, -10.0178, -9.6429, -9.9007, -10.3617, -10.1852, -9.1923, -10.1614, -9.9769, -10.1538, -9.8898, -10.3445, -9.4417, -8.8073, -4.7277, -10.3244, -10.0998, -10.5294, -9.6623, -5.5663, -8.3225, -5.6675, -7.3318, -9.5117, -5.637, -5.6673, -5.6477, -5.769, -7.4729, -8.1166, -5.8048, -8.8335, -5.8937, -9.0994, -6.1817, -6.9694, -7.6593, -7.7902, -5.7805, -7.9954, -7.3288, -8.4638, -5.7405, -6.0204, -7.6615, -5.9784, -6.7762, -5.0037, -6.0258, -6.1047, -6.5474, -5.9084, -7.0651, -6.2172, -5.9888, -5.9297, -6.035, -4.6865, -6.1489, -5.9127, -5.6241, -6.231, -5.9135, -6.0966, -6.1591, -3.627, -5.3462, -5.0207, -5.2872, -5.6656, -4.9558, -4.3109, -5.326, -5.3758, -5.3795, -5.4237, -5.6758, -5.6385, -5.6681, -5.781, -5.758, -5.8233, -5.7826, -8.8602, -9.5527, -8.9521, -9.6328, -9.6462, -9.4763, -9.735, -9.2953, -9.3747, -9.4059, -9.6021, -9.8551, -9.233, -9.9123, -8.7951, -9.9349, -8.5679, -9.1947, -9.908, -8.481, -9.9642, -9.974, -9.6568, -9.9787, -9.9787, -9.0281, -9.6946, -9.7746, -10.0289, -9.7804, -5.8452, -7.3758, -7.4888, -8.1234, -6.9082, -7.0441, -8.6761, -7.7741, -7.9941, -6.5813, -9.0786, -9.1914, -7.0499, -7.4217, -8.2589, -8.1012, -8.3761, -7.9422, -7.0654, -6.525, -7.2635, -7.2789, -7.209, -8.051, -8.0856, -6.8106, -7.4821, -5.9765, -6.2927, -7.114, -6.8715, -6.2043, -7.0211, -6.9244, -7.1653, -6.9437, -6.4617, -6.6973, -6.2313, -6.4502, -7.2929, -6.2486, -6.0519, -6.627, -6.1824, -3.826, -6.0065, -5.592, -6.1585, -3.5347, -5.8353, -5.8793, -5.4082, -5.821, -5.4481, -5.811, -6.2113, -5.4732, -5.6501, -5.885, -5.5435, -5.7598, -5.9691, -5.6822, -5.9166, -5.5702, -5.4927, -5.502, -5.7106, -5.7211, -5.8283, -5.9339, -5.9685, -5.978, -5.9483, -6.2186, -10.5161, -6.1734, -10.7432, -10.6693, -10.6034, -10.4573, -6.2266, -10.422, -10.8721, -10.8813, -9.9621, -6.2183, -10.564, -10.5898, -11.025, -11.1026, -5.6044, -11.0215, -10.2987, -11.1484, -10.0561, -11.2027, -11.2028, -11.2029, -11.203, -5.6091, -11.0061, -11.1766, -10.8409, -6.32, -6.2803, -8.6174, -6.0232, -6.288, -4.5264, -6.3055, -6.3073, -6.2347, -5.1585, -6.317, -6.2445, -5.543, -3.9502, -6.2915, -6.3371, -4.7527, -6.3397, -5.5899, -5.2115, -5.882, -6.2362, -6.3302, -6.3453, -6.2433, -5.5167, -4.9883, -5.6692, -5.1888, -5.2867, -5.0306, -4.9022, -5.5877, -5.5362, -3.3564, -5.4513, -5.6166, -4.9036, -3.9972, -5.6026, -5.5363, -5.255, -5.0072, -5.0621, -5.278, -5.3641, -5.0428, -5.1022, -5.4235, -5.5571, -5.5025, -5.5493, -5.5314, -5.536, -5.2953, -5.9891, -5.9888, -5.2959, -5.9828, -5.2949, -5.9802, -5.9787, -5.9804, -5.2784, -5.9834, -5.9856, -5.9647, -5.9769, -5.9549, -5.9745, -5.9893, -5.9805, -5.9134, -5.2861, -5.9801, -5.9837, -5.9647, -5.9111, -5.9809, -5.2245, -4.5618, -5.9876, -4.5469, -5.9749, -4.5521, -4.5745, -4.5169, -4.2529, -5.2566, -4.3355, -5.2814, -5.1859, -4.8557, -5.2093, -4.9563, -5.0464, -4.4997, -4.2796, -5.2165, -5.2351, -3.2562, -5.9048, -4.4415, -5.176, -5.1454, -4.1742, -4.9151], \"loglift\": [30.0, 29.0, 28.0, 27.0, 26.0, 25.0, 24.0, 23.0, 22.0, 21.0, 20.0, 19.0, 18.0, 17.0, 16.0, 15.0, 14.0, 13.0, 12.0, 11.0, 10.0, 9.0, 8.0, 7.0, 6.0, 5.0, 4.0, 3.0, 2.0, 1.0, 1.1116, 1.1056, 1.105, 1.0965, 1.0949, 1.0932, 1.0919, 1.0908, 1.0881, 1.0871, 1.0853, 1.0848, 1.0832, 1.083, 1.0824, 1.0824, 1.082, 1.0814, 1.081, 1.0789, 1.0789, 1.0785, 1.0785, 1.0775, 1.0772, 1.0771, 1.0764, 1.0743, 1.0726, 1.0713, 1.0301, 1.0492, 0.9908, 1.0229, 1.0671, 0.9585, 0.9561, 0.9431, 0.9211, 0.9892, 1.016, 0.9166, 1.0389, 0.9162, 1.0494, 0.9262, 0.9578, 0.9824, 0.9867, 0.8739, 0.9715, 0.9189, 0.9996, 0.7915, 0.8113, 0.9379, 0.7914, 0.8451, 0.6671, 0.7665, 0.771, 0.8094, 0.7267, 0.8657, 0.7521, 0.717, 0.7046, 0.7157, 0.5041, 0.7325, 0.6843, 0.6124, 0.7211, 0.641, 0.6756, 0.6926, -0.1577, 0.4198, 0.3038, 0.3624, 0.4853, 0.1193, -0.2543, 0.1633, 0.1347, 0.0298, -0.0043, 0.3176, 0.0802, 0.0779, 0.2604, 0.0019, 0.1104, -0.7522, 1.2036, 1.2015, 1.2005, 1.1996, 1.1988, 1.1986, 1.1969, 1.1943, 1.1935, 1.1929, 1.1921, 1.1917, 1.1913, 1.1912, 1.1909, 1.1905, 1.19, 1.1899, 1.1893, 1.1892, 1.1891, 1.189, 1.189, 1.1886, 1.1886, 1.1885, 1.1879, 1.1874, 1.1867, 1.1864, 1.1774, 1.18, 1.1802, 1.1851, 1.1684, 1.169, 1.1852, 1.174, 1.1756, 1.1602, 1.1838, 1.1847, 1.153, 1.1594, 1.1739, 1.1683, 1.1738, 1.1643, 1.1443, 1.1257, 1.1415, 1.1394, 1.1352, 1.1605, 1.1576, 1.1034, 1.1307, 1.0496, 1.0487, 1.0991, 1.0624, 1.0084, 1.0715, 1.0614, 1.0798, 1.0517, 1.001, 1.0205, 0.9516, 0.9784, 1.0828, 0.9349, 0.8928, 0.9589, 0.8455, 0.2306, 0.7861, 0.6567, 0.8159, -0.0654, 0.6894, 0.6614, 0.4469, 0.5887, 0.3997, 0.5264, 0.7027, 0.2729, 0.3598, 0.4678, 0.2164, 0.2691, 0.3801, 0.0366, 0.317, -0.1508, -0.4177, -0.4716, -0.2212, -0.3118, -0.3178, -0.1026, 0.0249, 0.0452, -0.6238, 1.3424, 1.3391, 1.3313, 1.3279, 1.3269, 1.3234, 1.3194, 1.3101, 1.3094, 1.3075, 1.3065, 1.3023, 1.3015, 1.3008, 1.2889, 1.2806, 1.2667, 1.2615, 1.2594, 1.2544, 1.2484, 1.2456, 1.2443, 1.2441, 1.2435, 1.2434, 1.2344, 1.2323, 1.2293, 1.2286, 1.2149, 1.2113, 1.2282, 1.1954, 1.1734, 1.1366, 1.1617, 1.1592, 1.1567, 1.1233, 1.1579, 1.1538, 1.131, 1.0802, 1.1433, 1.145, 1.0786, 1.1248, 1.0845, 1.0644, 1.0926, 1.1052, 1.109, 1.1068, 1.1001, 1.0321, 0.9435, 1.0223, 0.9057, 0.9099, 0.8124, 0.7475, 0.9351, 0.9132, 0.113, 0.7822, 0.8588, 0.5158, 0.0594, 0.8475, 0.8117, 0.6509, 0.5034, 0.4273, 0.4879, 0.5696, 0.1478, 0.2223, 0.4242, 0.6891, 0.2163, 0.5424, 0.2284, -0.461, 1.8221, 1.8213, 1.8213, 1.8209, 1.8199, 1.8189, 1.8174, 1.8151, 1.8151, 1.8133, 1.8117, 1.8107, 1.8095, 1.8056, 1.8034, 1.8031, 1.799, 1.7988, 1.7979, 1.7965, 1.7919, 1.7911, 1.7861, 1.7818, 1.7794, 1.7792, 1.7747, 1.7739, 1.7737, 1.7735, 1.7512, 1.7391, 1.7232, 1.7018, 1.7533, 1.698, 1.7494, 1.7393, 1.7019, 1.7124, 1.674, 1.6469, 1.5378, 1.4504, 1.643, 1.5751, 0.2132, 1.7629, 0.6335, 1.1863, 0.9968, -0.1176, 0.4942]}, \"token.table\": {\"Topic\": [1, 2, 3, 4, 1, 2, 3, 4, 1, 2, 3, 1, 2, 3, 4, 1, 2, 3, 4, 1, 2, 1, 2, 3, 4, 1, 2, 3, 4, 1, 2, 3, 4, 1, 2, 1, 2, 3, 4, 1, 2, 3, 4, 1, 2, 3, 1, 2, 1, 2, 3, 1, 2, 3, 4, 1, 2, 1, 2, 1, 2, 3, 4, 1, 2, 3, 4, 1, 2, 3, 4, 1, 2, 3, 4, 1, 2, 3, 1, 2, 3, 4, 1, 2, 1, 2, 1, 2, 1, 2, 1, 2, 3, 4, 1, 2, 3, 4, 1, 2, 3, 4, 1, 2, 3, 4, 1, 2, 3, 4, 1, 2, 1, 2, 3, 4, 1, 2, 4, 1, 2, 3, 4, 1, 2, 3, 4, 1, 2, 1, 2, 4, 1, 2, 3, 4, 1, 2, 3, 4, 1, 2, 3, 4, 1, 2, 3, 4, 1, 2, 3, 4, 1, 2, 3, 4, 1, 2, 3, 4, 1, 2, 3, 4, 1, 2, 3, 4, 1, 2, 3, 4, 1, 2, 1, 2, 3, 4, 1, 2, 3, 4, 1, 2, 3, 1, 2, 3, 1, 2, 3, 4, 1, 2, 3, 4, 1, 2, 3, 4, 1, 2, 1, 2, 3, 4, 1, 2, 3, 4, 1, 2, 3, 4, 1, 2, 3, 4, 1, 2, 3, 4, 1, 2, 3, 4, 1, 2, 4, 1, 2, 4, 1, 2, 3, 4, 1, 2, 3, 4, 1, 2, 3, 1, 2, 1, 2, 3, 4, 1, 2, 1, 2, 3, 4, 1, 2, 3, 1, 2, 3, 4, 1, 2, 3, 4, 1, 2, 3, 4, 1, 2, 3, 4, 1, 2, 3, 4, 1, 2, 4, 1, 2, 3, 4, 1, 2, 3, 4, 1, 2, 3, 4, 1, 2, 3, 4, 1, 2, 3, 4, 1, 2, 3, 1, 2, 3, 4, 1, 2, 3, 4, 1, 2, 3, 4, 1, 2, 3, 4, 1, 2, 3, 4, 1, 2, 3, 4, 1, 2, 3, 4, 1, 2, 3, 4, 1, 2, 3, 4, 1, 2, 3, 4, 1, 2, 3, 4, 1, 2, 1, 2, 3, 4, 1, 2, 3, 4, 1, 2, 1, 2, 3, 4, 1, 2, 1, 2, 3, 4, 1, 2, 3, 4, 1, 2, 3, 4, 1, 2, 3, 4, 1, 2, 3, 4, 1, 2, 3, 4, 1, 2, 3, 4, 1, 2, 3, 4, 1, 2, 3, 4, 1, 2, 3, 4, 1, 2, 3, 4, 1, 2, 3, 4, 1, 2, 3, 1, 2, 3, 4, 1, 2, 1, 2, 3, 4, 1, 2, 3, 4, 1, 2, 3, 1, 2, 3, 4, 1, 2, 3, 4, 1, 2, 4, 1, 2, 3, 1, 2, 3, 4, 1, 2, 3, 4, 1, 2, 1, 2, 3, 4, 1, 2, 3, 4, 1, 2, 4, 1, 2, 3, 4, 1, 2, 3, 4, 1, 2, 3, 4, 1, 2, 3, 1, 2, 3, 4, 1, 2, 3, 4, 1, 2, 3, 4, 1, 2, 3, 4, 1, 2, 3, 4, 1, 2, 4, 1, 2, 3, 4, 1, 2, 1, 2, 3, 4, 1, 2, 3, 4, 1, 2, 4, 1, 2, 3, 1, 2, 3, 1, 2, 1, 2, 3, 4, 1, 2, 1, 2, 3, 4, 1, 2, 3, 4, 1, 2, 3, 4, 1, 2, 3, 4, 1, 2, 1, 2, 3, 4, 1, 2, 3, 4, 1, 2, 3, 4, 1, 2, 3, 4, 1, 2, 3, 4, 1, 2, 3, 4, 1, 2, 3, 4, 1, 2, 1, 2, 1, 2, 3, 4, 1, 2, 3, 4, 1, 2, 3, 4, 1, 2, 1, 2, 3, 4, 1, 2, 3, 4, 1, 2, 1, 2, 3, 4, 1, 2, 3, 4, 1, 2, 3, 4, 1, 2, 1, 2, 3, 4, 1, 2, 3, 4, 1, 2, 3, 4, 1, 2, 3, 4, 1, 2, 3, 4, 1, 2, 3, 4, 1, 2, 3, 4, 1, 2, 1, 2, 3, 4, 1, 2, 4, 1, 2, 3, 4, 1, 2, 1, 2, 3, 4, 1, 2, 3, 4, 1, 2, 3, 4, 1, 2, 3, 4, 1, 2, 3, 4, 1, 2, 3, 4, 1, 2, 3, 4, 1, 2, 3, 4, 1, 2, 3, 1, 2, 3, 4, 1, 2, 3, 4, 1, 2, 3, 4, 1, 2, 3, 4, 1, 2, 3, 1, 2, 3, 4, 1, 2, 3, 1, 2, 3, 4, 1, 2, 3, 1, 2, 3, 1, 2, 3, 4, 1, 2, 3, 4, 1, 2, 3, 4, 1, 2, 3, 4, 1, 2, 3, 4, 1, 2, 3, 4, 1, 2, 3, 4, 1, 2, 3, 4, 1, 2, 3, 4, 1, 2, 3, 4, 1, 2, 3, 4, 1, 2, 1, 2, 3, 4, 1, 2, 3, 1, 2, 1, 2, 3, 4, 1, 2, 3, 4, 1, 2, 1, 2, 3, 4, 1, 2, 3, 4, 1, 2, 3, 1, 2, 3, 4, 1, 2, 3, 4, 1, 2, 3, 4, 1, 2, 3, 4, 1, 2, 3, 4, 1, 2, 3, 4, 1, 2, 3, 1, 2, 3, 1, 2, 3, 4, 1, 2, 3, 4, 1, 2, 1, 2, 1, 2, 3, 4, 1, 2, 3, 4, 1, 2, 4, 1, 2, 1, 2, 3, 4, 1, 2, 3, 1, 2, 3, 4, 1, 2, 3, 4, 1, 2, 3, 4, 1, 2, 3, 4, 1, 2, 3, 1, 2, 4, 1, 2, 3, 4, 1, 2, 1, 2, 3, 4, 1, 2, 3, 4, 1, 2, 3, 4, 1, 2, 3, 4, 1, 2, 3, 4, 1, 2, 3, 1, 2, 3, 4, 1, 2, 3, 4, 1, 2, 4, 1, 2, 1, 2, 3, 1, 2, 1, 2, 1, 2, 3, 4, 1, 2, 1, 2, 3, 4, 1, 2, 3, 4, 1, 2, 3, 4, 1, 2, 3, 4, 1, 2, 3, 1, 2, 3, 4, 1, 2, 1, 2, 3, 4, 1, 2, 3, 1, 2, 3, 4, 1, 2, 3, 4, 1, 2, 3, 4, 1, 2, 3, 4, 1, 2, 3, 4, 1, 2, 3, 4, 1, 2, 1, 2, 3, 1, 2, 3, 4, 1, 2, 3, 1, 2, 3, 4, 1, 2, 3, 4, 1, 2, 3, 4, 1, 2, 3, 4, 1, 2, 3, 4, 1, 2, 3, 4, 1, 2, 3, 4, 1, 2, 3, 4, 1, 2, 3, 4, 1, 2, 1, 2, 3, 4, 1, 2, 3, 4, 1, 2, 3, 4], \"Freq\": [0.012556210344252187, 0.9417157758189141, 0.01883431551637828, 0.03139052586063047, 0.23169006588990257, 0.08403266638493875, 0.6806645977180039, 0.0024009333252839643, 0.05432086976900787, 0.10864173953801574, 0.814813046535118, 0.7069961998642506, 0.07605710133857635, 0.19181696626898814, 0.025830713662158004, 0.6661222663384777, 0.03188161559868478, 0.2950745273495293, 0.007461654714585799, 0.9260534406768632, 0.054473731804521364, 0.07707877633559222, 0.1074048522709072, 0.03601221517318653, 0.7796328688370557, 0.020172514201348014, 0.9436253865297238, 0.02241390466816446, 0.013448342800898676, 0.018098337474673286, 0.9555922186627495, 0.0253376724645426, 0.007239334989869314, 0.03394393758027348, 0.9504302522476574, 0.1721589372229294, 0.16660542311896395, 0.652723024352741, 0.008515388292747046, 0.3463433831667104, 0.38514081690092966, 0.20771884465567966, 0.06081170793172574, 0.10535730430715988, 0.10535730430715988, 0.842858434457279, 0.972097152660009, 0.0540053973700005, 0.12151680328768913, 0.12151680328768913, 0.7291008197261347, 0.12755216817392126, 0.5922064950932059, 0.27823192728047663, 0.002102508266603098, 0.9473159316530453, 0.052628662869613624, 0.0225360586371418, 0.9690505213970974, 0.8032682535128354, 0.05585640173433624, 0.12767177539276853, 0.010639314616064046, 0.6349786927287008, 0.05257460237223166, 0.28890509653090407, 0.023990352538785318, 0.027445618584029188, 0.017758929672018888, 0.0032288963040034337, 0.9509099615290113, 0.3665107638157269, 0.21339606972165676, 0.37253890137848555, 0.04770840299669001, 0.1356544295574105, 0.1356544295574105, 0.813926577344463, 0.3008253103578344, 0.1496168210245314, 0.506946356343758, 0.04217921018244768, 0.0492956831433843, 0.9859136628676859, 0.9646505712066948, 0.05359169840037194, 0.04908607392198545, 0.9817214784397089, 0.9565452526048172, 0.053141402922489846, 0.05628235046307365, 0.7797450637071662, 0.12898038647787713, 0.03517646903942103, 0.13035819216932096, 0.7643106635611766, 0.039793553399055874, 0.06586519183292007, 0.1682161410612168, 0.07172006014237925, 0.7589286364157223, 0.0013040010934978047, 0.8046029423393735, 0.014007711391702184, 0.16641161133342194, 0.015128328303038358, 0.13692099998701132, 0.5653396025779494, 0.26159117365939527, 0.03603184210184508, 0.9548285647122359, 0.06365523764748239, 0.015341727745952482, 0.029503322588370157, 0.003147021076092817, 0.951973875518077, 0.9282321452858463, 0.025784226257940177, 0.025784226257940177, 0.02682313915204986, 0.9081548541479739, 0.042150647238935496, 0.019159385108607044, 0.8579092244708175, 0.06321436390837602, 0.05869905220063488, 0.018061246830964578, 0.9670271964207848, 0.050896168232672886, 0.01662125046751774, 0.0033242500935035477, 0.9789916525367949, 0.017400923103542923, 0.9483503091430893, 0.02610138465531438, 0.008700461551771461, 0.6401072680930613, 0.04675680661996641, 0.30029723688316456, 0.012512384870131855, 0.0016893730462395563, 0.006757492184958225, 0.0016893730462395563, 0.9916619781426196, 0.7210362552069568, 0.014846762640787829, 0.2582045676658753, 0.006455114191646882, 0.01607478351238026, 0.9484122272304352, 0.01607478351238026, 0.01607478351238026, 0.024903808581619166, 0.9183279414472068, 0.04980761716323833, 0.009338928218107187, 0.24836801876938314, 0.369212017532257, 0.23891136218953787, 0.1434594923708443, 0.6480038685401908, 0.07258914962388073, 0.2643940559293174, 0.015365586416733877, 0.2154801807040548, 0.1973703969420819, 0.578463237846208, 0.008661200929639231, 0.04271793550763439, 0.3910672858843231, 0.5610582457394455, 0.0048443019647832816, 0.03571242640052862, 0.9642355128142728, 0.9304980390438122, 0.027367589383641536, 0.027367589383641536, 0.027367589383641536, 0.02886025535778462, 0.9347516040882463, 0.016033475198769232, 0.01924017023852308, 0.022346602820299273, 0.9609039212728687, 0.022346602820299273, 0.1538675784162345, 0.1538675784162345, 0.7693378920811725, 0.7613666548333439, 0.0678061906340128, 0.011623918394402195, 0.15886021805683, 0.4339804077102464, 0.15714809491715345, 0.2812650616033129, 0.12769176411375618, 0.24274899080014933, 0.06925047897059475, 0.6716551831341555, 0.016381833734979402, 0.9661448998157077, 0.030192028119240866, 0.014918031114418528, 0.01160291308899219, 0.00497267703813951, 0.9680144634244912, 0.003387197524508108, 0.006774395049016216, 0.001693598762254054, 0.9873680783941136, 0.1003569455284076, 0.12457097599020361, 0.023922295155027393, 0.7512184149292138, 0.15099672376073833, 0.18296497861481137, 0.6631281665229884, 0.0029837037863801505, 0.6894740275977442, 0.039097087073499445, 0.24637370743141715, 0.02482354734825362, 0.8700868055771651, 0.01793993413561165, 0.08969967067805826, 0.01793993413561165, 0.0017045154506225761, 0.0017045154506225761, 0.9954370231635845, 0.003391766712345945, 0.003391766712345945, 0.9937876467173619, 0.03303849701344419, 0.847340276344804, 0.08162452203321506, 0.036925379015025864, 0.1963357026615376, 0.4682466554310805, 0.05158310721657505, 0.28390702421525804, 0.10039913768987958, 0.10039913768987958, 0.8031931015190367, 0.04034137620876912, 0.9681930290104588, 0.013319741658371378, 0.006659870829185689, 0.004994903121889267, 0.9756710764757034, 0.01905250644985146, 0.9716778289424244, 0.9166448248225807, 0.05729030155141129, 0.024552986379176266, 0.008184328793058755, 0.9431078917635558, 0.041004690946241554, 0.041004690946241554, 0.08167649007723964, 0.22138627573567587, 0.6802791870906933, 0.017195050542576768, 0.897361689926926, 0.0025507722851817113, 0.09948011912208674, 0.0005101544570363422, 0.21305831152799787, 0.14009313634717668, 0.6318784170659114, 0.014593035036164237, 0.05811723281676334, 0.018427415283363988, 0.004961227191674919, 0.9185357772015279, 0.014849058259310745, 0.935490670336577, 0.0259858519537938, 0.0259858519537938, 0.0017176501288076202, 0.0017176501288076202, 0.9979547248372274, 0.3118314223649816, 0.10710319369982653, 0.5734286034371243, 0.007108619050873442, 0.16708213123895982, 0.14575249746377344, 0.6825482808059635, 0.00473991861670808, 0.23130251774794353, 0.0625745941733567, 0.6924176819539887, 0.013408841608576435, 0.06429781021850423, 0.7982633796938827, 0.04367398429936136, 0.0934137997514118, 0.05158242993199869, 0.8371398524380621, 0.05158242993199869, 0.061254135544248446, 0.01712303875294037, 0.6625871517442143, 0.32012637668540694, 0.940358252069359, 0.00046231969128287067, 0.05894576063856601, 0.00023115984564143534, 0.0688915216890774, 0.8141725290527329, 0.04697149206073459, 0.07045723809110188, 0.8011984838917343, 0.018498089094181457, 0.17341958525795115, 0.007514848694511217, 0.6927487835090513, 0.007419899336513694, 0.28802700151739524, 0.011467117156430255, 0.6589196755580864, 0.11940643844367534, 0.16673216099757104, 0.054606602946802744, 0.009333354658771555, 0.014000031988157332, 0.003111118219590518, 0.9737800027318322, 0.017991662098768325, 0.016356056453425753, 0.014720450808083176, 0.9519224855893788, 0.006720428145861386, 0.016801070364653465, 0.0016801070364653465, 0.9761421881863662, 0.06424579323452359, 0.8040172065085232, 0.08219682369711107, 0.05007392707984927, 0.19554107151761954, 0.3068269460430883, 0.2829594329019671, 0.21452005787080025, 0.6562581009261179, 0.05634826712201706, 0.26694280081036365, 0.02105945336883466, 0.037078375810575014, 0.9640377710749503, 0.02929269492222026, 0.91100281208105, 0.03515123390666431, 0.020504886445554184, 0.14284746855555958, 0.18090335786186695, 0.6662538301741929, 0.009927623297297577, 0.04624990140935373, 0.9712479295964282, 0.03684487051092424, 0.8474320217512575, 0.07368974102184848, 0.04298568226274495, 0.049294365302404164, 0.9858873060480833, 0.35763445222535917, 0.07862698618778118, 0.3978683281007121, 0.1659318671722071, 0.8629052250330547, 0.007597907641800482, 0.1291644299106082, 0.0010854153774000688, 0.004891165295947871, 0.011412719023878365, 0.0032607768639652474, 0.9798634476215567, 0.124317435096677, 0.42873576975648864, 0.16097514031749202, 0.2856910287317866, 0.08311157044891183, 0.7162049244771446, 0.17561836190509197, 0.025294825788799255, 0.04114891112644979, 0.09092581974715518, 0.03318460574713693, 0.8342609884830223, 0.00630149878108009, 0.06380267515843592, 0.0015753746952700226, 0.9278956955140433, 0.08765904560962234, 0.40245084097697065, 0.4922392561155717, 0.01738985115332589, 0.6294301948537783, 0.027366530211033836, 0.316235460216391, 0.026758385095233084, 0.0215924322342116, 0.9356720634825026, 0.035987387057019336, 0.014394954822807733, 0.026708727204918892, 0.9615141793770801, 0.013354363602459446, 0.013354363602459446, 0.022081911964959035, 0.9148220671197315, 0.02523647081709604, 0.03470014737350705, 0.027078015172233783, 0.9748085462004161, 0.027078015172233783, 0.011031534686206343, 0.9597435176999518, 0.011031534686206343, 0.011031534686206343, 0.03012745537044974, 0.9640785718543917, 0.12105126546907961, 0.7593215743060449, 0.07244734827316128, 0.04676980711305349, 0.3469984081704075, 0.3041538614403205, 0.27955006232799334, 0.06935726129078439, 0.012042743485206396, 0.9634194788165117, 0.02408548697041279, 0.1903507362553204, 0.09087712569608845, 0.7171924514394008, 0.0036842077984900723, 0.9047232698561992, 0.013503332385913423, 0.040509997157740264, 0.027006664771826845, 0.01994392249648837, 0.9573082798314417, 0.01994392249648837, 0.17011912481672845, 0.17011912481672845, 0.8505956240836422, 0.8082515425424367, 0.03488243499393674, 0.12421550022231131, 0.032330061701697464, 0.8223191911120916, 0.022320817032037032, 0.14609989330060602, 0.009131243331287876, 0.038955838427581116, 0.9738959606895279, 0.3644556203419792, 0.14808255974447282, 0.4485607634978206, 0.03881775837961909, 0.7068157511900588, 0.032155566363152886, 0.254817695708004, 0.006673796792352487, 0.001670398067938115, 0.015033582611443035, 0.9821940639476117, 0.08621466736347204, 0.13846598091709145, 0.7739725820129876, 0.0013062828388404853, 0.16870957161681718, 0.11207978533984359, 0.7066925412480664, 0.012977659355139783, 0.06166719135943418, 0.8787574768719371, 0.020555730453144728, 0.03597252829300327, 0.02345008255153608, 0.9614533846129792, 0.02345008255153608, 0.2735620860606847, 0.27463575573614774, 0.2520886925514241, 0.1997249277543625, 0.09441597372783088, 0.18655686375137667, 0.713238741293373, 0.005687709260712703, 0.015365642405487807, 0.9603526503429879, 0.015365642405487807, 0.015365642405487807, 0.029345022509882576, 0.9488223944862032, 0.009781674169960859, 0.019563348339921717, 0.8333788007579626, 0.014675853095108774, 0.14413784289838974, 0.008386201768633585, 0.0016915920828309574, 0.010149552496985743, 0.9878897763732791, 0.006688002009114417, 0.9496962852942472, 0.026752008036457667, 0.02006400602734325, 0.017870637266223326, 0.9650144123760596, 0.015127878734109595, 0.9681842389830141, 0.015127878734109595, 0.015127878734109595, 0.03694873331006459, 0.9458875727376534, 0.0073897466620129176, 0.0073897466620129176, 0.0017171460433596712, 0.0017171460433596712, 0.9976618511919689, 0.09901885390193156, 0.09901885390193156, 0.7921508312154525, 0.15012124128709745, 0.15012124128709745, 0.7506062064354873, 0.9429844219691982, 0.04963075905101043, 0.016105563206119635, 0.9033756816523467, 0.023426273754355832, 0.055637400166595095, 0.04596664532681022, 0.9652995518630146, 0.44025029853354314, 0.01850902155996878, 0.5253036595114949, 0.015424184633307317, 0.10516478695306215, 0.10516478695306215, 0.7624447054097006, 0.02629119673826554, 0.46021005223429745, 0.053245808193989684, 0.47545141740506774, 0.01108462921510566, 0.9453362723035053, 0.030494718461403395, 0.015247359230701698, 0.015247359230701698, 0.9511072169645257, 0.03170357389881752, 0.022889201872654582, 0.9282842981687691, 0.03306218048272328, 0.015259467915103053, 0.09405981755213848, 0.06793209045432223, 0.834780880775229, 0.003919159064672437, 0.0725039397888476, 0.0725039397888476, 0.7975433376773237, 0.0725039397888476, 0.21676885744504745, 0.06332573363563183, 0.7172857136805222, 0.0024356051398319936, 0.061018017827342265, 0.8622111214733146, 0.055712103233660326, 0.021223658374727745, 0.09682819916421552, 0.6436592470082788, 0.19613917266597503, 0.06331074560737168, 0.6791922345362337, 0.005184673546078119, 0.3125617480635666, 0.0022220029483191943, 0.9687643175782279, 0.04613163417039181, 0.05173629405692486, 0.9829895870815724, 0.6080622917495444, 0.03815676488854743, 0.3419433161165982, 0.01174054304262998, 0.03746875718188656, 0.0870752807748068, 0.014776411282997517, 0.8607259572346053, 0.003312998125246417, 0.009938994375739252, 0.0016564990626232086, 0.9856169422608091, 0.04370050170445025, 0.9614110374979055, 0.03810223767070441, 0.8839719139603425, 0.06667891592373272, 0.013335783184746545, 0.0281683480265944, 0.9218732081430894, 0.040972142584137304, 0.010243035646034326, 0.9411560402033826, 0.0376462416081353, 0.011719398983959864, 0.951615197497541, 0.02187621143672508, 0.014844572046349161, 0.011797087671637455, 0.05517992620604616, 0.0034249609369270033, 0.9296866187680743, 0.176713171752862, 0.20151950700615812, 0.4316813804903489, 0.19026714874693101, 0.9462207212400532, 0.03639310466307897, 0.02759803726237489, 0.013032406485010365, 0.0038330607308854014, 0.9559653462828192, 0.37703115488022787, 0.23505430675448913, 0.34516224241494925, 0.04266050187151058, 0.4873736677486256, 0.12984772899872143, 0.36686430282173005, 0.01623096612484018, 0.04190987361966189, 0.02845257475096312, 0.010765839094959017, 0.9185567713520391, 0.32997991528048976, 0.21464259583575251, 0.19082800761032095, 0.2644508849346944, 0.520203317916941, 0.17154946099647864, 0.2264452885153518, 0.08169021952213269, 0.009125973964977309, 0.014933411942690142, 0.003318535987264476, 0.9731606782653076, 0.03574212096166211, 0.965037265964877, 0.04710983438771395, 0.04612837950463657, 0.021592007427702224, 0.8852723045357912, 0.0008588853791603757, 0.0008588853791603757, 0.9980248105843565, 0.03054468592744156, 0.009163405778232468, 0.003054468592744156, 0.9591031381216649, 0.9571364486905617, 0.03418344459609149, 0.19395581021371128, 0.5678755935859158, 0.1461905733700361, 0.0916706565686695, 0.32089166804311975, 0.3639866234621338, 0.2828797073658356, 0.03226596662141563, 0.26417727897660254, 0.4202433406706212, 0.09307212406479659, 0.22246507703292845, 0.662303689477355, 0.06522286133363864, 0.2688454528142666, 0.0031816029918848117, 0.0557995667402123, 0.8390601517231924, 0.07646607294029094, 0.028933108680110082, 0.05743752659403267, 0.8645859266259656, 0.05441449887855727, 0.021161194008327826, 0.08773027164903223, 0.16816756228078547, 0.055769854838015595, 0.6883287083661233, 0.7676701202666731, 0.026490025276807737, 0.19462059387042419, 0.011352867975774743, 0.14388341248683129, 0.14388341248683129, 0.7194170624341565, 0.30686707313877426, 0.38380075971267996, 0.2634834152963462, 0.04598667731297371, 0.09772467246396856, 0.1880272179053572, 0.7075761094859495, 0.0061851058521499086, 0.19657175931809495, 0.07908059282911865, 0.7162442264808747, 0.007908059282911866, 0.035175863212083054, 0.056388788355247646, 0.02362958750124663, 0.8850354591376012, 0.9623316064125176, 0.01924663212825035, 0.01924663212825035, 0.03574197000302366, 0.019360233751637815, 0.0029784975002519714, 0.941205210079623, 0.17721518196073457, 0.17721518196073457, 0.7088607278429383, 0.8353398167800857, 0.017838251120990238, 0.13964802306146643, 0.007135300448396095, 0.16400074444974558, 0.16400074444974558, 0.8200037222487279, 0.13678240833507344, 0.13678240833507344, 0.8206944500104405, 0.6240493504222517, 0.12189885270638737, 0.21327245374003098, 0.04083510488671683, 0.04308164510405181, 0.05720677464636388, 0.004943795339809224, 0.894120700028354, 0.19594070763813146, 0.43724699783287463, 0.34410276981770377, 0.02268279127830586, 0.06622433615869028, 0.2646599814227228, 0.6620059983748645, 0.007120896361149493, 0.3941358019579451, 0.06373067439916315, 0.5315409439249352, 0.010847774365815004, 0.07753057555641601, 0.23797579441622135, 0.6762389090198507, 0.008614508395157334, 0.03613879376409952, 0.10038553823360978, 0.8619771549659293, 0.0013384738431147971, 0.013945464848737096, 0.9343461448653854, 0.02789092969747419, 0.020918197273105642, 0.39171898009583606, 0.18785265554910377, 0.3874076076733976, 0.03295120351435099, 0.009917973998921156, 0.013223965331894875, 0.008264978332434296, 0.9686554605612996, 0.03841486723509917, 0.8372873103486921, 0.10505290223476099, 0.01803146829402614, 0.03526642672937538, 0.9874599484225108, 0.008371252523281303, 0.0016742505046562605, 0.0008371252523281303, 0.9894820482518499, 0.1217115568621575, 0.1217115568621575, 0.8519808980351025, 0.04861109951267069, 0.9722219902534137, 0.3136752768276096, 0.1688466459493182, 0.5072604783000854, 0.010327746480541512, 0.1659907741256265, 0.10056375366735036, 0.7281785054708141, 0.004846445959872306, 0.9338499818931567, 0.06225666545954378, 0.2137636744655771, 0.15765772316227603, 0.6255813570318071, 0.0033663570781980647, 0.13761155978138714, 0.1574709539772433, 0.7016985949202511, 0.003410199003328836, 0.09806841867770832, 0.09806841867770832, 0.8826157680993749, 0.04655821526930961, 0.52822411505544, 0.4232565024482692, 0.002116282512241346, 0.6554115270086475, 0.0625051864994623, 0.256568908393031, 0.02559736209025599, 0.1374447639716608, 0.6825114279507042, 0.12959077745899447, 0.05026551368106452, 0.3188584849382058, 0.2521937918347545, 0.37719009140372567, 0.05188525642485597, 0.01621279634183095, 0.9525017850825683, 0.02026599542728869, 0.008106398170915475, 0.01798544300175358, 0.9429510830919378, 0.033401537003256654, 0.005138698000501023, 0.17724148866104966, 0.17724148866104966, 0.7089659546441986, 0.09067196827798105, 0.09067196827798105, 0.8160477145018293, 0.387284924631869, 0.047561306533738294, 0.5568378940281178, 0.008338670626045026, 0.833922751478539, 0.06177205566507696, 0.09265808349761544, 0.01158226043720193, 0.0401487968096365, 0.963571123431276, 0.975257549569442, 0.06501716997129614, 0.13405909590645787, 0.14380884833601842, 0.7190442416800922, 0.002437438107390143, 0.8558222045073937, 0.05127045464790838, 0.08676538478876802, 0.007887762253524366, 0.0008558041366725296, 0.004279020683362647, 0.9953002109501519, 0.047272627293152875, 0.9454525458630575, 0.5909041510665667, 0.040224198235254235, 0.3634416495415449, 0.005339495340962952, 0.016351788823034678, 0.9811073293820807, 0.016351788823034678, 0.23350375960289757, 0.003746049619297822, 0.7554533398917274, 0.006243416032163037, 0.8462900791947688, 0.016379807984414883, 0.09281891191168433, 0.038219551963634725, 0.13816642688788, 0.27325488882033694, 0.5591636335685243, 0.029411665129598218, 0.2698102555675366, 0.45843436216249916, 0.18862410659496254, 0.08313072739107885, 0.11292277894462562, 0.11292277894462562, 0.9033822315570049, 0.0008584112387991841, 0.002575233716397552, 0.9966154482458527, 0.9079707039631169, 0.035606694273063406, 0.017803347136531703, 0.017803347136531703, 0.03261398574226837, 0.9784195722680511, 0.7191852091935299, 0.14405530745606365, 0.1145894491127779, 0.02182656173576722, 0.13030000265646344, 0.7469310011433891, 0.08533732568345845, 0.037621831752922545, 0.08149000816348863, 0.12223501224523294, 0.794861555037307, 0.0013359017731719447, 0.22744327497126726, 0.584040142410561, 0.1182325166343331, 0.07074957822697041, 0.09978847578532986, 0.14540606471576636, 0.7441369194277455, 0.010454030796558366, 0.08665880915653387, 0.08665880915653387, 0.8665880915653387, 0.06325929664022865, 0.07591115596827439, 0.8527353187102823, 0.008856301529632012, 0.28308999666255724, 0.49649024449441537, 0.1271739484311627, 0.09370711989664621, 0.9264913404811643, 0.03194797725797118, 0.03194797725797118, 0.02792079223449876, 0.9772277282074566, 0.9291487801181141, 0.04039777304861365, 0.04039777304861365, 0.9528405403561035, 0.05293558557533908, 0.02502980146156316, 0.9761622570009633, 0.027488997980813626, 0.020132787253553643, 0.0015486759425810495, 0.9508870287447644, 0.9495915771466582, 0.04128659031072427, 0.05638687793880296, 0.05638687793880296, 0.7894162911432414, 0.11277375587760592, 0.5301739914731393, 0.1031831901310073, 0.2610222033980754, 0.10555953026735776, 0.21410516787894482, 0.23321591660036348, 0.11563622531434689, 0.4372798436256815, 0.9480602625724935, 0.020171494948350927, 0.020171494948350927, 0.020171494948350927, 0.8008654010095227, 0.0006315973194081409, 0.1989531556135644, 0.9430807297283301, 0.027335673325458845, 0.027335673325458845, 0.013667836662729423, 0.913655011543816, 0.07613791762865132, 0.05676587251782677, 0.09105021136522709, 0.014612996885777187, 0.837437129223385, 0.177133751897231, 0.177133751897231, 0.708535007588924, 0.03416330008767783, 0.8563600555311243, 0.08426947354960532, 0.027330640070142263, 0.1925402189507184, 0.22402478305586734, 0.05489616305513145, 0.5283755694056402, 0.43993693659062105, 0.3006421831904181, 0.1959617572884619, 0.06336655114598412, 0.8602574517683841, 0.03296005562330974, 0.09558416130759824, 0.00988801668699292, 0.03536634650862409, 0.04894130779476263, 0.011431546346221929, 0.9041638688214906, 0.023141857010280927, 0.03702697121644949, 0.007713952336760309, 0.9318454422806454, 0.9259701978460807, 0.04409381894505146, 0.17714574371509337, 0.17714574371509337, 0.7085829748603735, 0.36089765450893113, 0.1930952872071558, 0.14195233462314857, 0.304072151637812, 0.168564569576783, 0.168564569576783, 0.842822847883915, 0.021239091267362706, 0.011436433759349149, 0.011436433759349149, 0.9557591070313217, 0.1334146223624945, 0.1631848273524726, 0.6979459169872646, 0.005513000924070021, 0.01618313420256053, 0.01618313420256053, 0.004854940260768159, 0.9628964850523516, 0.0016920931372592415, 0.005076279411777724, 0.0016920931372592415, 0.9915665784339155, 0.8828349634948556, 0.03222025414214801, 0.05155240662743682, 0.03222025414214801, 0.7450090689656024, 0.09668056620164305, 0.14644262233484168, 0.01137418425901683, 0.8166765841201606, 0.060494561786678565, 0.11342730335002231, 0.007561820223334821, 0.8909989300153063, 0.04440194003398536, 0.0621627160475795, 0.005920258671198048, 0.10938442480996134, 0.1944611996621535, 0.6927680237964218, 0.0024307649957769186, 0.9408444395983443, 0.039201851649931015, 0.022371572368511318, 0.09268222838383261, 0.003195938909787331, 0.881498059299524, 0.10403839885744982, 0.060367959830865944, 0.8271694921505887, 0.008990972740767269, 0.41554623129134904, 0.13705118833287622, 0.2389610463239893, 0.20850522669446125], \"Term\": [\"abelian\", \"abelian\", \"abelian\", \"abelian\", \"acquire\", \"acquire\", \"acquire\", \"acquire\", \"adam\", \"adam\", \"adam\", \"addition\", \"addition\", \"addition\", \"addition\", \"aims\", \"aims\", \"aims\", \"aims\", \"airways\", \"airways\", \"al\", \"al\", \"al\", \"al\", \"algebra\", \"algebra\", \"algebra\", \"algebra\", \"algebras\", \"algebras\", \"algebras\", \"algebras\", \"algebroids\", \"algebroids\", \"algorithms\", \"algorithms\", \"algorithms\", \"algorithms\", \"also\", \"also\", \"also\", \"also\", \"aod\", \"aod\", \"aod\", \"ardrone\", \"ardrone\", \"argumentation\", \"argumentation\", \"argumentation\", \"ascertain\", \"ascertain\", \"ascertain\", \"ascertain\", \"atrous\", \"atrous\", \"automorphic\", \"automorphic\", \"autonomous\", \"autonomous\", \"autonomous\", \"autonomous\", \"available\", \"available\", \"available\", \"available\", \"axial\", \"axial\", \"axial\", \"axial\", \"based\", \"based\", \"based\", \"based\", \"bdeu\", \"bdeu\", \"bdeu\", \"behind\", \"behind\", \"behind\", \"behind\", \"bendable\", \"bendable\", \"bicycles\", \"bicycles\", \"biserial\", \"biserial\", \"borophene\", \"borophene\", \"bound\", \"bound\", \"bound\", \"bound\", \"boundary\", \"boundary\", \"boundary\", \"boundary\", \"bridges\", \"bridges\", \"bridges\", \"bridges\", \"candidates\", \"candidates\", \"candidates\", \"candidates\", \"case\", \"case\", \"case\", \"case\", \"cdes\", \"cdes\", \"charge\", \"charge\", \"charge\", \"charge\", \"chest\", \"chest\", \"chest\", \"cite\", \"cite\", \"cite\", \"cite\", \"clinical\", \"clinical\", \"clinical\", \"clinical\", \"cobot\", \"cobot\", \"coexist\", \"coexist\", \"coexist\", \"cohomology\", \"cohomology\", \"cohomology\", \"cohomology\", \"combining\", \"combining\", \"combining\", \"combining\", \"commensurate\", \"commensurate\", \"commensurate\", \"commensurate\", \"conducted\", \"conducted\", \"conducted\", \"conducted\", \"conformal\", \"conformal\", \"conformal\", \"conformal\", \"conjecture\", \"conjecture\", \"conjecture\", \"conjecture\", \"considering\", \"considering\", \"considering\", \"considering\", \"context\", \"context\", \"context\", \"context\", \"contribution\", \"contribution\", \"contribution\", \"contribution\", \"convex\", \"convex\", \"convex\", \"convex\", \"courant\", \"courant\", \"cultural\", \"cultural\", \"cultural\", \"cultural\", \"curvature\", \"curvature\", \"curvature\", \"curvature\", \"cuspidal\", \"cuspidal\", \"cuspidal\", \"cvb\", \"cvb\", \"cvb\", \"dark\", \"dark\", \"dark\", \"dark\", \"data\", \"data\", \"data\", \"data\", \"datasets\", \"datasets\", \"datasets\", \"datasets\", \"ddeo\", \"ddeo\", \"debate\", \"debate\", \"debate\", \"debate\", \"delicate\", \"delicate\", \"delicate\", \"delicate\", \"density\", \"density\", \"density\", \"density\", \"depth\", \"depth\", \"depth\", \"depth\", \"detailed\", \"detailed\", \"detailed\", \"detailed\", \"dialogue\", \"dialogue\", \"dialogue\", \"dialogue\", \"dichalcogenide\", \"dichalcogenide\", \"dichalcogenide\", \"dichalcogenides\", \"dichalcogenides\", \"dichalcogenides\", \"differential\", \"differential\", \"differential\", \"differential\", \"dimensional\", \"dimensional\", \"dimensional\", \"dimensional\", \"discriminators\", \"discriminators\", \"discriminators\", \"dn\", \"dn\", \"dramatic\", \"dramatic\", \"dramatic\", \"dramatic\", \"drinfeld\", \"drinfeld\", \"drug\", \"drug\", \"drug\", \"drug\", \"ebm\", \"ebm\", \"ebm\", \"edges\", \"edges\", \"edges\", \"edges\", \"educational\", \"educational\", \"educational\", \"educational\", \"eg\", \"eg\", \"eg\", \"eg\", \"electronic\", \"electronic\", \"electronic\", \"electronic\", \"elliptic\", \"elliptic\", \"elliptic\", \"elliptic\", \"emblematic\", \"emblematic\", \"emblematic\", \"empirical\", \"empirical\", \"empirical\", \"empirical\", \"ensures\", \"ensures\", \"ensures\", \"ensures\", \"environment\", \"environment\", \"environment\", \"environment\", \"equation\", \"equation\", \"equation\", \"equation\", \"equations\", \"equations\", \"equations\", \"equations\", \"exactness\", \"exactness\", \"exactness\", \"exercise\", \"exercise\", \"exercise\", \"exercise\", \"existence\", \"existence\", \"existence\", \"existence\", \"extent\", \"extent\", \"extent\", \"extent\", \"extracted\", \"extracted\", \"extracted\", \"extracted\", \"features\", \"features\", \"features\", \"features\", \"ferromagnetic\", \"ferromagnetic\", \"ferromagnetic\", \"ferromagnetic\", \"fill\", \"fill\", \"fill\", \"fill\", \"fingerprint\", \"fingerprint\", \"fingerprint\", \"fingerprint\", \"finite\", \"finite\", \"finite\", \"finite\", \"first\", \"first\", \"first\", \"first\", \"focus\", \"focus\", \"focus\", \"focus\", \"forall\", \"forall\", \"formula\", \"formula\", \"formula\", \"formula\", \"formulation\", \"formulation\", \"formulation\", \"formulation\", \"fpf\", \"fpf\", \"frac\", \"frac\", \"frac\", \"frac\", \"frak\", \"frak\", \"framework\", \"framework\", \"framework\", \"framework\", \"freely\", \"freely\", \"freely\", \"freely\", \"frustrated\", \"frustrated\", \"frustrated\", \"frustrated\", \"function\", \"function\", \"function\", \"function\", \"functions\", \"functions\", \"functions\", \"functions\", \"gap\", \"gap\", \"gap\", \"gap\", \"ge\", \"ge\", \"ge\", \"ge\", \"general\", \"general\", \"general\", \"general\", \"generation\", \"generation\", \"generation\", \"generation\", \"geodesic\", \"geodesic\", \"geodesic\", \"geodesic\", \"geodesics\", \"geodesics\", \"geodesics\", \"geodesics\", \"geq\", \"geq\", \"geq\", \"geq\", \"gln\", \"gln\", \"gln\", \"graded\", \"graded\", \"graded\", \"graded\", \"grassmannian\", \"grassmannian\", \"group\", \"group\", \"group\", \"group\", \"help\", \"help\", \"help\", \"help\", \"hermitian\", \"hermitian\", \"hermitian\", \"hoc\", \"hoc\", \"hoc\", \"hoc\", \"home\", \"home\", \"home\", \"home\", \"homogenization\", \"homogenization\", \"homogenization\", \"honest\", \"honest\", \"honest\", \"human\", \"human\", \"human\", \"human\", \"hybrid\", \"hybrid\", \"hybrid\", \"hybrid\", \"idbvp\", \"idbvp\", \"idea\", \"idea\", \"idea\", \"idea\", \"identification\", \"identification\", \"identification\", \"identification\", \"incommensurate\", \"incommensurate\", \"incommensurate\", \"incomplete\", \"incomplete\", \"incomplete\", \"incomplete\", \"infer\", \"infer\", \"infer\", \"infer\", \"infty\", \"infty\", \"infty\", \"infty\", \"injective\", \"injective\", \"injective\", \"inside\", \"inside\", \"inside\", \"inside\", \"instances\", \"instances\", \"instances\", \"instances\", \"integers\", \"integers\", \"integers\", \"integers\", \"integrable\", \"integrable\", \"integrable\", \"integrable\", \"integrated\", \"integrated\", \"integrated\", \"integrated\", \"intertwined\", \"intertwined\", \"intertwined\", \"irreducible\", \"irreducible\", \"irreducible\", \"irreducible\", \"isometric\", \"isometric\", \"isomorphic\", \"isomorphic\", \"isomorphic\", \"isomorphic\", \"kahler\", \"kahler\", \"kahler\", \"kahler\", \"knob\", \"knob\", \"knob\", \"kriging\", \"kriging\", \"kriging\", \"kws\", \"kws\", \"kws\", \"laborious\", \"laborious\", \"lambda\", \"lambda\", \"lambda\", \"lambda\", \"lambek\", \"lambek\", \"language\", \"language\", \"language\", \"language\", \"lasso\", \"lasso\", \"lasso\", \"lasso\", \"learning\", \"learning\", \"learning\", \"learning\", \"lesion\", \"lesion\", \"lesion\", \"lesion\", \"lesions\", \"lesions\", \"let\", \"let\", \"let\", \"let\", \"leverage\", \"leverage\", \"leverage\", \"leverage\", \"lexicon\", \"lexicon\", \"lexicon\", \"lexicon\", \"lidar\", \"lidar\", \"lidar\", \"lidar\", \"lie\", \"lie\", \"lie\", \"lie\", \"linear\", \"linear\", \"linear\", \"linear\", \"linguistic\", \"linguistic\", \"linguistic\", \"linguistic\", \"liver\", \"liver\", \"lizorkin\", \"lizorkin\", \"machine\", \"machine\", \"machine\", \"machine\", \"magnetic\", \"magnetic\", \"magnetic\", \"magnetic\", \"magnets\", \"magnets\", \"magnets\", \"magnets\", \"malle\", \"malle\", \"manifold\", \"manifold\", \"manifold\", \"manifold\", \"manifolds\", \"manifolds\", \"manifolds\", \"manifolds\", \"mapd\", \"mapd\", \"mathbb\", \"mathbb\", \"mathbb\", \"mathbb\", \"mathrm\", \"mathrm\", \"mathrm\", \"mathrm\", \"measurements\", \"measurements\", \"measurements\", \"measurements\", \"metabolomics\", \"metabolomics\", \"metal\", \"metal\", \"metal\", \"metal\", \"method\", \"method\", \"method\", \"method\", \"methods\", \"methods\", \"methods\", \"methods\", \"mode\", \"mode\", \"mode\", \"mode\", \"model\", \"model\", \"model\", \"model\", \"models\", \"models\", \"models\", \"models\", \"modulated\", \"modulated\", \"modulated\", \"modulated\", \"morita\", \"morita\", \"nature\", \"nature\", \"nature\", \"nature\", \"nbse\", \"nbse\", \"nbse\", \"neutron\", \"neutron\", \"neutron\", \"neutron\", \"nlc\", \"nlc\", \"non\", \"non\", \"non\", \"non\", \"number\", \"number\", \"number\", \"number\", \"one\", \"one\", \"one\", \"one\", \"online\", \"online\", \"online\", \"online\", \"operator\", \"operator\", \"operator\", \"operator\", \"operators\", \"operators\", \"operators\", \"operators\", \"order\", \"order\", \"order\", \"order\", \"overall\", \"overall\", \"overall\", \"overall\", \"pain\", \"pain\", \"pain\", \"paper\", \"paper\", \"paper\", \"paper\", \"payload\", \"payload\", \"payload\", \"payload\", \"performs\", \"performs\", \"performs\", \"performs\", \"phase\", \"phase\", \"phase\", \"phase\", \"phenotype\", \"phenotype\", \"phenotype\", \"phonon\", \"phonon\", \"phonon\", \"phonon\", \"phsic\", \"phsic\", \"phsic\", \"platform\", \"platform\", \"platform\", \"platform\", \"pmi\", \"pmi\", \"pmi\", \"ppo\", \"ppo\", \"ppo\", \"present\", \"present\", \"present\", \"present\", \"pressure\", \"pressure\", \"pressure\", \"pressure\", \"problem\", \"problem\", \"problem\", \"problem\", \"problems\", \"problems\", \"problems\", \"problems\", \"processing\", \"processing\", \"processing\", \"processing\", \"programming\", \"programming\", \"programming\", \"programming\", \"programs\", \"programs\", \"programs\", \"programs\", \"projective\", \"projective\", \"projective\", \"projective\", \"proposed\", \"proposed\", \"proposed\", \"proposed\", \"prototypical\", \"prototypical\", \"prototypical\", \"prototypical\", \"prove\", \"prove\", \"prove\", \"prove\", \"pseudosymmetric\", \"pseudosymmetric\", \"raman\", \"raman\", \"raman\", \"raman\", \"raml\", \"raml\", \"raml\", \"rationally\", \"rationally\", \"real\", \"real\", \"real\", \"real\", \"reason\", \"reason\", \"reason\", \"reason\", \"recidivism\", \"recidivism\", \"reconstruct\", \"reconstruct\", \"reconstruct\", \"reconstruct\", \"reconstruction\", \"reconstruction\", \"reconstruction\", \"reconstruction\", \"refitting\", \"refitting\", \"refitting\", \"regularity\", \"regularity\", \"regularity\", \"regularity\", \"relevant\", \"relevant\", \"relevant\", \"relevant\", \"result\", \"result\", \"result\", \"result\", \"results\", \"results\", \"results\", \"results\", \"ricci\", \"ricci\", \"ricci\", \"ricci\", \"riemannian\", \"riemannian\", \"riemannian\", \"riemannian\", \"rmgd\", \"rmgd\", \"rmgd\", \"rmt\", \"rmt\", \"rmt\", \"robot\", \"robot\", \"robot\", \"robot\", \"robots\", \"robots\", \"robots\", \"robots\", \"rubel\", \"rubel\", \"rumour\", \"rumour\", \"runs\", \"runs\", \"runs\", \"runs\", \"safety\", \"safety\", \"safety\", \"safety\", \"sans\", \"sans\", \"sans\", \"scl\", \"scl\", \"selection\", \"selection\", \"selection\", \"selection\", \"semisimple\", \"semisimple\", \"semisimple\", \"sentences\", \"sentences\", \"sentences\", \"sentences\", \"sentiment\", \"sentiment\", \"sentiment\", \"sentiment\", \"set\", \"set\", \"set\", \"set\", \"show\", \"show\", \"show\", \"show\", \"siamese\", \"siamese\", \"siamese\", \"sinusoidally\", \"sinusoidally\", \"sinusoidally\", \"skin\", \"skin\", \"skin\", \"skin\", \"sln\", \"sln\", \"social\", \"social\", \"social\", \"social\", \"solutions\", \"solutions\", \"solutions\", \"solutions\", \"solvers\", \"solvers\", \"solvers\", \"solvers\", \"space\", \"space\", \"space\", \"space\", \"sparse\", \"sparse\", \"sparse\", \"sparse\", \"steiner\", \"steiner\", \"steiner\", \"structured\", \"structured\", \"structured\", \"structured\", \"study\", \"study\", \"study\", \"study\", \"sublimation\", \"sublimation\", \"sublimation\", \"submanifold\", \"submanifold\", \"subtask\", \"subtask\", \"subtask\", \"subtopics\", \"subtopics\", \"superalgebra\", \"superalgebra\", \"superconducting\", \"superconducting\", \"superconducting\", \"superconducting\", \"surgeons\", \"surgeons\", \"syntax\", \"syntax\", \"syntax\", \"syntax\", \"system\", \"system\", \"system\", \"system\", \"systems\", \"systems\", \"systems\", \"systems\", \"tactile\", \"tactile\", \"tactile\", \"tactile\", \"teachers\", \"teachers\", \"teachers\", \"teams\", \"teams\", \"teams\", \"teams\", \"teleperception\", \"teleperception\", \"temperature\", \"temperature\", \"temperature\", \"temperature\", \"terngrad\", \"terngrad\", \"terngrad\", \"theorem\", \"theorem\", \"theorem\", \"theorem\", \"three\", \"three\", \"three\", \"three\", \"time\", \"time\", \"time\", \"time\", \"traffic\", \"traffic\", \"traffic\", \"traffic\", \"transition\", \"transition\", \"transition\", \"transition\", \"transitions\", \"transitions\", \"transitions\", \"transitions\", \"transplant\", \"transplant\", \"trustvi\", \"trustvi\", \"trustvi\", \"two\", \"two\", \"two\", \"two\", \"ucf\", \"ucf\", \"ucf\", \"uncover\", \"uncover\", \"uncover\", \"uncover\", \"unknown\", \"unknown\", \"unknown\", \"unknown\", \"unusual\", \"unusual\", \"unusual\", \"unusual\", \"unveil\", \"unveil\", \"unveil\", \"unveil\", \"urban\", \"urban\", \"urban\", \"urban\", \"users\", \"users\", \"users\", \"users\", \"vehicle\", \"vehicle\", \"vehicle\", \"vehicle\", \"vehicles\", \"vehicles\", \"vehicles\", \"vehicles\", \"violated\", \"violated\", \"violated\", \"violated\", \"visuo\", \"visuo\", \"wave\", \"wave\", \"wave\", \"wave\", \"wise\", \"wise\", \"wise\", \"wise\", \"work\", \"work\", \"work\", \"work\"]}, \"R\": 30, \"lambda.step\": 0.01, \"plot.opts\": {\"xlab\": \"PC1\", \"ylab\": \"PC2\"}, \"topic.order\": [2, 3, 1, 4]};\n",
              "\n",
              "function LDAvis_load_lib(url, callback){\n",
              "  var s = document.createElement('script');\n",
              "  s.src = url;\n",
              "  s.async = true;\n",
              "  s.onreadystatechange = s.onload = callback;\n",
              "  s.onerror = function(){console.warn(\"failed to load library \" + url);};\n",
              "  document.getElementsByTagName(\"head\")[0].appendChild(s);\n",
              "}\n",
              "\n",
              "if(typeof(LDAvis) !== \"undefined\"){\n",
              "   // already loaded: just create the visualization\n",
              "   !function(LDAvis){\n",
              "       new LDAvis(\"#\" + \"ldavis_el601400667808128805952242707\", ldavis_el601400667808128805952242707_data);\n",
              "   }(LDAvis);\n",
              "}else if(typeof define === \"function\" && define.amd){\n",
              "   // require.js is available: use it to load d3/LDAvis\n",
              "   require.config({paths: {d3: \"https://d3js.org/d3.v5\"}});\n",
              "   require([\"d3\"], function(d3){\n",
              "      window.d3 = d3;\n",
              "      LDAvis_load_lib(\"https://cdn.jsdelivr.net/gh/bmabey/pyLDAvis@3.3.1/pyLDAvis/js/ldavis.v3.0.0.js\", function(){\n",
              "        new LDAvis(\"#\" + \"ldavis_el601400667808128805952242707\", ldavis_el601400667808128805952242707_data);\n",
              "      });\n",
              "    });\n",
              "}else{\n",
              "    // require.js not available: dynamically load d3 & LDAvis\n",
              "    LDAvis_load_lib(\"https://d3js.org/d3.v5.js\", function(){\n",
              "         LDAvis_load_lib(\"https://cdn.jsdelivr.net/gh/bmabey/pyLDAvis@3.3.1/pyLDAvis/js/ldavis.v3.0.0.js\", function(){\n",
              "                 new LDAvis(\"#\" + \"ldavis_el601400667808128805952242707\", ldavis_el601400667808128805952242707_data);\n",
              "            })\n",
              "         });\n",
              "}\n",
              "</script>"
            ]
          },
          "metadata": {},
          "execution_count": 141
        }
      ],
      "source": [
        "if 1 == 1:\n",
        "    LDAvis_prepared = gensimvis.prepare(lda_model, corpus, id2word)\n",
        "    with open(LDAvis_data_filepath,'wb') as f:\n",
        "        pickle.dump(LDAvis_prepared, f)\n",
        "\n",
        "with open(LDAvis_data_filepath, 'rb') as f:\n",
        "    LDAvis_prepared = pickle.load(f)  \n",
        "\n",
        "LDAvis_prepared   "
      ]
    },
    {
      "cell_type": "markdown",
      "metadata": {
        "id": "Ho7nvqG-n-bl"
      },
      "source": [
        "**5. Importacion del modelo**"
      ]
    },
    {
      "cell_type": "code",
      "execution_count": null,
      "metadata": {
        "id": "jT--x6TVZ0hm"
      },
      "outputs": [],
      "source": [
        "from gensim.test.utils import datapath\n",
        "\n",
        "# temp_file = datapath(\"model\")\n",
        "file_model = \"./model\"\n",
        "lda_model.save(file_model)\n",
        "\n",
        "lda_model_import2 =gensim.models.LdaMulticore.load(file_model) \n"
      ]
    },
    {
      "cell_type": "code",
      "execution_count": null,
      "metadata": {
        "colab": {
          "base_uri": "https://localhost:8080/"
        },
        "id": "7MCrYpSppDJy",
        "outputId": "487d82d4-3228-43a1-ea47-bb6927fbcd7e"
      },
      "outputs": [
        {
          "output_type": "stream",
          "name": "stdout",
          "text": [
            "LdaModel(num_terms=38048, num_topics=4, decay=0.5, chunksize=2000)\n"
          ]
        }
      ],
      "source": [
        "print(lda_model)"
      ]
    },
    {
      "cell_type": "code",
      "execution_count": null,
      "metadata": {
        "colab": {
          "base_uri": "https://localhost:8080/"
        },
        "id": "f48LBeMVZ0kz",
        "outputId": "7a6655b5-4a3a-4e34-d0c0-e0ce481b0dce"
      },
      "outputs": [
        {
          "output_type": "stream",
          "name": "stdout",
          "text": [
            "LdaModel(num_terms=38048, num_topics=4, decay=0.5, chunksize=2000)\n"
          ]
        }
      ],
      "source": [
        "print(lda_model_import2)"
      ]
    },
    {
      "cell_type": "code",
      "execution_count": null,
      "metadata": {
        "id": "ZYmL1HU7Z0oJ"
      },
      "outputs": [],
      "source": [
        "def predict_topic(text):\n",
        "  #importar el modelo entrenado\n",
        "  lda_model_import =gensim.models.LdaMulticore.load(file_model)\n",
        "  test_corpus=id2word.doc2bow(text.split())\n",
        "\n",
        "  return (lda_model_import[test_corpus])\n"
      ]
    },
    {
      "cell_type": "code",
      "execution_count": null,
      "metadata": {
        "id": "YR_odgreZ0qB"
      },
      "outputs": [],
      "source": [
        "examples= pd.read_csv(\"https://raw.githubusercontent.com/DayBS/Machine-learning/main/2do-dataset/test.csv\")\n",
        "examples.head()\n",
        "\n",
        "examples.columns=examples.columns.str.lower().str.replace(\" \",\"_\",regex=True)\n",
        "\n",
        "examples = examples.drop(columns=[\n",
        "'id','computer_science','mathematics','physics','statistics'], axis=1)\n",
        "\n",
        "# Eliminar los caracteres como puntos, simbolos de dolar, comas, etc.\n",
        "examples['docs_procesados'] = \\\n",
        "examples['abstract'].map(lambda x: re.sub('[$,\\.!?_]', '', x))\n",
        "# LLevar las palabras a minusculas\n",
        "examples['docs_procesados'] = \\\n",
        "examples['docs_procesados'].map(lambda x: x.lower())\n",
        "# Visualizar la columna de datos procesados\n",
        "\n"
      ]
    },
    {
      "cell_type": "code",
      "execution_count": null,
      "metadata": {
        "colab": {
          "base_uri": "https://localhost:8080/",
          "height": 174
        },
        "id": "uAK_arkbyPbh",
        "outputId": "14ce2e3d-f33f-4e22-ab42-264e96900873"
      },
      "outputs": [
        {
          "output_type": "execute_result",
          "data": {
            "text/plain": [
              "'inside this paper we exploit the memory-augmented neural network to predict accurate answers to visual questions even when those answers occur rarely inside a training set a memory network incorporates both internal and external memory blocks and selectively pays attention to each training exemplar we show that memory-augmented neural networks are able to maintain the relatively long-term memory of scarce training exemplars which was important considering visual question answering due to a heavy-tailed distribution of answers inside the general vqa setting experimental results on two large-scale benchmark datasets show a favorable performance of a proposed algorithm with the comparison to state of a art'"
            ],
            "application/vnd.google.colaboratory.intrinsic+json": {
              "type": "string"
            }
          },
          "metadata": {},
          "execution_count": 162
        }
      ],
      "source": [
        "examples.docs_procesados[64]"
      ]
    },
    {
      "cell_type": "code",
      "execution_count": null,
      "metadata": {
        "colab": {
          "base_uri": "https://localhost:8080/"
        },
        "id": "OzsRHKLrvOnm",
        "outputId": "de0e30f6-cbd4-43fd-e017-dbd2f13f15a9"
      },
      "outputs": [
        {
          "output_type": "execute_result",
          "data": {
            "text/plain": [
              "[(0, 0.8119087), (1, 0.17961943)]"
            ]
          },
          "metadata": {},
          "execution_count": 163
        }
      ],
      "source": [
        "text=\"inside this paper we exploit the memory-augmented neural network to predict accurate answers to visual questions even when those answers occur rarely inside a training set a memory network incorporates both internal and external memory blocks and selectively pays attention to each training exemplar we show that memory-augmented neural networks are able to maintain the relatively long-term memory of scarce training exemplars which was important considering visual question answering due to a heavy-tailed distribution of answers inside the general vqa setting experimental results on two large-scale benchmark datasets show a favorable performance of a proposed algorithm with the comparison to state of a art\"\n",
        "\n",
        "predict_topic(text)"
      ]
    },
    {
      "cell_type": "code",
      "source": [
        "! pip install fitz\n",
        "!pip install PyMuPDF"
      ],
      "metadata": {
        "id": "5Io-KNVuecZb"
      },
      "execution_count": null,
      "outputs": []
    },
    {
      "cell_type": "code",
      "execution_count": null,
      "metadata": {
        "id": "10PDNTDqvOlE"
      },
      "outputs": [],
      "source": [
        "import cv2\n",
        "import glob\n",
        "import os\n",
        "import fitz"
      ]
    },
    {
      "cell_type": "code",
      "source": [
        "def obtener_lista_archivos(ruta):\n",
        "    archivos_pdf=glob.glob(ruta+\"/*.pdf\")\n",
        "    return archivos_pdf"
      ],
      "metadata": {
        "id": "6z7LIOrtfGFc"
      },
      "execution_count": null,
      "outputs": []
    },
    {
      "cell_type": "code",
      "source": [
        "obtener_lista_archivos(\"/content/sample_data\")"
      ],
      "metadata": {
        "colab": {
          "base_uri": "https://localhost:8080/"
        },
        "id": "_JTxqKHaflA3",
        "outputId": "cec9e2bf-9d7e-462e-d839-c8939b85fdcf"
      },
      "execution_count": null,
      "outputs": [
        {
          "output_type": "execute_result",
          "data": {
            "text/plain": [
              "['/content/sample_data/procedimiento.pdf']"
            ]
          },
          "metadata": {},
          "execution_count": 165
        }
      ]
    },
    {
      "cell_type": "code",
      "source": [
        "def leer_contenido_pdf(ruta_pdf):\n",
        "    documento=fitz.open(ruta_pdf)\n",
        "    pagina=documento.load_page(0)\n",
        "    contenido=pagina.get_text(\"text\")\n",
        "    return contenido"
      ],
      "metadata": {
        "id": "tThGDhzBfGC3"
      },
      "execution_count": null,
      "outputs": []
    },
    {
      "cell_type": "code",
      "source": [
        "leer_contenido_pdf(\"/content/sample_data/procedimiento.pdf\") "
      ],
      "metadata": {
        "colab": {
          "base_uri": "https://localhost:8080/",
          "height": 105
        },
        "id": "OGV4bHbwgVHZ",
        "outputId": "e81e0b39-ce72-4c37-8c32-dabb4ed5cb7b"
      },
      "execution_count": null,
      "outputs": [
        {
          "output_type": "execute_result",
          "data": {
            "text/plain": [
              "'1.\\ninstalar conda(explicar que hace, porque es necesario)\\n2.\\nobtener el dataset(internet, videos de simulaciones)\\n3.\\nvariar las imágenes del dataset(blanco y negro, cerca, lejos, angulos)\\n4.\\npre procesamiento(normalizar el tamaño)\\n5.\\netiquetado(herramientas, formato coco)\\n6.\\nimportación de los datos\\n7.\\nentrenamiento\\n8.\\npruebas\\n9.\\nimplementacion real\\nnota:instalar torch para cpu\\n'"
            ],
            "application/vnd.google.colaboratory.intrinsic+json": {
              "type": "string"
            }
          },
          "metadata": {},
          "execution_count": 154
        }
      ]
    },
    {
      "cell_type": "code",
      "source": [
        "def maximo(lista_tuplas):\n",
        "  maximo= lista_tuplas[0][1]\n",
        "  posicion_maximo=0\n",
        "  for i in range(1,4):\n",
        "    if(lista_tuplas[i][1]>maximo):\n",
        "      maximo=lista_tuplas[i][1]\n",
        "      print(maximo)\n",
        "      posicion_maximo=i\n",
        "  return i\n"
      ],
      "metadata": {
        "id": "Sp4hE9jCjBLy"
      },
      "execution_count": null,
      "outputs": []
    },
    {
      "cell_type": "code",
      "source": [
        "def predecir_carpeta(contenido):\n",
        "    lista_probabilidades=predict_topic(contenido)\n",
        "    topico=maximo(lista_tuplas=lista_probabilidades)\n",
        "    return topico"
      ],
      "metadata": {
        "id": "qsjwLwdQkVrA"
      },
      "execution_count": null,
      "outputs": []
    },
    {
      "cell_type": "code",
      "source": [
        "predecir_carpeta(\"1.\\ninstalar conda(explicar que hace, porque es necesario)\\n2.\\nobtener el dataset(internet, videos de simulaciones)\\n3.\\nvariar las imágenes del dataset(blanco y negro, cerca, lejos, angulos)\\n4.\\npre procesamiento(normalizar el tamaño)\\n5.\\netiquetado(herramientas, formato coco)\\n6.\\nimportación de los datos\\n7.\\nentrenamiento\\n8.\\npruebas\\n9.\\nimplementacion real\\nnota:instalar torch para cpu\\n\")"
      ],
      "metadata": {
        "colab": {
          "base_uri": "https://localhost:8080/"
        },
        "id": "SNkLoN23h_MC",
        "outputId": "442f9204-ee57-464f-8c5a-604f529534fd"
      },
      "execution_count": null,
      "outputs": [
        {
          "output_type": "stream",
          "name": "stdout",
          "text": [
            "<class 'list'>\n",
            "0.48659873\n"
          ]
        },
        {
          "output_type": "execute_result",
          "data": {
            "text/plain": [
              "3"
            ]
          },
          "metadata": {},
          "execution_count": 157
        }
      ]
    },
    {
      "cell_type": "code",
      "source": [
        "def asignar_carpeta(ruta,archivo,carpeta):\n",
        "    ruta_archivo=archivo\n",
        "    ruta_destino=ruta+\"/\"+str(carpeta)\n",
        "\n",
        "    if not(os.path.isdir(ruta_destino)):\n",
        "        print(\"no deberia\")\n",
        "        os.system(\"mkdir \"+ruta_destino)\n",
        "    print(\"mv \"+ruta_archivo+\" \"+ruta_destino)\n",
        "    os.system(\"mv \"+ruta_archivo+\" \"+ruta_destino)"
      ],
      "metadata": {
        "id": "MzetykwpfF4_"
      },
      "execution_count": null,
      "outputs": []
    },
    {
      "cell_type": "code",
      "execution_count": null,
      "metadata": {
        "id": "wKrpgscFvOih"
      },
      "outputs": [],
      "source": [
        "def ordenar_documentos(ruta):\n",
        "    lista_pdfs=obtener_lista_archivos(ruta)\n",
        "    for ruta_pdf in lista_pdfs:\n",
        "        texto=leer_contenido_pdf(ruta_pdf)\n",
        "        carpeta_destino=predecir_carpeta(texto)\n",
        "        print(texto)\n",
        "        print(carpeta_destino)\n",
        "        asignar_carpeta(ruta,ruta_pdf,carpeta_destino)"
      ]
    },
    {
      "cell_type": "code",
      "execution_count": null,
      "metadata": {
        "id": "06o-QPSpvOfg",
        "colab": {
          "base_uri": "https://localhost:8080/"
        },
        "outputId": "815c6af0-03ea-45a2-f06f-34efe035f2b6"
      },
      "outputs": [
        {
          "output_type": "stream",
          "name": "stdout",
          "text": [
            "0.48658124\n",
            "1.\n",
            "instalar conda(explicar que hace, porque es necesario)\n",
            "2.\n",
            "obtener el dataset(internet, videos de simulaciones)\n",
            "3.\n",
            "variar las imágenes del dataset(blanco y negro, cerca, lejos, angulos)\n",
            "4.\n",
            "pre procesamiento(normalizar el tamaño)\n",
            "5.\n",
            "etiquetado(herramientas, formato coco)\n",
            "6.\n",
            "importación de los datos\n",
            "7.\n",
            "entrenamiento\n",
            "8.\n",
            "pruebas\n",
            "9.\n",
            "implementacion real\n",
            "nota:instalar torch para cpu\n",
            "\n",
            "3\n",
            "mv /content/sample_data/procedimiento.pdf /content/sample_data/3\n"
          ]
        }
      ],
      "source": [
        "ordenar_documentos(\"/content/sample_data\")"
      ]
    },
    {
      "cell_type": "code",
      "execution_count": null,
      "metadata": {
        "id": "Td26SDSIvOc-"
      },
      "outputs": [],
      "source": [
        ""
      ]
    },
    {
      "cell_type": "code",
      "source": [
        ""
      ],
      "metadata": {
        "id": "MxbLUw524rqd"
      },
      "execution_count": null,
      "outputs": []
    },
    {
      "cell_type": "code",
      "source": [
        ""
      ],
      "metadata": {
        "id": "E28GL60U4pGR"
      },
      "execution_count": null,
      "outputs": []
    },
    {
      "cell_type": "code",
      "source": [
        "!pip install googletrans==3.1.0a0 "
      ],
      "metadata": {
        "id": "-E46imId37lH"
      },
      "execution_count": null,
      "outputs": []
    },
    {
      "cell_type": "code",
      "source": [
        "import pandas as pd\n",
        "import numpy as np\n",
        "import matplotlib.pyplot as plt\n",
        "from googletrans import Translator\n",
        "import seaborn as sns\n",
        "import warnings\n",
        "warnings.filterwarnings(\"ignore\",category=DeprecationWarning)\n"
      ],
      "metadata": {
        "id": "Kel3u26Z33aq"
      },
      "execution_count": null,
      "outputs": []
    },
    {
      "cell_type": "code",
      "source": [
        "trans=Translator();"
      ],
      "metadata": {
        "id": "CR_qEZof7GfP"
      },
      "execution_count": null,
      "outputs": []
    },
    {
      "cell_type": "code",
      "source": [
        "#traduccion\n",
        "df['esp'] = df.apply(lambda row: trans.translate(row[\"docs_procesados\"],dest=\"es\").text , axis = 1) \n",
        "df.to_csv(\"train_traducido.csv\") "
      ],
      "metadata": {
        "id": "qBIgank37Cvu"
      },
      "execution_count": null,
      "outputs": []
    },
    {
      "cell_type": "markdown",
      "source": [
        "**1. Cargar datos**"
      ],
      "metadata": {
        "id": "JL9KzIcD4Lkw"
      }
    },
    {
      "cell_type": "markdown",
      "source": [
        "se utilizo el conjunto de datos de artículos que contine articulos de las materias de .... en un archivo CSV "
      ],
      "metadata": {
        "id": "T1uDTm1-4YFP"
      }
    },
    {
      "cell_type": "code",
      "source": [
        "df= pd.read_csv(\"https://raw.githubusercontent.com/DayBS/Machine-learning/main/2do-dataset/train.csv\")\n",
        "\n",
        "df.columns=df.columns.str.lower().str.replace(\" \",\"_\",regex=True)\n",
        "df = df.drop(columns=[\n",
        "'id','computer_science','mathematics','physics','statistics','analysis_of_pdes','applications',  \n",
        "'artificial_intelligence','astrophysics_of_galaxies','computation_and_language','computer_vision_and_pattern_recognition',   \n",
        "'cosmology_and_nongalactic_astrophysics','data_structures_and_algorithms','differential_geometry',             \n",
        "'earth_and_planetary_astrophysics', 'fluid_dynamics', 'information_theory','instrumentation_and_methods_for_astrophysics',  \n",
        "'machine_learning',          \n",
        "'materials_science',\n",
        "'methodology',              \n",
        "'number_theory',                  \n",
        "'optimization_and_control',       \n",
        "'representation_theory',         \n",
        "'robotics',            \n",
        "'social_and_information_networks', \n",
        "'statistics_theory',                  \n",
        "'strongly_correlated_electrons',              \n",
        "'superconductivity',                      \n",
        "'systems_and_control'                      \n",
        " ], axis=1)\n",
        "\n",
        "#libreria para usar expresiones regulares\n",
        "import re\n",
        "# Eliminar los caracteres como puntos, simbolos de dolar, comas, etc.\n",
        "df['docs_procesados'] = \\\n",
        "df['abstract'].map(lambda x: re.sub('[$,\\.!?_]', '', x))\n",
        "# LLevar las palabras a minusculas\n",
        "df['docs_procesados'] = \\\n",
        "df['docs_procesados'].map(lambda x: x.lower())\n",
        "# Visualizar la columna de datos procesados\n",
        "\n",
        "df=df.drop(\"abstract\",axis=1)"
      ],
      "metadata": {
        "id": "fFAhKMGf35ff"
      },
      "execution_count": null,
      "outputs": []
    },
    {
      "cell_type": "markdown",
      "source": [
        "**2. Limpieza de datos**\n",
        "\n",
        "Para realizar la prediccion solo necesitaremos el texto de cada documento"
      ],
      "metadata": {
        "id": "DrFyYCWL4c4g"
      }
    },
    {
      "cell_type": "code",
      "source": [
        "df['esp'] = df.apply(lambda row: trans.translate(row[\"docs_procesados\"],dest=\"es\").text , axis = 1)  "
      ],
      "metadata": {
        "id": "Kix7XIgY6lN9"
      },
      "execution_count": null,
      "outputs": []
    },
    {
      "cell_type": "code",
      "source": [
        "df.head(100)      "
      ],
      "metadata": {
        "id": "ZUaknwHUeJyo"
      },
      "execution_count": null,
      "outputs": []
    },
    {
      "cell_type": "code",
      "source": [
        ""
      ],
      "metadata": {
        "id": "g5r9NxUrsWpK"
      },
      "execution_count": null,
      "outputs": []
    },
    {
      "cell_type": "code",
      "source": [
        "documentos= pd.read_csv(\"train_traducido.csv\")\n",
        "documentos.head(5)"
      ],
      "metadata": {
        "colab": {
          "base_uri": "https://localhost:8080/",
          "height": 354
        },
        "id": "sKh2nIHosxgn",
        "outputId": "c75c722f-381a-4f60-c9f7-4870a9037e8c"
      },
      "execution_count": null,
      "outputs": [
        {
          "output_type": "execute_result",
          "data": {
            "text/plain": [
              "   Unnamed: 0                                    docs_procesados  \\\n",
              "0           0  a ever-growing datasets inside observational a...   \n",
              "1           1  we propose the framework considering optimal t...   \n",
              "2           2  nanostructures with open shell transition meta...   \n",
              "3           3  stars are self-gravitating fluids inside which...   \n",
              "4           4  deep neural perception and control networks ar...   \n",
              "\n",
              "                                                 esp  \n",
              "0  Los conjuntos de datos en constante crecimient...  \n",
              "1  Proponemos el marco que considera coincidencia...  \n",
              "2  Las nanoestructuras con componentes moleculare...  \n",
              "3  las estrellas son fluidos autogravitatorios de...  \n",
              "4  Es probable que las redes de control y percepc...  "
            ],
            "text/html": [
              "\n",
              "  <div id=\"df-d8458006-8560-4b1e-adb9-6004a224bc20\">\n",
              "    <div class=\"colab-df-container\">\n",
              "      <div>\n",
              "<style scoped>\n",
              "    .dataframe tbody tr th:only-of-type {\n",
              "        vertical-align: middle;\n",
              "    }\n",
              "\n",
              "    .dataframe tbody tr th {\n",
              "        vertical-align: top;\n",
              "    }\n",
              "\n",
              "    .dataframe thead th {\n",
              "        text-align: right;\n",
              "    }\n",
              "</style>\n",
              "<table border=\"1\" class=\"dataframe\">\n",
              "  <thead>\n",
              "    <tr style=\"text-align: right;\">\n",
              "      <th></th>\n",
              "      <th>Unnamed: 0</th>\n",
              "      <th>docs_procesados</th>\n",
              "      <th>esp</th>\n",
              "    </tr>\n",
              "  </thead>\n",
              "  <tbody>\n",
              "    <tr>\n",
              "      <th>0</th>\n",
              "      <td>0</td>\n",
              "      <td>a ever-growing datasets inside observational a...</td>\n",
              "      <td>Los conjuntos de datos en constante crecimient...</td>\n",
              "    </tr>\n",
              "    <tr>\n",
              "      <th>1</th>\n",
              "      <td>1</td>\n",
              "      <td>we propose the framework considering optimal t...</td>\n",
              "      <td>Proponemos el marco que considera coincidencia...</td>\n",
              "    </tr>\n",
              "    <tr>\n",
              "      <th>2</th>\n",
              "      <td>2</td>\n",
              "      <td>nanostructures with open shell transition meta...</td>\n",
              "      <td>Las nanoestructuras con componentes moleculare...</td>\n",
              "    </tr>\n",
              "    <tr>\n",
              "      <th>3</th>\n",
              "      <td>3</td>\n",
              "      <td>stars are self-gravitating fluids inside which...</td>\n",
              "      <td>las estrellas son fluidos autogravitatorios de...</td>\n",
              "    </tr>\n",
              "    <tr>\n",
              "      <th>4</th>\n",
              "      <td>4</td>\n",
              "      <td>deep neural perception and control networks ar...</td>\n",
              "      <td>Es probable que las redes de control y percepc...</td>\n",
              "    </tr>\n",
              "  </tbody>\n",
              "</table>\n",
              "</div>\n",
              "      <button class=\"colab-df-convert\" onclick=\"convertToInteractive('df-d8458006-8560-4b1e-adb9-6004a224bc20')\"\n",
              "              title=\"Convert this dataframe to an interactive table.\"\n",
              "              style=\"display:none;\">\n",
              "        \n",
              "  <svg xmlns=\"http://www.w3.org/2000/svg\" height=\"24px\"viewBox=\"0 0 24 24\"\n",
              "       width=\"24px\">\n",
              "    <path d=\"M0 0h24v24H0V0z\" fill=\"none\"/>\n",
              "    <path d=\"M18.56 5.44l.94 2.06.94-2.06 2.06-.94-2.06-.94-.94-2.06-.94 2.06-2.06.94zm-11 1L8.5 8.5l.94-2.06 2.06-.94-2.06-.94L8.5 2.5l-.94 2.06-2.06.94zm10 10l.94 2.06.94-2.06 2.06-.94-2.06-.94-.94-2.06-.94 2.06-2.06.94z\"/><path d=\"M17.41 7.96l-1.37-1.37c-.4-.4-.92-.59-1.43-.59-.52 0-1.04.2-1.43.59L10.3 9.45l-7.72 7.72c-.78.78-.78 2.05 0 2.83L4 21.41c.39.39.9.59 1.41.59.51 0 1.02-.2 1.41-.59l7.78-7.78 2.81-2.81c.8-.78.8-2.07 0-2.86zM5.41 20L4 18.59l7.72-7.72 1.47 1.35L5.41 20z\"/>\n",
              "  </svg>\n",
              "      </button>\n",
              "      \n",
              "  <style>\n",
              "    .colab-df-container {\n",
              "      display:flex;\n",
              "      flex-wrap:wrap;\n",
              "      gap: 12px;\n",
              "    }\n",
              "\n",
              "    .colab-df-convert {\n",
              "      background-color: #E8F0FE;\n",
              "      border: none;\n",
              "      border-radius: 50%;\n",
              "      cursor: pointer;\n",
              "      display: none;\n",
              "      fill: #1967D2;\n",
              "      height: 32px;\n",
              "      padding: 0 0 0 0;\n",
              "      width: 32px;\n",
              "    }\n",
              "\n",
              "    .colab-df-convert:hover {\n",
              "      background-color: #E2EBFA;\n",
              "      box-shadow: 0px 1px 2px rgba(60, 64, 67, 0.3), 0px 1px 3px 1px rgba(60, 64, 67, 0.15);\n",
              "      fill: #174EA6;\n",
              "    }\n",
              "\n",
              "    [theme=dark] .colab-df-convert {\n",
              "      background-color: #3B4455;\n",
              "      fill: #D2E3FC;\n",
              "    }\n",
              "\n",
              "    [theme=dark] .colab-df-convert:hover {\n",
              "      background-color: #434B5C;\n",
              "      box-shadow: 0px 1px 3px 1px rgba(0, 0, 0, 0.15);\n",
              "      filter: drop-shadow(0px 1px 2px rgba(0, 0, 0, 0.3));\n",
              "      fill: #FFFFFF;\n",
              "    }\n",
              "  </style>\n",
              "\n",
              "      <script>\n",
              "        const buttonEl =\n",
              "          document.querySelector('#df-d8458006-8560-4b1e-adb9-6004a224bc20 button.colab-df-convert');\n",
              "        buttonEl.style.display =\n",
              "          google.colab.kernel.accessAllowed ? 'block' : 'none';\n",
              "\n",
              "        async function convertToInteractive(key) {\n",
              "          const element = document.querySelector('#df-d8458006-8560-4b1e-adb9-6004a224bc20');\n",
              "          const dataTable =\n",
              "            await google.colab.kernel.invokeFunction('convertToInteractive',\n",
              "                                                     [key], {});\n",
              "          if (!dataTable) return;\n",
              "\n",
              "          const docLinkHtml = 'Like what you see? Visit the ' +\n",
              "            '<a target=\"_blank\" href=https://colab.research.google.com/notebooks/data_table.ipynb>data table notebook</a>'\n",
              "            + ' to learn more about interactive tables.';\n",
              "          element.innerHTML = '';\n",
              "          dataTable['output_type'] = 'display_data';\n",
              "          await google.colab.output.renderOutput(dataTable, element);\n",
              "          const docLink = document.createElement('div');\n",
              "          docLink.innerHTML = docLinkHtml;\n",
              "          element.appendChild(docLink);\n",
              "        }\n",
              "      </script>\n",
              "    </div>\n",
              "  </div>\n",
              "  "
            ]
          },
          "metadata": {},
          "execution_count": 318
        }
      ]
    },
    {
      "cell_type": "code",
      "source": [
        "documentos = documentos.drop(columns=[\"docs_procesados\",\"Unnamed: 0\"], axis=1)\n",
        "documentos.head(5)"
      ],
      "metadata": {
        "id": "INLOrrqUsxac"
      },
      "execution_count": null,
      "outputs": []
    },
    {
      "cell_type": "markdown",
      "source": [
        "**3. Preparar los datos para el analisis LDA**\n",
        "\n",
        "Primero se eliminan las palabras comunes que poco influyen al momento de tomar una decisión.\n",
        "posteriormente se convertira cada objeto Tokenizado en un corpus y un diccionario"
      ],
      "metadata": {
        "id": "Z2UQ25JU5D4B"
      }
    },
    {
      "cell_type": "code",
      "source": [
        "import gensim\n",
        "from gensim.utils import simple_preprocess\n",
        "import nltk\n",
        "nltk.download('stopwords')\n",
        "from nltk.corpus import stopwords"
      ],
      "metadata": {
        "id": "xURq746o5C6C"
      },
      "execution_count": null,
      "outputs": []
    },
    {
      "cell_type": "code",
      "source": [
        "#recuperar una lista de palabras de parada del idioma español\n",
        "stop_words = stopwords.words('spanish')\n",
        "#se agrega otras que no estan dentro del conjundo de palabras de parada\n",
        "stop_words.extend(['dentro','afuera','lejos','considerando','si','no','talvez','mas','menos','uno','dos','tres','cuatro','cinco','tambien'])\n",
        "print(stop_words)"
      ],
      "metadata": {
        "colab": {
          "base_uri": "https://localhost:8080/"
        },
        "id": "P6V1rBEdtoUr",
        "outputId": "1b27240d-d3a9-4fbf-8050-e51e4bdfd814"
      },
      "execution_count": null,
      "outputs": [
        {
          "output_type": "stream",
          "name": "stdout",
          "text": [
            "['de', 'la', 'que', 'el', 'en', 'y', 'a', 'los', 'del', 'se', 'las', 'por', 'un', 'para', 'con', 'no', 'una', 'su', 'al', 'lo', 'como', 'más', 'pero', 'sus', 'le', 'ya', 'o', 'este', 'sí', 'porque', 'esta', 'entre', 'cuando', 'muy', 'sin', 'sobre', 'también', 'me', 'hasta', 'hay', 'donde', 'quien', 'desde', 'todo', 'nos', 'durante', 'todos', 'uno', 'les', 'ni', 'contra', 'otros', 'ese', 'eso', 'ante', 'ellos', 'e', 'esto', 'mí', 'antes', 'algunos', 'qué', 'unos', 'yo', 'otro', 'otras', 'otra', 'él', 'tanto', 'esa', 'estos', 'mucho', 'quienes', 'nada', 'muchos', 'cual', 'poco', 'ella', 'estar', 'estas', 'algunas', 'algo', 'nosotros', 'mi', 'mis', 'tú', 'te', 'ti', 'tu', 'tus', 'ellas', 'nosotras', 'vosotros', 'vosotras', 'os', 'mío', 'mía', 'míos', 'mías', 'tuyo', 'tuya', 'tuyos', 'tuyas', 'suyo', 'suya', 'suyos', 'suyas', 'nuestro', 'nuestra', 'nuestros', 'nuestras', 'vuestro', 'vuestra', 'vuestros', 'vuestras', 'esos', 'esas', 'estoy', 'estás', 'está', 'estamos', 'estáis', 'están', 'esté', 'estés', 'estemos', 'estéis', 'estén', 'estaré', 'estarás', 'estará', 'estaremos', 'estaréis', 'estarán', 'estaría', 'estarías', 'estaríamos', 'estaríais', 'estarían', 'estaba', 'estabas', 'estábamos', 'estabais', 'estaban', 'estuve', 'estuviste', 'estuvo', 'estuvimos', 'estuvisteis', 'estuvieron', 'estuviera', 'estuvieras', 'estuviéramos', 'estuvierais', 'estuvieran', 'estuviese', 'estuvieses', 'estuviésemos', 'estuvieseis', 'estuviesen', 'estando', 'estado', 'estada', 'estados', 'estadas', 'estad', 'he', 'has', 'ha', 'hemos', 'habéis', 'han', 'haya', 'hayas', 'hayamos', 'hayáis', 'hayan', 'habré', 'habrás', 'habrá', 'habremos', 'habréis', 'habrán', 'habría', 'habrías', 'habríamos', 'habríais', 'habrían', 'había', 'habías', 'habíamos', 'habíais', 'habían', 'hube', 'hubiste', 'hubo', 'hubimos', 'hubisteis', 'hubieron', 'hubiera', 'hubieras', 'hubiéramos', 'hubierais', 'hubieran', 'hubiese', 'hubieses', 'hubiésemos', 'hubieseis', 'hubiesen', 'habiendo', 'habido', 'habida', 'habidos', 'habidas', 'soy', 'eres', 'es', 'somos', 'sois', 'son', 'sea', 'seas', 'seamos', 'seáis', 'sean', 'seré', 'serás', 'será', 'seremos', 'seréis', 'serán', 'sería', 'serías', 'seríamos', 'seríais', 'serían', 'era', 'eras', 'éramos', 'erais', 'eran', 'fui', 'fuiste', 'fue', 'fuimos', 'fuisteis', 'fueron', 'fuera', 'fueras', 'fuéramos', 'fuerais', 'fueran', 'fuese', 'fueses', 'fuésemos', 'fueseis', 'fuesen', 'sintiendo', 'sentido', 'sentida', 'sentidos', 'sentidas', 'siente', 'sentid', 'tengo', 'tienes', 'tiene', 'tenemos', 'tenéis', 'tienen', 'tenga', 'tengas', 'tengamos', 'tengáis', 'tengan', 'tendré', 'tendrás', 'tendrá', 'tendremos', 'tendréis', 'tendrán', 'tendría', 'tendrías', 'tendríamos', 'tendríais', 'tendrían', 'tenía', 'tenías', 'teníamos', 'teníais', 'tenían', 'tuve', 'tuviste', 'tuvo', 'tuvimos', 'tuvisteis', 'tuvieron', 'tuviera', 'tuvieras', 'tuviéramos', 'tuvierais', 'tuvieran', 'tuviese', 'tuvieses', 'tuviésemos', 'tuvieseis', 'tuviesen', 'teniendo', 'tenido', 'tenida', 'tenidos', 'tenidas', 'tened', 'dentro', 'afuera', 'lejos', 'considerando', 'si', 'no', 'talvez', 'mas', 'menos', 'uno', 'dos', 'tres', 'cuatro', 'cinco', 'tambien']\n"
          ]
        }
      ]
    },
    {
      "cell_type": "code",
      "source": [
        "def sent_to_words(sentences):\n",
        "  #recibir una lista de tokens de cada articulo\n",
        "    for sentence in sentences:\n",
        "      #usar la herramienta gensim para el procesamiento de los textos de cada articulo,\n",
        "      #deacc en true para eliminar las puntuaciones\n",
        "        yield(gensim.utils.simple_preprocess(str(sentence), deacc=True))\n",
        "\n",
        "def remove_stopwords(texts):\n",
        "    return [[word for word in simple_preprocess(str(doc)) \n",
        "             if word not in stop_words] for doc in texts]\n",
        "\n",
        "#obtener una lista que contenga el contenido de cada articulo\n",
        "datos = documentos.esp.values.tolist() ##[[articulo 1],[articulo2]]\n",
        "#obtener las palabras.\n",
        "palabras_documento= list(sent_to_words(datos))#[['','',''],['','','']]\n",
        "print(palabras_documento[0:2])\n",
        "\n",
        "# eliminar las palabras de parada\n",
        "palabras_documento = remove_stopwords(palabras_documento)\n",
        "print(palabras_documento[0:2])\n",
        "\n",
        "#se eliminaran palabras como have,an,and,etc"
      ],
      "metadata": {
        "colab": {
          "base_uri": "https://localhost:8080/"
        },
        "id": "7BsBqkT9toSQ",
        "outputId": "c1b3d41b-568c-4e1d-87d5-59f451667ff4"
      },
      "execution_count": null,
      "outputs": [
        {
          "output_type": "stream",
          "name": "stdout",
          "text": [
            "[['los', 'conjuntos', 'de', 'datos', 'en', 'constante', 'crecimiento', 'dentro', 'de', 'la', 'astronomia', 'observacional', 'han', 'desafiado', 'los', 'cientificos', 'en', 'muchos', 'aspectos', 'incluida', 'una', 'exploracion', 'visualizacion', 'de', 'datos', 'eficiente', 'interactiva', 'se', 'han', 'desarrollado', 'muchas', 'herramientas', 'para', 'enfrentar', 'este', 'desafio', 'sin', 'embargo', 'generalmente', 'se', 'enfocan', 'en', 'mostrar', 'imagenes', 'reales', 'en', 'visualizar', 'patrones', 'dentro', 'de', 'catalogos', 'dentro', 'del', 'forma', 'predefinida', 'dentro', 'de', 'este', 'documento', 'presentamos', 'vizic', 'la', 'biblioteca', 'de', 'visualizacion', 'de', 'python', 'que', 'construye', 'una', 'conexion', 'entre', 'imagenes', 'catalogos', 'traves', 'de', 'un', 'mapa', 'interactivo', 'de', 'una', 'region', 'del', 'cielo', 'vizic', 'visualiza', 'los', 'datos', 'del', 'catalogo', 'sobre', 'el', 'lienzo', 'de', 'fondo', 'personalizado', 'con', 'la', 'ayuda', 'del', 'tamano', 'de', 'una', 'forma', 'la', 'orientacion', 'de', 'cada', 'objeto', 'dentro', 'un', 'catalogo', 'los', 'objetos', 'que', 'se', 'muestran', 'dentro', 'de', 'un', 'mapa', 'son', 'altamente', 'interactivos', 'personalizables', 'en', 'comparacion', 'con', 'los', 'que', 'estan', 'dentro', 'de', 'las', 'imagenes', 'herramienta', 'considerando', 'un', 'analisis', 'mas', 'profundo', 'con', 'la', 'ayuda', 'de', 'stan', 'funciones', 'de', 'dard', 'python', 'desde', 'el', 'cuaderno', 'jupyter', 'ademas', 'vizic', 'permite', 'agregar', 'superposiciones', 'personalizadas', 'dinamicamente', 'en', 'la', 'parte', 'superior', 'de', 'un', 'mapa', 'del', 'cielo', 'inicialmente', 'implementamos', 'varias', 'superposiciones', 'saber', 'el', 'arbol', 'de', 'expansion', 'minimo', 'voronoi', 'delaunay', 'las', 'capas', 'de', 'cuadricula', 'de', 'healpix', 'que', 'son', 'utiles', 'considerando', 'la', 'visualizacion', 'de', 'estructuras', 'gran', 'escala', 'las', 'superposiciones', 'deben', 'generarse', 'agregarse', 'eliminarse', 'de', 'forma', 'interactiva', 'con', 'una', 'linea', 'de', 'codigo', 'los', 'datos', 'de', 'un', 'catalogo', 'se', 'almacenaron', 'dentro', 'de', 'la', 'base', 'de', 'datos', 'no', 'relacional', 'se', 'desarrollaron', 'interfaces', 'dentro', 'de', 'javascript', 'python', 'para', 'trabajar', 'dentro', 'de', 'jupyter', 'notebook', 'lo', 'que', 'permite', 'crear', 'widgets', 'personalizados', 'scripts', 'generados', 'por', 'el', 'usuario', 'para', 'analizar', 'trazar', 'un', 'dato', 'seleccionado', 'mostrado', 'dentro', 'de', 'un', 'mapa', 'interactivo', 'este', 'diseno', 'unico', 'convierte', 'vizic', 'en', 'la', 'herramienta', 'de', 'analisis', 'interactivo', 'muy', 'poderosa', 'flexible', 'vizic', 'debe', 'adoptarse', 'dentro', 'de', 'una', 'variedad', 'de', 'ejercicios', 'considerando', 'ejemplo', 'inspeccion', 'de', 'datos', 'analisis', 'de', 'agrupamiento', 'estudios', 'de', 'alineacion', 'de', 'galaxias', 'identificacion', 'de', 'valores', 'atipicos', 'simplemente', 'visualizaciones', 'gran', 'escala'], ['proponemos', 'el', 'marco', 'que', 'considera', 'coincidencias', 'optimas', 'excluyendo', 'factores', 'prescritos', 'dentro', 'de', 'graficos', 'bipartitos', 'el', 'marco', 'propuesto', 'fue', 'la', 'generalizacion', 'de', 'un', 'problema', 'de', 'coincidencia', 'no', 'bipartito', 'incluye', 'varios', 'problemas', 'como', 'un', 'factor', 'par', 'de', 'coincidencias', 'sin', 'triangulos', 'coincidencias', 'sin', 'cuadrados', 'problemas', 'de', 'arborescencia', 'dentro', 'de', 'este', 'documento', 'demostramos', 'la', 'comprension', 'unificada', 'de', 'estos', 'problemas', 'al', 'extender', 'comunmente', 'los', 'resultados', 'importantes', 'previos', 'resolvemos', 'nuestro', 'problema', 'bajo', 'la', 'suposicion', 'razonable', 'que', 'era', 'lo', 'suficientemente', 'amplia', 'como', 'para', 'incluir', 'los', 'problemas', 'especificos', 'enumerados', 'anteriormente', 'primero', 'presentamos', 'el', 'teorema', 'min', 'max', 'el', 'combinatorio', 'algoritmo', 'considerando', 'una', 'version', 'no', 'ponderada', 'luego', 'proporcionamos', 'la', 'formulacion', 'de', 'programacion', 'lineal', 'con', 'integralidad', 'dual', 'el', 'algoritmo', 'primal', 'dual', 'considerando', 'una', 'version', 'ponderada', 'el', 'ingrediente', 'clave', 'de', 'un', 'algoritmo', 'propuesto', 'fue', 'la', 'tecnica', 'para', 'reducir', 'estructuras', 'prohibidas', 'que', 'corresponde', 'tecnicas', 'de', 'reduccion', 'de', 'ciclos', 'impares', 'triangulos', 'cuadrados', 'ciclos', 'dirigidos', 'dentro', 'el', 'algoritmo', 'de', 'la', 'flor', 'de', 'edmonds', 'el', 'algoritmo', 'de', 'coincidencia', 'de', 'sin', 'triangulos', 'el', 'algoritmo', 'de', 'coincidencia', 'de', 'sin', 'cuadrados', 'un', 'algoritmo', 'de', 'arborescencia', 'respectivamente']]\n",
            "[['conjuntos', 'datos', 'constante', 'crecimiento', 'astronomia', 'observacional', 'desafiado', 'cientificos', 'aspectos', 'incluida', 'exploracion', 'visualizacion', 'datos', 'eficiente', 'interactiva', 'desarrollado', 'muchas', 'herramientas', 'enfrentar', 'desafio', 'embargo', 'generalmente', 'enfocan', 'mostrar', 'imagenes', 'reales', 'visualizar', 'patrones', 'catalogos', 'forma', 'predefinida', 'documento', 'presentamos', 'vizic', 'biblioteca', 'visualizacion', 'python', 'construye', 'conexion', 'imagenes', 'catalogos', 'traves', 'mapa', 'interactivo', 'region', 'cielo', 'vizic', 'visualiza', 'datos', 'catalogo', 'lienzo', 'fondo', 'personalizado', 'ayuda', 'tamano', 'forma', 'orientacion', 'cada', 'objeto', 'catalogo', 'objetos', 'muestran', 'mapa', 'altamente', 'interactivos', 'personalizables', 'comparacion', 'estan', 'imagenes', 'herramienta', 'analisis', 'profundo', 'ayuda', 'stan', 'funciones', 'dard', 'python', 'cuaderno', 'jupyter', 'ademas', 'vizic', 'permite', 'agregar', 'superposiciones', 'personalizadas', 'dinamicamente', 'parte', 'superior', 'mapa', 'cielo', 'inicialmente', 'implementamos', 'varias', 'superposiciones', 'saber', 'arbol', 'expansion', 'minimo', 'voronoi', 'delaunay', 'capas', 'cuadricula', 'healpix', 'utiles', 'visualizacion', 'estructuras', 'gran', 'escala', 'superposiciones', 'deben', 'generarse', 'agregarse', 'eliminarse', 'forma', 'interactiva', 'linea', 'codigo', 'datos', 'catalogo', 'almacenaron', 'base', 'datos', 'relacional', 'desarrollaron', 'interfaces', 'javascript', 'python', 'trabajar', 'jupyter', 'notebook', 'permite', 'crear', 'widgets', 'personalizados', 'scripts', 'generados', 'usuario', 'analizar', 'trazar', 'dato', 'seleccionado', 'mostrado', 'mapa', 'interactivo', 'diseno', 'unico', 'convierte', 'vizic', 'herramienta', 'analisis', 'interactivo', 'poderosa', 'flexible', 'vizic', 'debe', 'adoptarse', 'variedad', 'ejercicios', 'ejemplo', 'inspeccion', 'datos', 'analisis', 'agrupamiento', 'estudios', 'alineacion', 'galaxias', 'identificacion', 'valores', 'atipicos', 'simplemente', 'visualizaciones', 'gran', 'escala'], ['proponemos', 'marco', 'considera', 'coincidencias', 'optimas', 'excluyendo', 'factores', 'prescritos', 'graficos', 'bipartitos', 'marco', 'propuesto', 'generalizacion', 'problema', 'coincidencia', 'bipartito', 'incluye', 'varios', 'problemas', 'factor', 'par', 'coincidencias', 'triangulos', 'coincidencias', 'cuadrados', 'problemas', 'arborescencia', 'documento', 'demostramos', 'comprension', 'unificada', 'problemas', 'extender', 'comunmente', 'resultados', 'importantes', 'previos', 'resolvemos', 'problema', 'bajo', 'suposicion', 'razonable', 'suficientemente', 'amplia', 'incluir', 'problemas', 'especificos', 'enumerados', 'anteriormente', 'primero', 'presentamos', 'teorema', 'min', 'max', 'combinatorio', 'algoritmo', 'version', 'ponderada', 'luego', 'proporcionamos', 'formulacion', 'programacion', 'lineal', 'integralidad', 'dual', 'algoritmo', 'primal', 'dual', 'version', 'ponderada', 'ingrediente', 'clave', 'algoritmo', 'propuesto', 'tecnica', 'reducir', 'estructuras', 'prohibidas', 'corresponde', 'tecnicas', 'reduccion', 'ciclos', 'impares', 'triangulos', 'cuadrados', 'ciclos', 'dirigidos', 'algoritmo', 'flor', 'edmonds', 'algoritmo', 'coincidencia', 'triangulos', 'algoritmo', 'coincidencia', 'cuadrados', 'algoritmo', 'arborescencia', 'respectivamente']]\n"
          ]
        }
      ]
    },
    {
      "cell_type": "code",
      "source": [
        "import gensim.corpora as corpora\n",
        "# creacion del diccionario donde cada palabra fue tokenizada\n",
        "id2word= corpora.Dictionary(palabras_documento)\n",
        "print(id2word)\n",
        "\n",
        "# creacion del copus\n",
        "texts = palabras_documento\n",
        "corpus = [id2word.doc2bow(text) for text in texts]\n",
        "\n",
        "print(corpus[:1][0][:30])"
      ],
      "metadata": {
        "colab": {
          "base_uri": "https://localhost:8080/"
        },
        "id": "yqe5MmK5toPK",
        "outputId": "cc231fb2-4cf3-4c12-cb40-a53f116670c1"
      },
      "execution_count": null,
      "outputs": [
        {
          "output_type": "stream",
          "name": "stdout",
          "text": [
            "Dictionary(46433 unique tokens: ['ademas', 'adoptarse', 'agregar', 'agregarse', 'agrupamiento']...)\n",
            "[(0, 1), (1, 1), (2, 1), (3, 1), (4, 1), (5, 1), (6, 1), (7, 1), (8, 3), (9, 1), (10, 1), (11, 1), (12, 1), (13, 1), (14, 2), (15, 1), (16, 1), (17, 1), (18, 1), (19, 3), (20, 2), (21, 2), (22, 1), (23, 1), (24, 1), (25, 1), (26, 1), (27, 1), (28, 1), (29, 1)]\n"
          ]
        }
      ]
    },
    {
      "cell_type": "markdown",
      "source": [
        "**4. Entrenamiento del modelo**\n",
        "\n",
        "los parametros alfa y beta seran asignados aleatoreamente\n",
        "\n",
        "el numero de temas sera de 4\n",
        "\n",
        "usaremos las palabras con el formato requerido por el modelo\n",
        "\n",
        "** Nota: Cada documento es una combinacion de palabras\n",
        "\n",
        "Cada palabra contribuye un peso al tema **"
      ],
      "metadata": {
        "id": "RJ_qbU-B5ae3"
      }
    },
    {
      "cell_type": "code",
      "source": [
        "from pprint import pprint\n",
        "# establecer el numero de topicos\n",
        "num_topics = 4\n",
        "# importar el modelo LDA con los datos,las palabras y el numero de topicos\n",
        "lda_model = gensim.models.LdaMulticore(corpus=corpus,\n",
        "                                       id2word=id2word,\n",
        "                                       num_topics=num_topics)\n",
        "# \n",
        "pprint(lda_model.print_topics())"
      ],
      "metadata": {
        "colab": {
          "base_uri": "https://localhost:8080/"
        },
        "id": "DBYd2qi-toMy",
        "outputId": "f0c4e36f-da2b-4578-9f3c-8a67f264d4f4"
      },
      "execution_count": null,
      "outputs": [
        {
          "output_type": "stream",
          "name": "stdout",
          "text": [
            "[(0,\n",
            "  '0.011*\"orden\" + 0.010*\"datos\" + 0.010*\"carga\" + 0.008*\"modelo\" + '\n",
            "  '0.008*\"mathrm\" + 0.008*\"fase\" + 0.008*\"onda\" + 0.007*\"densidad\" + '\n",
            "  '0.007*\"sistema\" + 0.007*\"modo\"'),\n",
            " (1,\n",
            "  '0.008*\"sistema\" + 0.008*\"datos\" + 0.005*\"modelo\" + 0.005*\"resultados\" + '\n",
            "  '0.004*\"aprendizaje\" + 0.004*\"onda\" + 0.004*\"trabajo\" + 0.004*\"densidad\" + '\n",
            "  '0.004*\"sistemas\" + 0.004*\"presentamos\"'),\n",
            " (2,\n",
            "  '0.022*\"profundidad\" + 0.013*\"reconstruccion\" + 0.009*\"problemas\" + '\n",
            "  '0.009*\"contribucion\" + 0.008*\"robot\" + 0.007*\"entorno\" + 0.007*\"resultados\" '\n",
            "  '+ 0.007*\"solo\" + 0.007*\"algoritmos\" + 0.007*\"conjunto\"'),\n",
            " (3,\n",
            "  '0.008*\"fase\" + 0.008*\"onda\" + 0.007*\"transicion\" + 0.007*\"orden\" + '\n",
            "  '0.007*\"ge\" + 0.005*\"mathrm\" + 0.005*\"modo\" + 0.005*\"densidad\" + '\n",
            "  '0.004*\"dramatico\" + 0.004*\"datos\"')]\n"
          ]
        }
      ]
    },
    {
      "cell_type": "markdown",
      "source": [
        "**5. Analisis de los resultado**\n",
        "\n",
        "se usara la libreria pyLDAvis, el cual nos permite visualizar los resultados del entrenamiento del modelo\n",
        "\n",
        "analisis de las palabras para cada tema\n",
        "analisis de relaciones entre los temas"
      ],
      "metadata": {
        "id": "3063SSkP5n3M"
      }
    },
    {
      "cell_type": "code",
      "source": [
        "!pip install pyLDAvis "
      ],
      "metadata": {
        "id": "2D-kecFjtoJk"
      },
      "execution_count": null,
      "outputs": []
    },
    {
      "cell_type": "code",
      "source": [
        "! touch ldavis_prepared\n",
        "pyLDAvis.enable_notebook()\n",
        "LDAvis_data_filepath = os.path.join('./ldavis_prepared') "
      ],
      "metadata": {
        "id": "gd6h1WqwtoGU"
      },
      "execution_count": null,
      "outputs": []
    },
    {
      "cell_type": "code",
      "source": [
        "if 1 == 1:\n",
        "    LDAvis_prepared = gensimvis.prepare(lda_model, corpus, id2word)\n",
        "    with open(LDAvis_data_filepath,'wb') as f:\n",
        "        pickle.dump(LDAvis_prepared, f)\n",
        "\n",
        "with open(LDAvis_data_filepath, 'rb') as f:\n",
        "    LDAvis_prepared = pickle.load(f)   \n",
        "           \n",
        "LDAvis_prepared    "
      ],
      "metadata": {
        "colab": {
          "base_uri": "https://localhost:8080/",
          "height": 916
        },
        "id": "LmsjQ4wRvAZF",
        "outputId": "2fc62af9-2a87-4efb-8dfa-6a24f8a0cea9"
      },
      "execution_count": null,
      "outputs": [
        {
          "output_type": "stream",
          "name": "stderr",
          "text": [
            "/usr/local/lib/python3.7/dist-packages/pyLDAvis/_prepare.py:247: FutureWarning: In a future version of pandas all arguments of DataFrame.drop except for the argument 'labels' will be keyword-only\n",
            "  by='saliency', ascending=False).head(R).drop('saliency', 1)\n"
          ]
        },
        {
          "output_type": "execute_result",
          "data": {
            "text/plain": [
              "PreparedData(topic_coordinates=              x         y  topics  cluster       Freq\n",
              "topic                                                \n",
              "1      0.040576  0.058032       1        1  42.676249\n",
              "3      0.082854 -0.016159       2        1  31.592912\n",
              "2     -0.124030  0.007949       3        1  18.762909\n",
              "0      0.000601 -0.049822       4        1   6.967929, topic_info=                 Term         Freq        Total Category  logprob  loglift\n",
              "1829      profundidad  6242.000000  6242.000000  Default  30.0000  30.0000\n",
              "3266   reconstruccion  3803.000000  3803.000000  Default  29.0000  29.0000\n",
              "453             orden  5066.000000  5066.000000  Default  28.0000  28.0000\n",
              "259              fase  4692.000000  4692.000000  Default  27.0000  27.0000\n",
              "2876           mathrm  3321.000000  3321.000000  Default  26.0000  26.0000\n",
              "...               ...          ...          ...      ...      ...      ...\n",
              "579       aprendizaje   360.648798  4929.708013   Topic4  -5.5482   0.0487\n",
              "21351            nbse   308.705568  2227.616834   Topic4  -5.7037   0.6876\n",
              "106       presentamos   324.755776  3472.305814   Topic4  -5.6530   0.2944\n",
              "1199     transiciones   298.477941  2187.413562   Topic4  -5.7374   0.6721\n",
              "186         problemas   315.275588  3519.650159   Topic4  -5.6827   0.2512\n",
              "\n",
              "[350 rows x 6 columns], token_table=       Topic      Freq      Term\n",
              "term                            \n",
              "17676      1  0.076929       abc\n",
              "17676      2  0.307715       abc\n",
              "17676      3  0.153857       abc\n",
              "17676      4  0.461572       abc\n",
              "2849       1  0.878977  acrecion\n",
              "...      ...       ...       ...\n",
              "16583      1  0.242235       wer\n",
              "16583      3  0.242235       wer\n",
              "16583      4  0.484470       wer\n",
              "44954      1  0.940310       wjs\n",
              "44954      2  0.042741       wjs\n",
              "\n",
              "[926 rows x 3 columns], R=30, lambda_step=0.01, plot_opts={'xlab': 'PC1', 'ylab': 'PC2'}, topic_order=[2, 4, 3, 1])"
            ],
            "text/html": [
              "\n",
              "<link rel=\"stylesheet\" type=\"text/css\" href=\"https://cdn.jsdelivr.net/gh/bmabey/pyLDAvis@3.3.1/pyLDAvis/js/ldavis.v1.0.0.css\">\n",
              "\n",
              "\n",
              "<div id=\"ldavis_el601400662004708641984727566\"></div>\n",
              "<script type=\"text/javascript\">\n",
              "\n",
              "var ldavis_el601400662004708641984727566_data = {\"mdsDat\": {\"x\": [0.04057550120919953, 0.08285432913163221, -0.12403041791125316, 0.0006005875704214038], \"y\": [0.05803245644770149, -0.016159144060182363, 0.007949004114486399, -0.04982231650200563], \"topics\": [1, 2, 3, 4], \"cluster\": [1, 1, 1, 1], \"Freq\": [42.67624926206691, 31.59291239658078, 18.76290897676406, 6.9679293645882465]}, \"tinfo\": {\"Term\": [\"profundidad\", \"reconstruccion\", \"orden\", \"fase\", \"mathrm\", \"carga\", \"onda\", \"datos\", \"contribucion\", \"problemas\", \"densidad\", \"transicion\", \"modelo\", \"modo\", \"ge\", \"robot\", \"entorno\", \"sistema\", \"mediciones\", \"naturaleza\", \"nbse\", \"algoritmos\", \"temperatura\", \"marco\", \"solo\", \"sinusoidalmente\", \"resultados\", \"general\", \"metodos\", \"transiciones\", \"radiografias\", \"torax\", \"emoji\", \"sbs\", \"pir\", \"circunestelares\", \"chexnet\", \"afl\", \"invasivos\", \"qacits\", \"extragalacticos\", \"cmm\", \"tof\", \"nebular\", \"bhar\", \"timeform\", \"redgold\", \"dispersiva\", \"eit\", \"pacs\", \"idealizados\", \"servidores\", \"donantes\", \"hsc\", \"wjs\", \"pka\", \"laes\", \"toricas\", \"metama\", \"intel\", \"faltar\", \"consejos\", \"ionizacion\", \"unilateral\", \"discos\", \"delicada\", \"kuiper\", \"mv\", \"disco\", \"integrado\", \"planetas\", \"nbse\", \"catalogo\", \"kepler\", \"estrellas\", \"criterios\", \"acrecion\", \"fusiones\", \"superc\", \"estelar\", \"galaxias\", \"gas\", \"idiomas\", \"exoplanetas\", \"candidatas\", \"emision\", \"candidatos\", \"extraidas\", \"nitido\", \"relevantes\", \"velocidad\", \"disponible\", \"sistema\", \"apoyandonos\", \"gratuitamente\", \"sistemas\", \"masa\", \"trabajo\", \"propositos\", \"plataforma\", \"datos\", \"presentamos\", \"simultaneo\", \"oraciones\", \"aprendizaje\", \"modelo\", \"resultados\", \"densidad\", \"cuenta\", \"metodos\", \"onda\", \"conjunto\", \"marco\", \"modo\", \"metodo\", \"modelos\", \"ayuda\", \"mientras\", \"tiempo\", \"carga\", \"solo\", \"dramatico\", \"malle\", \"idbvp\", \"solicitantes\", \"puestos\", \"informal\", \"hawking\", \"cmc\", \"ff\", \"gravitinos\", \"gerbes\", \"domo\", \"kafms\", \"cosecantes\", \"bimetrica\", \"checkerboard\", \"mfccs\", \"cecoin\", \"hexaferrita\", \"tetraedro\", \"reoptimizacion\", \"nido\", \"sqg\", \"ge\", \"autoexpansores\", \"bosonicas\", \"risa\", \"sogge\", \"vol\", \"um\", \"frb\", \"seebeck\", \"modulada\", \"chi\", \"duplex\", \"prototipico\", \"unicidad\", \"psi\", \"fd\", \"cercana\", \"fase\", \"vecino\", \"schwarzschild\", \"transicion\", \"inconmensurable\", \"ferromagnetico\", \"afm\", \"angulo\", \"omega\", \"cercano\", \"fermi\", \"neutrinos\", \"axial\", \"revela\", \"proporcional\", \"superconductora\", \"transiciones\", \"ecuacion\", \"mathrm\", \"imanes\", \"sinusoidalmente\", \"primer\", \"magnetico\", \"soluciones\", \"orden\", \"ecuaciones\", \"todas\", \"informamos\", \"interaccion\", \"onda\", \"modos\", \"aqui\", \"condicion\", \"temperatura\", \"modo\", \"pequeno\", \"observaciones\", \"densidad\", \"naturaleza\", \"problema\", \"presion\", \"funcion\", \"raman\", \"energia\", \"tiempo\", \"ayuda\", \"datos\", \"modelo\", \"cuenta\", \"metodo\", \"sistema\", \"compresiva\", \"hombre\", \"asegura\", \"traduce\", \"solucionadores\", \"mundiales\", \"transportar\", \"formales\", \"lentos\", \"extensa\", \"navegar\", \"desconocido\", \"tercera\", \"profundidad\", \"opera\", \"reconstruccion\", \"programas\", \"violo\", \"determinan\", \"ejecuta\", \"ing\", \"reconstruir\", \"interpolacion\", \"cierta\", \"aprovechamos\", \"lidar\", \"creados\", \"bordo\", \"contribucion\", \"estructurado\", \"robot\", \"superficies\", \"entorno\", \"algoritmos\", \"geometria\", \"formulacion\", \"problemas\", \"regularidad\", \"ejemplo\", \"reales\", \"posible\", \"mediciones\", \"sensor\", \"solo\", \"partir\", \"punto\", \"conjunto\", \"general\", \"pocos\", \"resultados\", \"ultima\", \"metodo\", \"idea\", \"aprendizaje\", \"datos\", \"detras\", \"sistema\", \"problema\", \"ayuda\", \"debe\", \"sans\", \"rmt\", \"modulado\", \"eas\", \"kriging\", \"ordenacion\", \"hbar\", \"steiner\", \"sdw\", \"neutrones\", \"ppo\", \"profesores\", \"rwt\", \"trasplante\", \"bogoliubov\", \"mca\", \"espinela\", \"imputacion\", \"cacu\", \"retornos\", \"educativos\", \"susy\", \"hin\", \"autoparalelas\", \"sln\", \"wer\", \"abc\", \"dimero\", \"bdds\", \"schwinger\", \"perilla\", \"ropa\", \"frustrados\", \"realizacion\", \"incompletos\", \"sinusoidalmente\", \"exactitud\", \"emerge\", \"estudiantes\", \"tridimensional\", \"carga\", \"magnetica\", \"mathrm\", \"carlo\", \"vector\", \"imanes\", \"orden\", \"modelado\", \"descripcion\", \"dispersion\", \"magnetico\", \"higgs\", \"refinado\", \"temperatura\", \"fase\", \"modelo\", \"densidad\", \"datos\", \"naturaleza\", \"modo\", \"marco\", \"onda\", \"metodos\", \"sistema\", \"transicion\", \"indican\", \"metodo\", \"cuenta\", \"mediciones\", \"profundidad\", \"analisis\", \"resultados\", \"modos\", \"aprendizaje\", \"nbse\", \"presentamos\", \"transiciones\", \"problemas\"], \"Freq\": [6242.0, 3803.0, 5066.0, 4692.0, 3321.0, 3758.0, 6497.0, 8412.0, 2598.0, 3519.0, 5143.0, 3883.0, 5445.0, 4684.0, 3014.0, 2376.0, 2412.0, 7748.0, 3294.0, 3215.0, 2227.0, 2333.0, 2373.0, 3641.0, 3768.0, 1231.0, 5721.0, 3147.0, 3297.0, 2187.0, 43.50746424281453, 40.793800121574925, 37.37140632880528, 33.588643160351566, 18.356342801056492, 28.48140229070436, 15.451049256352535, 21.602446603268366, 18.075161132751468, 14.87873922397626, 14.776717757578629, 34.30876907723311, 21.33348861004252, 23.11013499154488, 11.731769137778272, 11.729677865885506, 11.714432318396906, 14.550713890639605, 12.755329630441432, 15.029153980656108, 14.148384955074551, 44.7750659514553, 21.388501338146135, 60.97551686777231, 22.04152084703901, 11.23143517463085, 49.54859265046111, 13.957153770855687, 10.42212430091743, 16.415959218892397, 1411.0548306263056, 31.014550545869284, 101.38167544730237, 25.411718474244385, 296.21528648571797, 1853.031359481447, 38.03076671438929, 44.0029564008348, 745.6907304895653, 1417.2559067715345, 569.1786833792388, 1845.7159727858543, 167.79532047574503, 150.39108517402303, 899.8836179694417, 2051.843483753093, 188.0405986816215, 94.68471096822357, 1249.8873336936917, 766.6002965179079, 1271.9100877742142, 568.7027441491473, 1202.6955291517013, 203.00680094196144, 1029.0024051283704, 490.41126903354177, 1035.7752950544805, 976.7377671748599, 1052.5450217502696, 945.4351225178234, 809.8674512321825, 1035.7529111201018, 4812.038258104206, 819.8053898618447, 793.5652120154509, 2059.9118686423544, 1360.3465694198103, 2392.8843155939016, 776.984857366263, 924.4500189646162, 4490.355105537461, 2058.849853301512, 959.2880706966787, 1439.3413886917608, 2532.8833455934573, 2610.956395768283, 2607.7061692613433, 2369.673958434519, 1958.3696264327357, 1673.1387440162061, 2477.670169027331, 1886.4899930037648, 1711.9448268293377, 1970.7023158943841, 1984.2263060759703, 1491.657067297999, 1694.150325320699, 1335.8457355244527, 1427.4707723061638, 1445.1111614170454, 1405.2607591167987, 1671.9144339474503, 16.797742738286544, 15.776131215584668, 15.257405967303503, 17.647852192205676, 14.207431240180673, 19.7878092233034, 13.166672110444294, 14.682162054460983, 13.315348276401624, 14.295472044252518, 15.62383480003246, 12.042943581131846, 11.825387202154708, 11.609794464888209, 11.701561681992416, 11.693362656802332, 21.37623726770226, 16.61252954698751, 12.778445403572348, 9.641982593324048, 15.680742985119847, 10.916429598175407, 2789.7290212837233, 9.375610127246382, 15.668502875413626, 10.05141831095551, 9.62069415092785, 19.91178673284742, 25.73733199011698, 29.36883032677213, 22.089974821692216, 1049.8394855961915, 131.90746311990776, 23.559489123385454, 810.405110395159, 70.38911472057436, 51.68269543670104, 49.48945352517376, 886.4592161222988, 3512.272427617376, 791.6630568570455, 34.5064472018471, 2902.4419760427318, 640.5167258622151, 645.0516124230932, 72.15613868992413, 794.2480800411862, 454.37917027674877, 916.7054147021549, 202.72461660017737, 81.33316896170273, 604.9154663018704, 744.8738634904586, 634.6677223040897, 882.0678441985254, 1489.6744054701348, 538.6426456371179, 2178.3596000787666, 525.690156352389, 839.8841215671963, 1142.2624230814506, 748.2778390690304, 577.1053015962455, 2880.061513615572, 451.1500420608892, 943.1421208678059, 659.6439128559645, 994.0781833602108, 3203.7759837194176, 1308.472120775425, 1137.4384542440616, 1029.0257572114278, 1255.3838275365238, 1990.430115650788, 1122.4283678427528, 1092.6168191788142, 1916.1927703178117, 1437.4483731980336, 1512.2588972212984, 1283.770690364955, 1211.519771402093, 1116.5122017807507, 1112.3301383297571, 1259.322170285677, 1311.0563618634508, 1582.748731257184, 1380.5462860162945, 1145.136430780088, 1040.2376915921993, 1051.627357315107, 597.6270102276688, 565.5669981236791, 595.7801062392666, 566.0727049372279, 1123.6306076891321, 557.368393332912, 541.8369236247215, 583.7473612824474, 579.3830708391836, 557.7705783039169, 556.619761455312, 1123.7925964388223, 550.5829807168607, 5535.518571055359, 565.0779546689696, 3335.316306732229, 622.1141934348556, 538.0194468175084, 534.1929125748288, 572.2051112924316, 487.5230248213694, 1070.263385073485, 549.1307138365745, 594.7281663945049, 535.0101138837493, 534.1031510669361, 497.7789447936847, 594.1881458350541, 2200.0475911943936, 505.5056339724514, 1936.674321488566, 624.7377144540302, 1824.0377958411436, 1649.831610795379, 1092.1417365638886, 1037.3843137250947, 2310.8780874339805, 885.9062534100432, 1316.7040114165445, 1082.4923164049292, 1024.4189432176402, 1596.922137033695, 626.9117892684194, 1653.3883960305102, 1235.1281027661528, 1155.1594244272026, 1636.6169285706596, 1387.1043220318643, 822.2571577858403, 1707.0822669277904, 758.7461880525021, 1300.3573144558814, 950.7201003989534, 1247.7510325403914, 1426.2356946344228, 904.6908520233005, 1258.2044742784578, 991.7036024334525, 1020.9017552324333, 909.5076078165051, 471.6792511071695, 3.6122616144601216, 229.0737607250776, 3.100902228545493, 3.156465874656424, 228.7723273132336, 3.5184039447918223, 3.275493193785397, 2.52939597480283, 240.44129335679816, 2.0634458249605903, 221.19897455385677, 1.902035328084942, 1.7829044114347983, 2.092793739323903, 1.7558300836458656, 2.307890156182853, 4.808192746467069, 1.5589963094824335, 1.840034991109846, 209.506592438385, 1.5360232643730911, 1.3604824867378664, 1.0440791488590402, 2.264124835897629, 1.9671065314192993, 6.19288530009756, 1.9548132958095266, 1.3441579599445141, 2.2340645411814193, 211.10858812030102, 3.435649907977996, 206.7726905770582, 216.42159996429737, 153.80344443221392, 389.97397832425145, 139.87382482774157, 196.65269984633065, 198.53547277352797, 204.68484374570866, 899.6111563517154, 224.01692415762764, 753.1537605996465, 166.53728114178276, 216.93936251927664, 188.70637175375802, 977.853006668419, 248.96465728397519, 346.01571532037906, 247.63528850187, 243.06225471660574, 189.16641347586844, 180.62229635420644, 428.5867790345692, 716.9858479128618, 757.5450287438632, 675.7012000879474, 913.0542240495378, 481.22576369377583, 604.6254008747027, 508.99920865767564, 697.2855141932973, 426.42318573856954, 626.3352044261851, 446.4784691595486, 309.7938119852926, 428.86169148099344, 402.12972267295123, 364.8365448289909, 447.51632293964155, 333.51351660390316, 403.77466938179094, 312.5525098711989, 360.64879814217016, 308.70556837090214, 324.7557763400492, 298.4779413317393, 315.2755877287527], \"Total\": [6242.0, 3803.0, 5066.0, 4692.0, 3321.0, 3758.0, 6497.0, 8412.0, 2598.0, 3519.0, 5143.0, 3883.0, 5445.0, 4684.0, 3014.0, 2376.0, 2412.0, 7748.0, 3294.0, 3215.0, 2227.0, 2333.0, 2373.0, 3641.0, 3768.0, 1231.0, 5721.0, 3147.0, 3297.0, 2187.0, 44.18427647935305, 41.55215527836628, 38.10120860138205, 34.360342078089666, 19.08455545508718, 29.64140854095965, 16.08874752518012, 22.53488212063921, 18.945179200216405, 15.596957356915222, 15.496821361231957, 36.03872016707544, 22.413617295359657, 24.35309849733025, 12.36517002623855, 12.363909139999516, 12.361663913413853, 15.362885280879455, 13.467918117817398, 15.883714929333994, 14.964914464206739, 47.38528100572817, 22.65994822258001, 64.61307782698736, 23.39654139220958, 11.927558667466792, 52.62664628512455, 14.840284370830584, 11.085583823631758, 17.478368501352065, 1552.0266018242507, 33.027852356828525, 109.36382645529477, 27.12228616379864, 327.2646875448339, 2126.5257705175413, 40.87206254987731, 47.432664860316414, 857.6091474556841, 1689.8753568900388, 661.4605346808152, 2227.616833751833, 188.1240361319881, 168.777032761648, 1073.286918964395, 2570.2332627470923, 213.88495318396076, 105.24889583046766, 1547.9804498110504, 931.3336695324936, 1588.8084241536817, 694.1156076162395, 1536.2250614239763, 236.16128787241038, 1323.3552449629212, 607.4672752552706, 1363.9415042761175, 1284.7273694771684, 1415.8748950209817, 1285.6145110542222, 1089.868767276985, 1430.206467909739, 7748.205294123956, 1108.6941296961777, 1071.9127744303853, 3088.9231369197873, 1948.0899043333943, 3801.7308007690453, 1077.0952514649343, 1321.6377110365718, 8412.393755478604, 3472.3058141228994, 1406.101790915764, 2350.381506401152, 4929.708013049869, 5445.004794842192, 5721.265560553378, 5143.004516564752, 4022.9763467468756, 3297.830977763999, 6497.221146576774, 4233.604155507528, 3641.9962955735477, 4684.217098832367, 4753.683003605045, 2912.7801755116357, 4289.390518348573, 2571.194046903506, 3305.3136316459836, 3758.1797778490873, 3768.0209679937448, 1736.4376578235735, 17.53108340539488, 16.50860224197156, 16.07306224920621, 18.621214533263053, 15.00074253932106, 20.983681950859776, 13.979436873093071, 15.597265427086034, 14.15852309165251, 15.21469495816684, 16.65419828953418, 12.88661448544604, 12.654135516175774, 12.441308144939951, 12.543139694378054, 12.546127225421506, 22.951444649812196, 17.85591917852267, 13.73582993432941, 10.374640748206224, 16.87424778627379, 11.773088317799584, 3014.63326224729, 10.138583817915327, 16.946681937151173, 10.881172020327128, 10.423075400320418, 21.57384398297464, 27.891209119509835, 31.90905453365973, 23.946155257967533, 1190.4912068502558, 148.72811320413066, 25.7388507857923, 970.3263118660208, 78.73816792935314, 57.519572978648476, 55.02667227715694, 1095.850288760837, 4692.006424365779, 994.672648150425, 38.258867000233465, 3883.8927765779617, 818.4294645335102, 832.6845280538229, 83.26621970441339, 1053.646647137153, 584.9342998622941, 1244.4904065294272, 251.03956093138535, 95.0847484317044, 804.3940911881314, 1013.924308797814, 858.040400046338, 1234.3428793631447, 2187.4135623728525, 733.0015742375467, 3321.1132363049833, 728.7920107003999, 1231.304617384289, 1743.688189005814, 1117.6068244340593, 837.8099981550316, 5066.876328950377, 647.1656553181948, 1483.312321367766, 992.1015786325934, 1617.4890386317024, 6497.221146576774, 2269.786856500722, 1920.8620791914473, 1746.85930497962, 2373.1969880033785, 4684.217098832367, 2128.24894004259, 2055.8594065776274, 5143.004516564752, 3215.4544826380397, 3495.309255255872, 2852.4987255266237, 2585.857878427348, 2261.2043662333544, 2315.285238951431, 3305.3136316459836, 4289.390518348573, 8412.393755478604, 5445.004794842192, 4022.9763467468756, 4753.683003605045, 7748.205294123956, 638.3202761495941, 615.6331895313382, 651.7806179772925, 621.1298988766089, 1234.1153981199502, 613.5438776549695, 598.2868444209735, 647.1587015769444, 642.9399142485696, 619.1429937112237, 620.6002816226143, 1256.0295044391667, 619.981316089933, 6242.386472416581, 643.8748869379757, 3803.479955534943, 709.5806227801643, 614.5957391115422, 614.5832280003568, 658.443782352518, 567.506479217583, 1245.8569174603801, 640.3052837837162, 694.0454870823605, 625.0208059240858, 626.1951241885027, 585.8181666513607, 700.6119909347802, 2598.0707435080285, 597.6272542344432, 2376.0328193445275, 749.6925933521934, 2412.2004779403574, 2333.701424666145, 1438.654090728778, 1357.1767822254747, 3519.650159009378, 1194.1169335096974, 2056.798776046593, 1669.0664262323353, 1601.7355652640586, 3294.9392630079496, 758.3388449553071, 3768.0209679937448, 2335.6482293295103, 2109.6320550488713, 4233.604155507528, 3147.4630291748026, 1235.2516257566435, 5721.265560553378, 1177.0890624073852, 4753.683003605045, 2311.389736929455, 4929.708013049869, 8412.393755478604, 2330.70797866893, 7748.205294123956, 3495.309255255872, 4289.390518348573, 2792.2924061155313, 564.7059981190612, 5.016739891476626, 338.3926087945159, 4.640908849164196, 5.1748821014361965, 380.8315683322321, 6.0688998523434545, 5.6578629730363215, 4.411611864317837, 422.1693325909012, 3.655156284365421, 392.49002783224444, 3.427301777769231, 3.3543128585557587, 4.0191713140477585, 3.400048954760864, 4.500775957878149, 9.585533405498158, 3.114348329227796, 3.6877404777452614, 428.1285261216949, 3.148197612397495, 2.8352984938760244, 2.1847993469132443, 4.739063186973767, 4.128218398425838, 12.999049154747219, 4.162185301172321, 2.9107887051266914, 4.847821259191626, 463.18763735439495, 7.479464047456338, 546.2302974897618, 590.1930411495607, 414.7588580094754, 1231.304617384289, 445.0141977647951, 648.2667577112996, 669.0675675441788, 711.0860666096845, 3758.1797778490873, 803.0040441706733, 3321.1132363049833, 604.6471291765862, 831.7260139854972, 728.7920107003999, 5066.876328950377, 1030.9314565432337, 1554.459194118046, 1119.546753366991, 1117.6068244340593, 827.1298825368441, 798.9148594450678, 2373.1969880033785, 4692.006424365779, 5445.004794842192, 5143.004516564752, 8412.393755478604, 3215.4544826380397, 4684.217098832367, 3641.9962955735477, 6497.221146576774, 3297.830977763999, 7748.205294123956, 3883.8927765779617, 2047.3256375245448, 4753.683003605045, 4022.9763467468756, 3294.9392630079496, 6242.386472416581, 2788.5833341970524, 5721.265560553378, 2269.786856500722, 4929.708013049869, 2227.616833751833, 3472.3058141228994, 2187.4135623728525, 3519.650159009378], \"Category\": [\"Default\", \"Default\", \"Default\", \"Default\", \"Default\", \"Default\", \"Default\", \"Default\", \"Default\", \"Default\", \"Default\", \"Default\", \"Default\", \"Default\", \"Default\", \"Default\", \"Default\", \"Default\", \"Default\", \"Default\", \"Default\", \"Default\", \"Default\", \"Default\", \"Default\", \"Default\", \"Default\", \"Default\", \"Default\", \"Default\", \"Topic1\", \"Topic1\", \"Topic1\", \"Topic1\", \"Topic1\", \"Topic1\", \"Topic1\", \"Topic1\", \"Topic1\", \"Topic1\", \"Topic1\", \"Topic1\", \"Topic1\", \"Topic1\", \"Topic1\", \"Topic1\", \"Topic1\", \"Topic1\", \"Topic1\", \"Topic1\", \"Topic1\", \"Topic1\", \"Topic1\", \"Topic1\", \"Topic1\", \"Topic1\", \"Topic1\", \"Topic1\", \"Topic1\", \"Topic1\", \"Topic1\", \"Topic1\", \"Topic1\", \"Topic1\", \"Topic1\", \"Topic1\", \"Topic1\", \"Topic1\", \"Topic1\", \"Topic1\", \"Topic1\", \"Topic1\", \"Topic1\", \"Topic1\", \"Topic1\", \"Topic1\", \"Topic1\", \"Topic1\", \"Topic1\", \"Topic1\", \"Topic1\", \"Topic1\", \"Topic1\", \"Topic1\", \"Topic1\", \"Topic1\", \"Topic1\", \"Topic1\", \"Topic1\", \"Topic1\", \"Topic1\", \"Topic1\", \"Topic1\", \"Topic1\", \"Topic1\", \"Topic1\", \"Topic1\", \"Topic1\", \"Topic1\", \"Topic1\", \"Topic1\", \"Topic1\", \"Topic1\", \"Topic1\", \"Topic1\", \"Topic1\", \"Topic1\", \"Topic1\", \"Topic1\", \"Topic1\", \"Topic1\", \"Topic1\", \"Topic1\", \"Topic1\", \"Topic1\", \"Topic1\", \"Topic1\", \"Topic1\", \"Topic1\", \"Topic1\", \"Topic1\", \"Topic2\", \"Topic2\", \"Topic2\", \"Topic2\", \"Topic2\", \"Topic2\", \"Topic2\", \"Topic2\", \"Topic2\", \"Topic2\", \"Topic2\", \"Topic2\", \"Topic2\", \"Topic2\", \"Topic2\", \"Topic2\", \"Topic2\", \"Topic2\", \"Topic2\", \"Topic2\", \"Topic2\", \"Topic2\", \"Topic2\", \"Topic2\", \"Topic2\", \"Topic2\", \"Topic2\", \"Topic2\", \"Topic2\", \"Topic2\", \"Topic2\", \"Topic2\", \"Topic2\", \"Topic2\", \"Topic2\", \"Topic2\", \"Topic2\", \"Topic2\", \"Topic2\", \"Topic2\", \"Topic2\", \"Topic2\", \"Topic2\", \"Topic2\", \"Topic2\", \"Topic2\", \"Topic2\", \"Topic2\", \"Topic2\", \"Topic2\", \"Topic2\", \"Topic2\", \"Topic2\", \"Topic2\", \"Topic2\", \"Topic2\", \"Topic2\", \"Topic2\", \"Topic2\", \"Topic2\", \"Topic2\", \"Topic2\", \"Topic2\", \"Topic2\", \"Topic2\", \"Topic2\", \"Topic2\", \"Topic2\", \"Topic2\", \"Topic2\", \"Topic2\", \"Topic2\", \"Topic2\", \"Topic2\", \"Topic2\", \"Topic2\", \"Topic2\", \"Topic2\", \"Topic2\", \"Topic2\", \"Topic2\", \"Topic2\", \"Topic2\", \"Topic2\", \"Topic2\", \"Topic2\", \"Topic2\", \"Topic2\", \"Topic2\", \"Topic2\", \"Topic2\", \"Topic3\", \"Topic3\", \"Topic3\", \"Topic3\", \"Topic3\", \"Topic3\", \"Topic3\", \"Topic3\", \"Topic3\", \"Topic3\", \"Topic3\", \"Topic3\", \"Topic3\", \"Topic3\", \"Topic3\", \"Topic3\", \"Topic3\", \"Topic3\", \"Topic3\", \"Topic3\", \"Topic3\", \"Topic3\", \"Topic3\", \"Topic3\", \"Topic3\", \"Topic3\", \"Topic3\", \"Topic3\", \"Topic3\", \"Topic3\", \"Topic3\", \"Topic3\", \"Topic3\", \"Topic3\", \"Topic3\", \"Topic3\", \"Topic3\", \"Topic3\", \"Topic3\", \"Topic3\", \"Topic3\", \"Topic3\", \"Topic3\", \"Topic3\", \"Topic3\", \"Topic3\", \"Topic3\", \"Topic3\", \"Topic3\", \"Topic3\", \"Topic3\", \"Topic3\", \"Topic3\", \"Topic3\", \"Topic3\", \"Topic3\", \"Topic3\", \"Topic3\", \"Topic3\", \"Topic3\", \"Topic4\", \"Topic4\", \"Topic4\", \"Topic4\", \"Topic4\", \"Topic4\", \"Topic4\", \"Topic4\", \"Topic4\", \"Topic4\", \"Topic4\", \"Topic4\", \"Topic4\", \"Topic4\", \"Topic4\", \"Topic4\", \"Topic4\", \"Topic4\", \"Topic4\", \"Topic4\", \"Topic4\", \"Topic4\", \"Topic4\", \"Topic4\", \"Topic4\", \"Topic4\", \"Topic4\", \"Topic4\", \"Topic4\", \"Topic4\", \"Topic4\", \"Topic4\", \"Topic4\", \"Topic4\", \"Topic4\", \"Topic4\", \"Topic4\", \"Topic4\", \"Topic4\", \"Topic4\", \"Topic4\", \"Topic4\", \"Topic4\", \"Topic4\", \"Topic4\", \"Topic4\", \"Topic4\", \"Topic4\", \"Topic4\", \"Topic4\", \"Topic4\", \"Topic4\", \"Topic4\", \"Topic4\", \"Topic4\", \"Topic4\", \"Topic4\", \"Topic4\", \"Topic4\", \"Topic4\", \"Topic4\", \"Topic4\", \"Topic4\", \"Topic4\", \"Topic4\", \"Topic4\", \"Topic4\", \"Topic4\", \"Topic4\", \"Topic4\", \"Topic4\", \"Topic4\", \"Topic4\", \"Topic4\", \"Topic4\", \"Topic4\", \"Topic4\", \"Topic4\"], \"logprob\": [30.0, 29.0, 28.0, 27.0, 26.0, 25.0, 24.0, 23.0, 22.0, 21.0, 20.0, 19.0, 18.0, 17.0, 16.0, 15.0, 14.0, 13.0, 12.0, 11.0, 10.0, 9.0, 8.0, 7.0, 6.0, 5.0, 4.0, 3.0, 2.0, 1.0, -9.4755, -9.5399, -9.6275, -9.7343, -10.3385, -9.8992, -10.5108, -10.1756, -10.3539, -10.5485, -10.5554, -9.713, -10.1882, -10.1082, -10.7861, -10.7863, -10.7876, -10.5708, -10.7025, -10.5385, -10.5988, -9.4468, -10.1856, -9.138, -10.1555, -10.8297, -9.3455, -10.6125, -10.9045, -10.4502, -5.9964, -9.814, -8.6296, -10.0132, -7.5574, -5.7239, -9.61, -9.4642, -6.6341, -5.992, -6.9043, -5.7278, -8.1257, -8.2352, -6.4462, -5.622, -8.0118, -8.6979, -6.1176, -6.6065, -6.1002, -6.9051, -6.1561, -7.9352, -6.3121, -7.0532, -6.3055, -6.3642, -6.2895, -6.3968, -6.5516, -6.3056, -4.7696, -6.5394, -6.5719, -5.618, -6.033, -5.4682, -6.593, -6.4192, -4.8388, -5.6185, -6.3823, -5.9765, -5.4113, -5.381, -5.3822, -5.4779, -5.6686, -5.826, -5.4334, -5.706, -5.8031, -5.6623, -5.6555, -5.9408, -5.8135, -6.0511, -5.9848, -5.9725, -6.0005, -5.526, -10.1265, -10.1892, -10.2227, -10.0771, -10.294, -9.9627, -10.37, -10.2611, -10.3588, -10.2878, -10.1989, -10.4593, -10.4775, -10.4959, -10.488, -10.4887, -9.8855, -10.1376, -10.4, -10.6816, -10.1953, -10.5575, -5.014, -10.7096, -10.1961, -10.64, -10.6838, -9.9564, -9.6998, -9.5678, -9.8526, -5.9913, -8.0656, -9.7882, -6.2502, -8.6937, -9.0026, -9.046, -6.1605, -4.7837, -6.2736, -9.4066, -4.9744, -6.4855, -6.4784, -8.6689, -6.2703, -6.8288, -6.1269, -7.6359, -8.5492, -6.5426, -6.3345, -6.4946, -6.1655, -5.6414, -6.6587, -5.2614, -6.683, -6.2145, -5.907, -6.33, -6.5897, -4.9822, -6.8359, -6.0985, -6.456, -6.0459, -4.8756, -5.7711, -5.9112, -6.0114, -5.8125, -5.3516, -5.9245, -5.9514, -5.3896, -5.6771, -5.6264, -5.7902, -5.8481, -5.9298, -5.9335, -5.8094, -5.7691, -5.5808, -5.7175, -5.9045, -6.0005, -5.9896, -6.0337, -6.0889, -6.0368, -6.088, -5.4024, -6.1035, -6.1317, -6.0572, -6.0647, -6.1027, -6.1048, -5.4022, -6.1157, -3.8077, -6.0897, -4.3144, -5.9936, -6.1388, -6.1459, -6.0772, -6.2373, -5.451, -6.1183, -6.0386, -6.1444, -6.1461, -6.2165, -6.0395, -4.7305, -6.2011, -4.858, -5.9894, -4.9179, -5.0183, -5.4308, -5.4822, -4.6813, -5.6401, -5.2438, -5.4397, -5.4948, -5.0509, -5.9859, -5.0161, -5.3078, -5.3747, -5.0263, -5.1917, -5.7146, -4.9841, -5.795, -5.2563, -5.5695, -5.2976, -5.1639, -5.6191, -5.2892, -5.5273, -5.4982, -5.6138, -5.2798, -10.1518, -6.0021, -10.3044, -10.2867, -6.0034, -10.1781, -10.2497, -10.5081, -5.9536, -10.7117, -6.0371, -10.7932, -10.8579, -10.6976, -10.8732, -10.5998, -9.8658, -10.9921, -10.8263, -6.0914, -11.0069, -11.1283, -11.393, -10.6189, -10.7596, -9.6127, -10.7658, -11.1404, -10.6323, -6.0837, -10.2019, -6.1045, -6.0589, -6.4004, -5.47, -6.4954, -6.1547, -6.1452, -6.1146, -4.6342, -6.0244, -4.8119, -6.3209, -6.0565, -6.1959, -4.5508, -5.9188, -5.5896, -5.9242, -5.9428, -6.1935, -6.2397, -5.3756, -4.8611, -4.806, -4.9204, -4.6193, -5.2598, -5.0315, -5.2037, -4.8889, -5.3807, -4.9962, -5.3347, -5.7002, -5.375, -5.4393, -5.5367, -5.3324, -5.6264, -5.4353, -5.6913, -5.5482, -5.7037, -5.653, -5.7374, -5.6827], \"loglift\": [30.0, 29.0, 28.0, 27.0, 26.0, 25.0, 24.0, 23.0, 22.0, 21.0, 20.0, 19.0, 18.0, 17.0, 16.0, 15.0, 14.0, 13.0, 12.0, 11.0, 10.0, 9.0, 8.0, 7.0, 6.0, 5.0, 4.0, 3.0, 2.0, 1.0, 0.8361, 0.8331, 0.8322, 0.8288, 0.8126, 0.8116, 0.8111, 0.8093, 0.8045, 0.8044, 0.8039, 0.8023, 0.8021, 0.7991, 0.7989, 0.7989, 0.7977, 0.7972, 0.7972, 0.7962, 0.7954, 0.7949, 0.7938, 0.7936, 0.7919, 0.7914, 0.7913, 0.7902, 0.7898, 0.7888, 0.7563, 0.7886, 0.7757, 0.7864, 0.7518, 0.7139, 0.7795, 0.7765, 0.7117, 0.6756, 0.7013, 0.6635, 0.7372, 0.7362, 0.6753, 0.6263, 0.7227, 0.7458, 0.6376, 0.6569, 0.6291, 0.6522, 0.6068, 0.7003, 0.5999, 0.6375, 0.5763, 0.5774, 0.555, 0.5442, 0.5546, 0.5288, 0.3752, 0.5497, 0.5509, 0.4464, 0.4924, 0.3886, 0.5249, 0.4941, 0.2238, 0.3289, 0.4691, 0.3611, 0.1856, 0.1165, 0.0658, 0.0766, 0.1316, 0.173, -0.1125, 0.0432, 0.0966, -0.0143, -0.0222, 0.1823, -0.0774, 0.1967, 0.0119, -0.1042, -0.1348, 1.1144, 1.1095, 1.1069, 1.1002, 1.0985, 1.0979, 1.0936, 1.0923, 1.0918, 1.0908, 1.0899, 1.0884, 1.0845, 1.0845, 1.0831, 1.0828, 1.0818, 1.0811, 1.0801, 1.08, 1.079, 1.0789, 1.0767, 1.0747, 1.074, 1.0738, 1.0729, 1.0721, 1.0721, 1.0719, 1.0693, 1.0716, 1.0265, 1.0322, 1.0638, 0.9721, 1.0401, 1.0452, 1.0462, 0.9402, 0.8626, 0.924, 1.049, 0.861, 0.9071, 0.8969, 1.009, 0.8696, 0.8997, 0.8465, 0.9385, 0.996, 0.8672, 0.8439, 0.8507, 0.8162, 0.7681, 0.8441, 0.7305, 0.8256, 0.7697, 0.7292, 0.7511, 0.7795, 0.5873, 0.7914, 0.6994, 0.7441, 0.6654, 0.4452, 0.6014, 0.6282, 0.623, 0.5154, 0.2964, 0.5124, 0.5201, 0.1649, 0.3471, 0.3144, 0.3538, 0.3941, 0.4465, 0.4192, 0.1873, -0.0331, -0.5183, -0.22, -0.1043, -0.3672, -0.8449, 1.6074, 1.5885, 1.5835, 1.5805, 1.5795, 1.5773, 1.5742, 1.5702, 1.5692, 1.5689, 1.5645, 1.562, 1.5546, 1.5531, 1.5427, 1.5419, 1.5417, 1.5402, 1.5331, 1.5329, 1.5214, 1.5214, 1.5197, 1.5189, 1.5178, 1.5142, 1.5104, 1.5085, 1.507, 1.5059, 1.4688, 1.491, 1.3938, 1.3265, 1.3977, 1.4046, 1.2526, 1.3747, 1.2273, 1.2403, 1.2263, 0.949, 1.483, 0.8496, 1.0362, 1.071, 0.7229, 0.8539, 1.2663, 0.4639, 1.2342, 0.377, 0.7849, 0.2994, -0.1014, 0.727, -0.1445, 0.4135, 0.2378, 0.5516, 2.4838, 2.3354, 2.2737, 2.2606, 2.1695, 2.1542, 2.1187, 2.1173, 2.1076, 2.1009, 2.0921, 2.0904, 2.075, 2.0318, 2.0113, 2.003, 1.9959, 1.9739, 1.9719, 1.9686, 1.9492, 1.9462, 1.9295, 1.9255, 1.9252, 1.9226, 1.9224, 1.9081, 1.8912, 1.8891, 1.8781, 1.8859, 1.6924, 1.6606, 1.6718, 1.5141, 1.5065, 1.471, 1.4489, 1.4185, 1.2341, 1.3872, 1.1801, 1.3744, 1.32, 1.3127, 1.0187, 1.2429, 1.1615, 1.1551, 1.1382, 1.1885, 1.177, 0.9524, 0.7853, 0.6915, 0.6342, 0.4432, 0.7645, 0.6165, 0.696, 0.4319, 0.6183, 0.1485, 0.5007, 0.7755, 0.2583, 0.3608, 0.4632, 0.0284, 0.5402, 0.0128, 0.6812, 0.0487, 0.6876, 0.2944, 0.6721, 0.2512]}, \"token.table\": {\"Topic\": [1, 2, 3, 4, 1, 2, 3, 4, 1, 1, 2, 3, 4, 1, 2, 3, 4, 1, 2, 3, 4, 1, 2, 3, 4, 1, 2, 3, 4, 1, 2, 3, 4, 1, 2, 3, 4, 1, 2, 3, 4, 1, 2, 3, 4, 1, 2, 1, 4, 1, 2, 3, 4, 1, 2, 3, 4, 1, 2, 4, 1, 1, 2, 1, 2, 4, 1, 2, 3, 4, 1, 2, 1, 2, 4, 1, 2, 3, 4, 1, 2, 3, 4, 1, 2, 3, 4, 1, 2, 3, 4, 1, 2, 3, 4, 1, 2, 4, 1, 2, 3, 4, 1, 2, 3, 4, 1, 2, 1, 1, 2, 3, 4, 1, 2, 3, 4, 1, 2, 1, 2, 1, 2, 1, 2, 3, 4, 1, 2, 3, 4, 1, 2, 3, 4, 1, 3, 1, 2, 3, 4, 1, 2, 1, 2, 3, 4, 1, 2, 3, 4, 1, 2, 3, 4, 1, 2, 3, 4, 1, 2, 3, 4, 1, 2, 3, 4, 1, 2, 3, 4, 1, 2, 3, 4, 1, 2, 3, 4, 1, 2, 3, 4, 1, 2, 3, 4, 1, 2, 4, 1, 2, 3, 4, 1, 2, 3, 4, 1, 2, 3, 4, 1, 2, 1, 2, 3, 4, 1, 2, 1, 2, 1, 2, 3, 4, 1, 2, 3, 1, 2, 4, 1, 2, 3, 4, 1, 2, 3, 4, 1, 2, 3, 4, 1, 1, 2, 3, 4, 1, 2, 3, 4, 1, 2, 3, 4, 1, 2, 3, 4, 1, 1, 2, 3, 4, 1, 2, 3, 4, 1, 2, 3, 4, 1, 2, 3, 4, 1, 2, 3, 4, 1, 2, 3, 4, 1, 2, 3, 4, 1, 2, 3, 4, 1, 2, 3, 4, 1, 2, 3, 4, 1, 1, 2, 3, 4, 1, 2, 3, 4, 1, 2, 3, 4, 1, 2, 3, 1, 2, 3, 4, 1, 2, 3, 4, 1, 2, 1, 2, 3, 4, 1, 2, 3, 4, 1, 2, 1, 2, 3, 4, 1, 2, 3, 4, 1, 2, 1, 2, 3, 4, 1, 2, 3, 4, 1, 2, 3, 4, 1, 2, 3, 4, 1, 2, 3, 4, 1, 2, 1, 2, 3, 4, 1, 2, 1, 2, 1, 2, 4, 1, 2, 1, 2, 3, 4, 1, 2, 4, 1, 2, 3, 4, 1, 2, 1, 2, 1, 2, 3, 4, 1, 2, 1, 2, 3, 4, 1, 2, 3, 4, 1, 2, 4, 1, 2, 3, 4, 1, 2, 3, 4, 1, 2, 3, 4, 1, 2, 1, 2, 3, 4, 1, 2, 3, 4, 1, 2, 3, 4, 1, 2, 1, 2, 3, 4, 1, 2, 3, 4, 1, 2, 1, 2, 3, 4, 1, 2, 1, 2, 3, 4, 1, 2, 4, 1, 2, 3, 4, 1, 2, 1, 2, 3, 4, 1, 2, 3, 4, 1, 2, 3, 4, 1, 2, 3, 4, 1, 2, 1, 2, 3, 4, 1, 2, 3, 4, 1, 2, 3, 4, 1, 2, 4, 1, 2, 3, 4, 1, 1, 2, 3, 4, 1, 2, 3, 4, 1, 2, 1, 2, 3, 4, 1, 2, 3, 4, 1, 2, 3, 4, 1, 2, 3, 4, 1, 2, 3, 4, 1, 2, 3, 4, 1, 2, 3, 4, 1, 2, 3, 4, 1, 2, 3, 4, 1, 2, 3, 4, 1, 2, 3, 4, 1, 2, 3, 4, 1, 2, 3, 4, 1, 2, 1, 2, 3, 4, 1, 2, 3, 4, 1, 2, 1, 2, 3, 4, 1, 2, 3, 4, 1, 2, 3, 4, 1, 2, 3, 4, 1, 2, 3, 4, 1, 2, 3, 4, 1, 2, 3, 4, 1, 2, 3, 4, 1, 2, 1, 2, 3, 4, 1, 2, 3, 4, 1, 2, 3, 4, 1, 2, 1, 1, 2, 3, 4, 1, 2, 3, 4, 1, 2, 3, 4, 1, 2, 3, 4, 1, 2, 3, 4, 1, 2, 3, 4, 1, 2, 3, 4, 1, 2, 3, 4, 1, 2, 3, 4, 1, 2, 3, 4, 1, 3, 4, 1, 2, 3, 4, 1, 2, 3, 4, 1, 2, 3, 4, 1, 2, 3, 4, 1, 2, 4, 1, 2, 3, 1, 2, 1, 2, 3, 4, 1, 1, 1, 2, 3, 4, 1, 2, 3, 4, 1, 2, 3, 4, 1, 2, 3, 4, 1, 2, 3, 4, 1, 1, 2, 3, 4, 1, 2, 3, 4, 1, 2, 3, 4, 1, 2, 1, 2, 3, 4, 1, 2, 4, 1, 2, 3, 4, 1, 2, 1, 2, 4, 1, 2, 3, 4, 1, 2, 3, 4, 1, 3, 4, 1, 2, 3, 4, 1, 1, 2, 3, 1, 2, 3, 4, 1, 2, 4, 1, 2, 3, 4, 1, 2, 3, 4, 1, 2, 3, 4, 1, 2, 3, 4, 1, 2, 3, 4, 1, 2, 3, 4, 1, 2, 3, 4, 1, 2, 4, 1, 2, 1, 2, 1, 2, 3, 4, 1, 2, 3, 4, 1, 2, 3, 4, 1, 2, 1, 2, 4, 1, 2, 3, 4, 1, 2, 3, 4, 1, 2, 3, 4, 1, 4, 1, 2, 3, 4, 1, 2, 3, 4, 1, 2, 1, 2, 3, 4, 1, 1, 2, 3, 4, 1, 2, 1, 1, 2, 1, 2, 3, 4, 1, 2, 3, 4, 1, 2, 3, 4, 1, 2, 3, 4, 1, 2, 3, 4, 1, 2, 4, 1, 2, 3, 4, 1, 2, 3, 4, 1, 2, 1, 2, 3, 4, 1, 2, 1, 2, 3, 4, 1, 2, 3, 4, 1, 2, 3, 4, 1, 2, 3, 4, 1, 2, 3, 1, 3, 4, 1, 2], \"Freq\": [0.07692870363789667, 0.30771481455158667, 0.15385740727579333, 0.46157222182738, 0.8789772127556008, 0.11220985694752351, 0.0046754107061468125, 0.0046754107061468125, 0.9762642592148586, 0.03602901645648974, 0.8646963949557537, 0.012009672152163246, 0.07205803291297948, 0.11998107257446451, 0.1276941415256801, 0.7070313205280945, 0.04542140604604728, 0.4403669723406676, 0.36111526152040085, 0.07853450076759463, 0.1197740787962402, 0.049352408742806136, 0.7535733181113091, 0.02847254350546508, 0.16893709146575947, 0.7396088587793909, 0.0009019620229016962, 0.1695688603055189, 0.09019620229016963, 0.5138235354497002, 0.15984719539453757, 0.25315900996495294, 0.07322948926069552, 0.03679877498796984, 0.02239925434050338, 0.8559715051549506, 0.08479717714619137, 0.24416120505508507, 0.591921727393671, 0.06767794596409607, 0.0963109231027521, 0.01534258571700638, 0.027616654290611484, 0.9144181087335802, 0.0444934985793185, 0.09863310477671997, 0.8876979429904797, 0.4577079361602852, 0.4577079361602852, 0.023620263013041314, 0.7521189012047366, 0.00497268695011396, 0.21879822580501426, 0.39492790240329867, 0.3056378276568622, 0.23802915487235415, 0.06131407221491591, 0.34354949853925426, 0.34354949853925426, 0.34354949853925426, 0.9704678524060996, 0.08037739989638579, 0.9645287987566293, 0.24880750828032938, 0.24880750828032938, 0.49761501656065876, 0.08421208994907467, 0.02569182405226007, 0.8478301937245822, 0.041392383195307886, 0.059008601430570386, 0.9441376228891262, 0.3210944615973482, 0.3210944615973482, 0.6421889231946964, 0.7775689890652387, 0.004533929965394978, 0.15717623880035925, 0.0604523995385997, 0.7595633659889502, 0.043990156331406384, 0.10777588301194564, 0.08798031266281277, 0.3844946451249904, 0.26475582830405914, 0.11122405651366504, 0.23947763364186253, 0.11577000306827988, 0.09096214526793418, 0.5176572994338801, 0.27619415017718196, 0.8930278312874966, 0.09036591149933001, 0.005315641852901766, 0.010631283705803532, 0.043570242102742004, 0.9149750841575821, 0.043570242102742004, 0.04380160364266302, 0.8085046005708216, 0.00730026727377717, 0.13961761161098837, 0.10767459459466025, 0.736847785397787, 0.022499169019779754, 0.13338793061726567, 0.0797248555278555, 0.956698266334266, 0.9323286338183785, 0.06723678385050788, 0.8875255468267039, 0.02689471354020315, 0.013447356770101575, 0.046106488112936383, 0.044665660359407125, 0.857292513349911, 0.0533106268805827, 0.9446244756320711, 0.03373658841543111, 0.07153363966503905, 0.9299373156455076, 0.9434297289797213, 0.027747933205285923, 0.012532893437533783, 0.009399670078150337, 0.9368337844556504, 0.040731903671984794, 0.2948148133807538, 0.5890571708131955, 0.04178928422678647, 0.07441927328057864, 0.445483311789197, 0.1377077257545609, 0.38666817677567095, 0.030234286272013366, 0.9386017493683853, 0.030277475786076945, 0.03117698015052133, 0.0469579207205383, 0.8467821769277398, 0.07505569295495876, 0.07902554850323047, 0.9483065820387656, 0.018777157531453707, 0.025605214815618692, 0.8500931318785405, 0.10583488790455725, 0.7983711166381844, 0.010115813368709939, 0.10777231935125588, 0.08364999516433218, 0.4867043281483148, 0.2846151459294282, 0.128511816982982, 0.09992601630011366, 0.5337363098435413, 0.18817473908292334, 0.16951179907280398, 0.10853034540916552, 0.3695888001341722, 0.2385137024121693, 0.3258971008935046, 0.06661193490790314, 0.871374344807036, 0.10345512998248674, 0.0009405011816589704, 0.024453030723133228, 0.4608201280723416, 0.37254487990996055, 0.0351934359413898, 0.13144067788054975, 0.013534713905937041, 0.022292469962719833, 0.8948834370748961, 0.07006204845426234, 0.349317628957177, 0.26054077297910994, 0.1679040536976486, 0.22258545049573342, 0.021152545998200347, 0.022779664921138837, 0.8688815048491527, 0.08623730291573987, 0.27330751249403257, 0.26429737471950404, 0.38829403266420637, 0.07465542727466509, 0.24025840457375602, 0.24025840457375602, 0.48051680914751205, 0.8698601247586957, 0.11193910452658817, 0.009328258710549014, 0.009328258710549014, 0.9044666634234688, 0.0794463961115209, 0.009166891859021644, 0.006111261239347763, 0.24831477485323986, 0.5118142661543397, 0.01786437229159999, 0.22151821641583985, 0.9763790932338016, 0.0650919395489201, 0.7243709375151437, 0.04964318201117297, 0.14053914907388407, 0.08530236908962117, 0.06004491976226916, 0.9607187161963066, 0.9267452773380163, 0.04413072749228649, 0.002303566720047723, 0.9628908889799483, 0.0005758916800119308, 0.03455350080071585, 0.038851773465814345, 0.9324425631795442, 0.038851773465814345, 0.21547503570989007, 0.21547503570989007, 0.6464251071296702, 0.16098191893072153, 0.7353326635903297, 0.08731222721666253, 0.016371042603124223, 0.15142954388056318, 0.6968849417360611, 0.12670635304292022, 0.02317799141029028, 0.3877340328236263, 0.014014483114106975, 0.10744437054148681, 0.4905069089937441, 0.9652568337790557, 0.03341211594617447, 0.03341211594617447, 0.8687150146005362, 0.062268034263325146, 0.1896150486581023, 0.11376902919486138, 0.6403154335454377, 0.05639832216497402, 0.23601395286743565, 0.44117640862801694, 0.020053473119455316, 0.3038872465025152, 0.8066278134803091, 0.14980230821777168, 0.021400329745395956, 0.019754150534211652, 0.9710978039331251, 0.189177554726849, 0.4802863946489865, 0.28678971766809985, 0.04405504699118401, 0.10861452122076815, 0.07420610419281487, 0.7561560561323706, 0.060940208471194336, 0.22218390992104417, 0.22218390992104417, 0.22218390992104417, 0.44436781984208834, 0.8235501679919024, 0.16320681295276293, 0.007516103228087766, 0.0064423741955038, 0.8385455781650651, 0.1406893136699165, 0.007453738472578356, 0.013044042327012124, 0.026772540721048444, 0.018406121745720806, 0.846681600303157, 0.1087634466792593, 0.47827755449956144, 0.127042475413946, 0.09864474561553455, 0.2974288542044148, 0.015729835216852416, 0.02696543180031843, 0.6426761245742559, 0.31459670433704834, 0.8595820332317706, 0.11856303906645112, 0.012703182757119761, 0.008468788504746508, 0.017766493543057912, 0.012921086213133027, 0.9012457633660286, 0.06945083839559002, 0.967940434386445, 0.7604726288329945, 0.01868100623540621, 0.14322104780478093, 0.0778375259808592, 0.9091339016621957, 0.0006443188530561273, 0.024484116416132837, 0.06507620415866885, 0.0716111551457258, 0.7485070740231816, 0.027067311617580886, 0.15281308999846846, 0.036346010347971816, 0.8904772535253095, 0.054519015521957724, 0.06771841034507893, 0.8086374882382955, 0.05576810263712383, 0.06771841034507893, 0.006004675037839554, 0.7746030798813025, 0.004803740030271643, 0.21376643134708812, 0.06411380281208855, 0.9617070421813282, 0.01545216030570678, 0.02935910458084288, 0.9024061618532759, 0.05408256106997373, 0.0758928397162103, 0.059682718611777034, 0.7640861629680591, 0.1002080213728602, 0.06267813412930398, 0.9088329448749077, 0.0073229185901665834, 0.6132944319264514, 0.0018307296475416459, 0.37896103704112066, 0.3101485223494787, 0.4687032532263943, 0.10712112305586734, 0.11446878131601708, 0.9026222959433576, 0.09501287325719554, 0.8005999846567797, 0.18567373857999217, 0.004405817525626933, 0.010070440058575846, 0.8197481712795414, 0.14839026650578693, 0.01152545759268248, 0.02016955078719434, 0.007961167383295224, 0.9254857083080696, 0.005307444922196815, 0.061367331912900676, 0.34027405249007586, 0.12581561604675073, 0.44067237236576584, 0.09309084722651002, 0.06742412969532013, 0.08619167095071853, 0.7590427796627793, 0.08688676507128884, 0.06572593159110475, 0.9201630422754664, 0.7407319130252289, 0.007463293834007344, 0.14460131803389228, 0.10821776059310649, 0.07062883561559986, 0.9181748630027983, 0.04765607877310714, 0.9531215754621428, 0.1647745100973875, 0.329549020194775, 0.65909804038955, 0.05600383771913646, 0.9520652412253199, 0.6939659805779432, 0.05682299840969222, 0.02055299942478229, 0.22850099360493253, 0.3526965510544675, 0.3526965510544675, 0.3526965510544675, 0.008121719369623883, 0.009746063243548658, 0.9193786326414235, 0.06334941108306628, 0.9440813230308885, 0.04643022900151911, 0.06057448022205021, 0.9691916835528034, 0.25179656667211503, 0.2565556083102478, 0.41144078162402303, 0.08047106769933574, 0.9355215516590735, 0.0668229679756481, 0.7830883834722112, 0.022783120051144964, 0.15557616263496132, 0.039056777230534225, 0.01646560311283804, 0.7217422697794008, 0.0027442671854730066, 0.2593332490271991, 0.3129716285041824, 0.10432387616806081, 0.521619380840304, 0.028932474299863786, 0.014466237149931893, 0.5858826045722417, 0.37130008684825194, 0.0036655571799457942, 0.7832073841150847, 0.0024437047866305295, 0.2113804640435408, 0.4273868230644427, 0.3521667422051008, 0.06887033377381305, 0.15141704588568827, 0.06666336665526562, 0.9332871331737186, 0.12196331767435896, 0.665254460041958, 0.022175148668065265, 0.1905046862847425, 0.007048377677581357, 0.01762094419395339, 0.8599020766649256, 0.11806032609948773, 0.8385233823444678, 0.008284634687948165, 0.12426952031922248, 0.028996221407818577, 0.9154172483983443, 0.057213578024896516, 0.21143883626519736, 0.6145327580339361, 0.06182422113017466, 0.11252008245691789, 0.03748212080677875, 0.02811159060508406, 0.8574035134550639, 0.07652599664717329, 0.9501097777842287, 0.05278387654356826, 0.9235229167963166, 0.04571895627704538, 0.018287582510818152, 0.009143791255409076, 0.0775999003562484, 0.9311988042749808, 0.8887465169021813, 0.09479962846956601, 0.0059249767793478755, 0.0059249767793478755, 0.19324111745897898, 0.19324111745897898, 0.579723352376937, 0.9297304229173056, 0.024466590076771197, 0.024466590076771197, 0.024466590076771197, 0.9500890428986543, 0.03800356171594617, 0.03421781649022725, 0.010887487065072306, 0.9005507158109809, 0.054437435325361536, 0.02714808746240335, 0.03193892642635688, 0.8527693355837288, 0.08783204767248143, 0.09339928054466838, 0.6039820141888556, 0.02366115107131599, 0.2789525178934096, 0.07784490761682276, 0.6692872516940623, 0.03579076212267713, 0.21742887989526358, 0.05704154026740114, 0.9697061845458194, 0.4700718674757442, 0.1861616391054641, 0.20400899388696142, 0.13975851667357114, 0.6981197310117834, 0.28232783239447123, 0.008726496637647291, 0.010779789964152537, 0.11170953039010756, 0.6558041972766961, 0.005720973254479902, 0.22673120319070347, 0.29411341227889265, 0.29411341227889265, 0.5882268245577853, 0.10318854851655568, 0.30137126081452875, 0.4846826822968806, 0.11077594178983183, 0.9020724716981023, 0.4173606019785914, 0.21877773490813257, 0.2734721686351657, 0.09024581564960468, 0.507303136904345, 0.12978227291994004, 0.23348679941204165, 0.12917581370068798, 0.07970587114514165, 0.9564704537416997, 0.5196029454132205, 0.29013757281307073, 0.11317698885871794, 0.0770070233471689, 0.24734913110036252, 0.437468463240249, 0.07371974103383354, 0.24152915154505988, 0.47952207543936104, 0.2536269575571649, 0.1278235788991939, 0.13921016207699566, 0.512225403256848, 0.28323455609041526, 0.13389269924274178, 0.07072281036924309, 0.42077469050085453, 0.4248308645848303, 0.025190975889954764, 0.1291571221476494, 0.26830713124265826, 0.5762655626689607, 0.01762280008161959, 0.1378984106386733, 0.007559904641220968, 0.8819888748091129, 0.0016799788091602151, 0.10919862259541398, 0.03841691473791635, 0.2659632558778824, 0.01773088372519216, 0.6767287288448341, 0.009779251686012487, 0.01303900224801665, 0.9078405315181592, 0.06845476180208741, 0.9276307820691667, 0.04216503554859849, 0.021082517774299245, 0.021082517774299245, 0.37257563634274515, 0.4469041647950958, 0.030788804672731027, 0.14959005098569317, 0.01772477442523798, 0.0145020881661038, 0.8975181231688685, 0.07089909770095192, 0.8286882968517076, 0.03232153703863649, 0.0008978204732954579, 0.13871326312414825, 0.9444383433394077, 0.041062536666930764, 0.1262032050136739, 0.851871633842299, 0.010516933751139493, 0.010516933751139493, 0.07816768640553601, 0.33635792332079134, 0.016581024389053095, 0.5684922647675347, 0.059261900895721184, 0.9481904143315389, 0.7437097752795424, 0.1348989241010376, 0.04943939626739598, 0.07204026313249129, 0.35313698868570315, 0.5316511413684208, 0.019942997983627864, 0.09533725865344052, 0.18292652700515266, 0.7761555444891524, 0.03590146791689912, 0.0051287811309855885, 0.38139382115777254, 0.4931338995115025, 0.0181616105313225, 0.10727663169772698, 0.0310619351767428, 0.02950883841790566, 0.877499668742984, 0.06057077359464846, 0.6122410323945079, 0.012338422473551585, 0.33781749806896405, 0.03744073026457032, 0.2097939501555201, 0.568397531935934, 0.028814597105085545, 0.19301832855324427, 0.028884160124046637, 0.3676165833969572, 0.0026258327385496943, 0.6013156971278799, 0.9443634607353755, 0.06295756404902503, 0.24019027906485949, 0.15755797271990782, 0.5287611312746907, 0.07321307971495716, 0.07987787368361052, 0.5271939663118295, 0.30259618030732455, 0.09021501027796011, 0.3216838878754375, 0.17703408594487166, 0.0453379976200281, 0.45553892846790145, 0.9431710391347847, 0.052398391063043594, 0.9222339882513619, 0.8602176096183402, 0.1254798973608475, 0.012094447938394941, 0.0015118059922993676, 0.6991325930578198, 0.037075213268217715, 0.19672562142319605, 0.06658405648169713, 0.11576588689968854, 0.05423996099495897, 0.6654514617590489, 0.16433898629815927, 0.13485372035451476, 0.12736184700148617, 0.6393065261251071, 0.09864299914820988, 0.2735861129324083, 0.2735861129324083, 0.2735861129324083, 0.5471722258648166, 0.5929777243771085, 0.13506874829182317, 0.17826770829986896, 0.0935977466840992, 0.4357583016169514, 0.4501316647434961, 0.02033305027657537, 0.09395271507107239, 0.17204910940587884, 0.6549336098050454, 0.07111363188776325, 0.10208247158082144, 0.21686206988986761, 0.432579748909604, 0.2838089357925444, 0.066660768185144, 0.151435505212261, 0.10256701197303232, 0.6565993481154507, 0.08949753122300605, 0.39236665667801807, 0.04331320236056043, 0.5630716306872856, 0.022747710451356967, 0.018742831850765952, 0.8868403173148744, 0.071767424522591, 0.03523207821268996, 0.040869210726720354, 0.8765741059317262, 0.04650634324075075, 0.034963388668388884, 0.7400583934808981, 0.01515080175630185, 0.2097803320103333, 0.7213846676449635, 0.007427383965456509, 0.1661877162270894, 0.10491179851207319, 0.005152905717237092, 0.8347707261924089, 0.15870949609090243, 0.08692693184380945, 0.9040400911756183, 0.017385386368761892, 0.05370218995187995, 0.9666394191338391, 0.17917816478724455, 0.20477504547113662, 0.5474888368499139, 0.06873236479933983, 0.961726037761426, 0.9958293652394837, 0.36131187972227996, 0.4939845405750143, 0.021669867939279948, 0.12382781679588542, 0.1671593147013329, 0.09526283525989941, 0.6482665896302588, 0.08927146197311328, 0.04574774373383019, 0.5625278118382083, 0.025415413185461217, 0.36598194987064153, 0.028132131955708153, 0.022085038170836308, 0.8768285988064176, 0.07309095966062493, 0.024882472108588537, 0.032909076014584836, 0.8588466179416043, 0.08347668062236155, 0.9707431041688971, 0.7435085140519189, 0.0012516978351042405, 0.028789050207397533, 0.22655730815386754, 0.04354682405111183, 0.0720197474691465, 0.7419708867170208, 0.14236461709017328, 0.7350570422739601, 0.04278109769848445, 0.11978707355575646, 0.10189679633639023, 0.09638887979546666, 0.9638887979546666, 0.4558431997950723, 0.1753108624978748, 0.2983605606020661, 0.07061374720751887, 0.27116875659629247, 0.27116875659629247, 0.5423375131925849, 0.07298375170404983, 0.7347688516150962, 0.019725338298391844, 0.17259671011092864, 0.09190186481124452, 0.919018648112445, 0.19933263865224238, 0.19933263865224238, 0.7973305546089695, 0.03409043820461426, 0.11363479401538085, 0.8152244296584915, 0.037036525456864866, 0.1336994193240472, 0.2673988386480944, 0.1336994193240472, 0.40109825797214155, 0.2917747151670087, 0.2917747151670087, 0.5835494303340174, 0.00177083297030814, 0.16291663326834888, 0.00177083297030814, 0.8358331619854421, 0.9895128495149808, 0.05227546335827968, 0.9148206087698944, 0.02613773167913984, 0.20627823233044487, 0.20627823233044487, 0.20627823233044487, 0.41255646466088974, 0.22667451959866125, 0.22667451959866125, 0.6800235587959838, 0.041760357319460414, 0.9187278610281292, 0.041760357319460414, 0.041760357319460414, 0.05010952591020119, 0.0804389758032177, 0.8268071775183196, 0.04219749550332731, 0.9496619845846261, 0.021103599657436137, 0.021103599657436137, 0.021103599657436137, 0.6820274365594996, 0.22544598267920893, 0.007111860652340976, 0.08534232782809172, 0.0008121467148595131, 0.682203240481991, 0.0008121467148595131, 0.3167372187952101, 0.6210470447458716, 0.135773377197144, 0.1623601791958243, 0.08079290316103815, 0.6668990805819115, 0.16704850756323608, 0.09744496274522105, 0.0686323325647404, 0.21101216855447164, 0.42202433710894327, 0.42202433710894327, 0.09594097342606375, 0.9594097342606376, 0.062215897910143814, 0.9332384686521572, 0.3728747827929636, 0.11544521744835527, 0.43869182630375003, 0.07298260873171886, 0.007292672965356877, 0.015395642926864518, 0.9107738236734588, 0.06644435368436266, 0.17307026690933405, 0.6887003034943845, 0.11458445257445565, 0.023871760953011596, 0.08493948002480475, 0.9343342802728524, 0.17674517830596112, 0.17674517830596112, 0.5302355349178834, 0.8075037382756206, 0.12209456522727384, 0.0006460029906204966, 0.07041432597763413, 0.14501643181378782, 0.7145502394400048, 0.026734872904217867, 0.11342067292698489, 0.030679241336982202, 0.07869892342965, 0.8336750363310381, 0.05602296244144576, 0.317642067976303, 0.635284135952606, 0.25998684606417577, 0.5288225150900172, 0.030760194104837654, 0.18076881193116923, 0.02096837382453353, 0.01774247015922068, 0.8887364597936904, 0.07258283246953914, 0.07280229915345268, 0.9464298889948849, 0.43172907597557725, 0.3809018266666095, 0.1464308849139309, 0.04084332533756337, 0.9705668218781871, 0.19550838742618298, 0.6357393425616915, 0.04651751287036767, 0.12202420042806593, 0.9369304259668821, 0.04461573456985153, 0.9867117535861311, 0.9433781489738693, 0.06738415349813352, 0.6294501440017595, 0.1525620908988803, 0.14019930077431583, 0.07785927397598028, 0.019319630276538775, 0.008049845948557822, 0.9112425613767455, 0.06117882920903945, 0.10968376948226209, 0.7471884953932502, 0.028064626463771284, 0.1148332422279082, 0.1586348397801753, 0.6811697731194848, 0.023772367920948462, 0.13623395462389695, 0.011700073410062448, 0.006685756234321398, 0.9059199697505496, 0.07688619669469608, 0.29812365219580694, 0.29812365219580694, 0.5962473043916139, 0.06047087971364052, 0.6272095895879923, 0.025313391508035566, 0.2882914032859606, 0.22513164760703952, 0.07900846500926292, 0.644811020882049, 0.05097320323178253, 0.07170718169407021, 0.9321933620229128, 0.03810096270834894, 0.8890224631948085, 0.05080128361113191, 0.012700320902782978, 0.9217512067020606, 0.03687004826808243, 0.019101761806087802, 0.7962418605485021, 0.01809640592155687, 0.16688907683213555, 0.07213914076402356, 0.6203966105706026, 0.04689044149661531, 0.2609032257632185, 0.7432087461536939, 0.16974520745485602, 0.06606299965810612, 0.022020999886035373, 0.0016270858002458608, 0.047185488207129964, 0.8753721605322732, 0.0748459468113096, 0.04635242568682552, 0.9270485137365105, 0.04635242568682552, 0.2422352461733414, 0.2422352461733414, 0.4844704923466828, 0.940309921505125, 0.04274136006841477], \"Term\": [\"abc\", \"abc\", \"abc\", \"abc\", \"acrecion\", \"acrecion\", \"acrecion\", \"acrecion\", \"afl\", \"afm\", \"afm\", \"afm\", \"afm\", \"algoritmos\", \"algoritmos\", \"algoritmos\", \"algoritmos\", \"analisis\", \"analisis\", \"analisis\", \"analisis\", \"angulo\", \"angulo\", \"angulo\", \"angulo\", \"apoyandonos\", \"apoyandonos\", \"apoyandonos\", \"apoyandonos\", \"aprendizaje\", \"aprendizaje\", \"aprendizaje\", \"aprendizaje\", \"aprovechamos\", \"aprovechamos\", \"aprovechamos\", \"aprovechamos\", \"aqui\", \"aqui\", \"aqui\", \"aqui\", \"asegura\", \"asegura\", \"asegura\", \"asegura\", \"autoexpansores\", \"autoexpansores\", \"autoparalelas\", \"autoparalelas\", \"axial\", \"axial\", \"axial\", \"axial\", \"ayuda\", \"ayuda\", \"ayuda\", \"ayuda\", \"bdds\", \"bdds\", \"bdds\", \"bhar\", \"bimetrica\", \"bimetrica\", \"bogoliubov\", \"bogoliubov\", \"bogoliubov\", \"bordo\", \"bordo\", \"bordo\", \"bordo\", \"bosonicas\", \"bosonicas\", \"cacu\", \"cacu\", \"cacu\", \"candidatas\", \"candidatas\", \"candidatas\", \"candidatas\", \"candidatos\", \"candidatos\", \"candidatos\", \"candidatos\", \"carga\", \"carga\", \"carga\", \"carga\", \"carlo\", \"carlo\", \"carlo\", \"carlo\", \"catalogo\", \"catalogo\", \"catalogo\", \"catalogo\", \"cecoin\", \"cecoin\", \"cecoin\", \"cercana\", \"cercana\", \"cercana\", \"cercana\", \"cercano\", \"cercano\", \"cercano\", \"cercano\", \"checkerboard\", \"checkerboard\", \"chexnet\", \"chi\", \"chi\", \"chi\", \"chi\", \"cierta\", \"cierta\", \"cierta\", \"cierta\", \"circunestelares\", \"circunestelares\", \"cmc\", \"cmc\", \"cmm\", \"cmm\", \"compresiva\", \"compresiva\", \"compresiva\", \"compresiva\", \"condicion\", \"condicion\", \"condicion\", \"condicion\", \"conjunto\", \"conjunto\", \"conjunto\", \"conjunto\", \"consejos\", \"consejos\", \"contribucion\", \"contribucion\", \"contribucion\", \"contribucion\", \"cosecantes\", \"cosecantes\", \"creados\", \"creados\", \"creados\", \"creados\", \"criterios\", \"criterios\", \"criterios\", \"criterios\", \"cuenta\", \"cuenta\", \"cuenta\", \"cuenta\", \"datos\", \"datos\", \"datos\", \"datos\", \"debe\", \"debe\", \"debe\", \"debe\", \"delicada\", \"delicada\", \"delicada\", \"delicada\", \"densidad\", \"densidad\", \"densidad\", \"densidad\", \"desconocido\", \"desconocido\", \"desconocido\", \"desconocido\", \"descripcion\", \"descripcion\", \"descripcion\", \"descripcion\", \"determinan\", \"determinan\", \"determinan\", \"determinan\", \"detras\", \"detras\", \"detras\", \"detras\", \"dimero\", \"dimero\", \"dimero\", \"disco\", \"disco\", \"disco\", \"disco\", \"discos\", \"discos\", \"discos\", \"discos\", \"dispersion\", \"dispersion\", \"dispersion\", \"dispersion\", \"dispersiva\", \"dispersiva\", \"disponible\", \"disponible\", \"disponible\", \"disponible\", \"domo\", \"domo\", \"donantes\", \"donantes\", \"dramatico\", \"dramatico\", \"dramatico\", \"dramatico\", \"duplex\", \"duplex\", \"duplex\", \"eas\", \"eas\", \"eas\", \"ecuacion\", \"ecuacion\", \"ecuacion\", \"ecuacion\", \"ecuaciones\", \"ecuaciones\", \"ecuaciones\", \"ecuaciones\", \"educativos\", \"educativos\", \"educativos\", \"educativos\", \"eit\", \"ejecuta\", \"ejecuta\", \"ejecuta\", \"ejecuta\", \"ejemplo\", \"ejemplo\", \"ejemplo\", \"ejemplo\", \"emerge\", \"emerge\", \"emerge\", \"emerge\", \"emision\", \"emision\", \"emision\", \"emision\", \"emoji\", \"energia\", \"energia\", \"energia\", \"energia\", \"entorno\", \"entorno\", \"entorno\", \"entorno\", \"espinela\", \"espinela\", \"espinela\", \"espinela\", \"estelar\", \"estelar\", \"estelar\", \"estelar\", \"estrellas\", \"estrellas\", \"estrellas\", \"estrellas\", \"estructurado\", \"estructurado\", \"estructurado\", \"estructurado\", \"estudiantes\", \"estudiantes\", \"estudiantes\", \"estudiantes\", \"exactitud\", \"exactitud\", \"exactitud\", \"exactitud\", \"exoplanetas\", \"exoplanetas\", \"exoplanetas\", \"exoplanetas\", \"extensa\", \"extensa\", \"extensa\", \"extensa\", \"extragalacticos\", \"extraidas\", \"extraidas\", \"extraidas\", \"extraidas\", \"faltar\", \"faltar\", \"faltar\", \"faltar\", \"fase\", \"fase\", \"fase\", \"fase\", \"fd\", \"fd\", \"fd\", \"fermi\", \"fermi\", \"fermi\", \"fermi\", \"ferromagnetico\", \"ferromagnetico\", \"ferromagnetico\", \"ferromagnetico\", \"ff\", \"ff\", \"formales\", \"formales\", \"formales\", \"formales\", \"formulacion\", \"formulacion\", \"formulacion\", \"formulacion\", \"frb\", \"frb\", \"frustrados\", \"frustrados\", \"frustrados\", \"frustrados\", \"funcion\", \"funcion\", \"funcion\", \"funcion\", \"fusiones\", \"fusiones\", \"galaxias\", \"galaxias\", \"galaxias\", \"galaxias\", \"gas\", \"gas\", \"gas\", \"gas\", \"ge\", \"ge\", \"ge\", \"ge\", \"general\", \"general\", \"general\", \"general\", \"geometria\", \"geometria\", \"geometria\", \"geometria\", \"gerbes\", \"gerbes\", \"gratuitamente\", \"gratuitamente\", \"gratuitamente\", \"gratuitamente\", \"gravitinos\", \"gravitinos\", \"hawking\", \"hawking\", \"hbar\", \"hbar\", \"hbar\", \"hexaferrita\", \"hexaferrita\", \"higgs\", \"higgs\", \"higgs\", \"higgs\", \"hin\", \"hin\", \"hin\", \"hombre\", \"hombre\", \"hombre\", \"hombre\", \"hsc\", \"hsc\", \"idbvp\", \"idbvp\", \"idea\", \"idea\", \"idea\", \"idea\", \"idealizados\", \"idealizados\", \"idiomas\", \"idiomas\", \"idiomas\", \"idiomas\", \"imanes\", \"imanes\", \"imanes\", \"imanes\", \"imputacion\", \"imputacion\", \"imputacion\", \"incompletos\", \"incompletos\", \"incompletos\", \"incompletos\", \"inconmensurable\", \"inconmensurable\", \"inconmensurable\", \"inconmensurable\", \"indican\", \"indican\", \"indican\", \"indican\", \"informal\", \"informal\", \"informamos\", \"informamos\", \"informamos\", \"informamos\", \"ing\", \"ing\", \"ing\", \"ing\", \"integrado\", \"integrado\", \"integrado\", \"integrado\", \"intel\", \"intel\", \"interaccion\", \"interaccion\", \"interaccion\", \"interaccion\", \"interpolacion\", \"interpolacion\", \"interpolacion\", \"interpolacion\", \"invasivos\", \"invasivos\", \"ionizacion\", \"ionizacion\", \"ionizacion\", \"ionizacion\", \"kafms\", \"kafms\", \"kepler\", \"kepler\", \"kepler\", \"kepler\", \"kriging\", \"kriging\", \"kriging\", \"kuiper\", \"kuiper\", \"kuiper\", \"kuiper\", \"laes\", \"laes\", \"lentos\", \"lentos\", \"lentos\", \"lentos\", \"lidar\", \"lidar\", \"lidar\", \"lidar\", \"magnetica\", \"magnetica\", \"magnetica\", \"magnetica\", \"magnetico\", \"magnetico\", \"magnetico\", \"magnetico\", \"malle\", \"malle\", \"marco\", \"marco\", \"marco\", \"marco\", \"masa\", \"masa\", \"masa\", \"masa\", \"mathrm\", \"mathrm\", \"mathrm\", \"mathrm\", \"mca\", \"mca\", \"mca\", \"mediciones\", \"mediciones\", \"mediciones\", \"mediciones\", \"metama\", \"metodo\", \"metodo\", \"metodo\", \"metodo\", \"metodos\", \"metodos\", \"metodos\", \"metodos\", \"mfccs\", \"mfccs\", \"mientras\", \"mientras\", \"mientras\", \"mientras\", \"modelado\", \"modelado\", \"modelado\", \"modelado\", \"modelo\", \"modelo\", \"modelo\", \"modelo\", \"modelos\", \"modelos\", \"modelos\", \"modelos\", \"modo\", \"modo\", \"modo\", \"modo\", \"modos\", \"modos\", \"modos\", \"modos\", \"modulada\", \"modulada\", \"modulada\", \"modulada\", \"modulado\", \"modulado\", \"modulado\", \"modulado\", \"mundiales\", \"mundiales\", \"mundiales\", \"mundiales\", \"mv\", \"mv\", \"mv\", \"mv\", \"naturaleza\", \"naturaleza\", \"naturaleza\", \"naturaleza\", \"navegar\", \"navegar\", \"navegar\", \"navegar\", \"nbse\", \"nbse\", \"nbse\", \"nbse\", \"nebular\", \"nebular\", \"neutrinos\", \"neutrinos\", \"neutrinos\", \"neutrinos\", \"neutrones\", \"neutrones\", \"neutrones\", \"neutrones\", \"nido\", \"nido\", \"nitido\", \"nitido\", \"nitido\", \"nitido\", \"observaciones\", \"observaciones\", \"observaciones\", \"observaciones\", \"omega\", \"omega\", \"omega\", \"omega\", \"onda\", \"onda\", \"onda\", \"onda\", \"opera\", \"opera\", \"opera\", \"opera\", \"oraciones\", \"oraciones\", \"oraciones\", \"oraciones\", \"orden\", \"orden\", \"orden\", \"orden\", \"ordenacion\", \"ordenacion\", \"ordenacion\", \"ordenacion\", \"pacs\", \"pacs\", \"partir\", \"partir\", \"partir\", \"partir\", \"pequeno\", \"pequeno\", \"pequeno\", \"pequeno\", \"perilla\", \"perilla\", \"perilla\", \"perilla\", \"pir\", \"pir\", \"pka\", \"planetas\", \"planetas\", \"planetas\", \"planetas\", \"plataforma\", \"plataforma\", \"plataforma\", \"plataforma\", \"pocos\", \"pocos\", \"pocos\", \"pocos\", \"posible\", \"posible\", \"posible\", \"posible\", \"ppo\", \"ppo\", \"ppo\", \"ppo\", \"presentamos\", \"presentamos\", \"presentamos\", \"presentamos\", \"presion\", \"presion\", \"presion\", \"presion\", \"primer\", \"primer\", \"primer\", \"primer\", \"problema\", \"problema\", \"problema\", \"problema\", \"problemas\", \"problemas\", \"problemas\", \"problemas\", \"profesores\", \"profesores\", \"profesores\", \"profundidad\", \"profundidad\", \"profundidad\", \"profundidad\", \"programas\", \"programas\", \"programas\", \"programas\", \"proporcional\", \"proporcional\", \"proporcional\", \"proporcional\", \"propositos\", \"propositos\", \"propositos\", \"propositos\", \"prototipico\", \"prototipico\", \"prototipico\", \"psi\", \"psi\", \"psi\", \"puestos\", \"puestos\", \"punto\", \"punto\", \"punto\", \"punto\", \"qacits\", \"radiografias\", \"raman\", \"raman\", \"raman\", \"raman\", \"reales\", \"reales\", \"reales\", \"reales\", \"realizacion\", \"realizacion\", \"realizacion\", \"realizacion\", \"reconstruccion\", \"reconstruccion\", \"reconstruccion\", \"reconstruccion\", \"reconstruir\", \"reconstruir\", \"reconstruir\", \"reconstruir\", \"redgold\", \"refinado\", \"refinado\", \"refinado\", \"refinado\", \"regularidad\", \"regularidad\", \"regularidad\", \"regularidad\", \"relevantes\", \"relevantes\", \"relevantes\", \"relevantes\", \"reoptimizacion\", \"reoptimizacion\", \"resultados\", \"resultados\", \"resultados\", \"resultados\", \"retornos\", \"retornos\", \"retornos\", \"revela\", \"revela\", \"revela\", \"revela\", \"risa\", \"risa\", \"rmt\", \"rmt\", \"rmt\", \"robot\", \"robot\", \"robot\", \"robot\", \"ropa\", \"ropa\", \"ropa\", \"ropa\", \"rwt\", \"rwt\", \"rwt\", \"sans\", \"sans\", \"sans\", \"sans\", \"sbs\", \"schwarzschild\", \"schwarzschild\", \"schwarzschild\", \"schwinger\", \"schwinger\", \"schwinger\", \"schwinger\", \"sdw\", \"sdw\", \"sdw\", \"seebeck\", \"seebeck\", \"seebeck\", \"seebeck\", \"sensor\", \"sensor\", \"sensor\", \"sensor\", \"servidores\", \"servidores\", \"servidores\", \"servidores\", \"simultaneo\", \"simultaneo\", \"simultaneo\", \"simultaneo\", \"sinusoidalmente\", \"sinusoidalmente\", \"sinusoidalmente\", \"sinusoidalmente\", \"sistema\", \"sistema\", \"sistema\", \"sistema\", \"sistemas\", \"sistemas\", \"sistemas\", \"sistemas\", \"sln\", \"sln\", \"sln\", \"sogge\", \"sogge\", \"solicitantes\", \"solicitantes\", \"solo\", \"solo\", \"solo\", \"solo\", \"solucionadores\", \"solucionadores\", \"solucionadores\", \"solucionadores\", \"soluciones\", \"soluciones\", \"soluciones\", \"soluciones\", \"sqg\", \"sqg\", \"steiner\", \"steiner\", \"steiner\", \"superc\", \"superc\", \"superc\", \"superc\", \"superconductora\", \"superconductora\", \"superconductora\", \"superconductora\", \"superficies\", \"superficies\", \"superficies\", \"superficies\", \"susy\", \"susy\", \"temperatura\", \"temperatura\", \"temperatura\", \"temperatura\", \"tercera\", \"tercera\", \"tercera\", \"tercera\", \"tetraedro\", \"tetraedro\", \"tiempo\", \"tiempo\", \"tiempo\", \"tiempo\", \"timeform\", \"todas\", \"todas\", \"todas\", \"todas\", \"tof\", \"tof\", \"torax\", \"toricas\", \"toricas\", \"trabajo\", \"trabajo\", \"trabajo\", \"trabajo\", \"traduce\", \"traduce\", \"traduce\", \"traduce\", \"transicion\", \"transicion\", \"transicion\", \"transicion\", \"transiciones\", \"transiciones\", \"transiciones\", \"transiciones\", \"transportar\", \"transportar\", \"transportar\", \"transportar\", \"trasplante\", \"trasplante\", \"trasplante\", \"tridimensional\", \"tridimensional\", \"tridimensional\", \"tridimensional\", \"ultima\", \"ultima\", \"ultima\", \"ultima\", \"um\", \"um\", \"unicidad\", \"unicidad\", \"unicidad\", \"unicidad\", \"unilateral\", \"unilateral\", \"vecino\", \"vecino\", \"vecino\", \"vecino\", \"vector\", \"vector\", \"vector\", \"vector\", \"velocidad\", \"velocidad\", \"velocidad\", \"velocidad\", \"violo\", \"violo\", \"violo\", \"violo\", \"vol\", \"vol\", \"vol\", \"wer\", \"wer\", \"wer\", \"wjs\", \"wjs\"]}, \"R\": 30, \"lambda.step\": 0.01, \"plot.opts\": {\"xlab\": \"PC1\", \"ylab\": \"PC2\"}, \"topic.order\": [2, 4, 3, 1]};\n",
              "\n",
              "function LDAvis_load_lib(url, callback){\n",
              "  var s = document.createElement('script');\n",
              "  s.src = url;\n",
              "  s.async = true;\n",
              "  s.onreadystatechange = s.onload = callback;\n",
              "  s.onerror = function(){console.warn(\"failed to load library \" + url);};\n",
              "  document.getElementsByTagName(\"head\")[0].appendChild(s);\n",
              "}\n",
              "\n",
              "if(typeof(LDAvis) !== \"undefined\"){\n",
              "   // already loaded: just create the visualization\n",
              "   !function(LDAvis){\n",
              "       new LDAvis(\"#\" + \"ldavis_el601400662004708641984727566\", ldavis_el601400662004708641984727566_data);\n",
              "   }(LDAvis);\n",
              "}else if(typeof define === \"function\" && define.amd){\n",
              "   // require.js is available: use it to load d3/LDAvis\n",
              "   require.config({paths: {d3: \"https://d3js.org/d3.v5\"}});\n",
              "   require([\"d3\"], function(d3){\n",
              "      window.d3 = d3;\n",
              "      LDAvis_load_lib(\"https://cdn.jsdelivr.net/gh/bmabey/pyLDAvis@3.3.1/pyLDAvis/js/ldavis.v3.0.0.js\", function(){\n",
              "        new LDAvis(\"#\" + \"ldavis_el601400662004708641984727566\", ldavis_el601400662004708641984727566_data);\n",
              "      });\n",
              "    });\n",
              "}else{\n",
              "    // require.js not available: dynamically load d3 & LDAvis\n",
              "    LDAvis_load_lib(\"https://d3js.org/d3.v5.js\", function(){\n",
              "         LDAvis_load_lib(\"https://cdn.jsdelivr.net/gh/bmabey/pyLDAvis@3.3.1/pyLDAvis/js/ldavis.v3.0.0.js\", function(){\n",
              "                 new LDAvis(\"#\" + \"ldavis_el601400662004708641984727566\", ldavis_el601400662004708641984727566_data);\n",
              "            })\n",
              "         });\n",
              "}\n",
              "</script>"
            ]
          },
          "metadata": {},
          "execution_count": 291
        }
      ]
    },
    {
      "cell_type": "markdown",
      "source": [
        "**6. exportacion del modelo**"
      ],
      "metadata": {
        "id": "0GVLDDZ653WI"
      }
    },
    {
      "cell_type": "code",
      "source": [
        "from gensim.test.utils import datapath     \n",
        "\n",
        "# temp_file = datapath(\"model\")\n",
        "file_model = \"./modelo_entrenado\"\n",
        "lda_model.save(file_model) "
      ],
      "metadata": {
        "id": "fwTusBjFvAWp"
      },
      "execution_count": null,
      "outputs": []
    },
    {
      "cell_type": "markdown",
      "source": [
        "**importacion del modelo**\n"
      ],
      "metadata": {
        "id": "NY_zjeaw6B1t"
      }
    },
    {
      "cell_type": "code",
      "source": [
        "modelo_entrenado_importado =gensim.models.LdaMulticore.load(\"./modelo_entrenado\") \n",
        "print(modelo_entrenado_importado)"
      ],
      "metadata": {
        "colab": {
          "base_uri": "https://localhost:8080/"
        },
        "id": "NP8f1FG16BmB",
        "outputId": "f43b3b9c-9ae4-48e7-870d-d6b799419fff"
      },
      "execution_count": null,
      "outputs": [
        {
          "output_type": "stream",
          "name": "stdout",
          "text": [
            "LdaModel(num_terms=46433, num_topics=4, decay=0.5, chunksize=2000)\n"
          ]
        }
      ]
    },
    {
      "cell_type": "code",
      "source": [
        "examples= pd.read_csv(\"https://raw.githubusercontent.com/DayBS/Machine-learning/main/2do-dataset/test.csv\")\n",
        "examples=examples[0:1000]\n",
        "\n",
        "examples.columns=examples.columns.str.lower().str.replace(\" \",\"_\",regex=True)\n",
        "\n",
        "examples = examples.drop(columns=[\n",
        "'id','computer_science','mathematics','physics','statistics'], axis=1)\n",
        "\n",
        "# Eliminar los caracteres como puntos, simbolos de dolar, comas, etc.\n",
        "examples['docs_procesados'] = \\\n",
        "examples['abstract'].map(lambda x: re.sub('[$,\\.!?_]', '', x))\n",
        "# LLevar las palabras a minusculas\n",
        "examples['docs_procesados'] = \\\n",
        "examples['docs_procesados'].map(lambda x: x.lower())\n",
        "# Visualizar la columna de datos procesados"
      ],
      "metadata": {
        "id": "6P48KCx9xz6m"
      },
      "execution_count": null,
      "outputs": []
    },
    {
      "cell_type": "code",
      "source": [
        "examples['esp'] = examples.apply(lambda row: trans.translate(row[\"docs_procesados\"],dest=\"es\").text , axis = 1)\n",
        "examples.head(100)"
      ],
      "metadata": {
        "colab": {
          "base_uri": "https://localhost:8080/",
          "height": 659
        },
        "id": "2H8jUEHd6ju9",
        "outputId": "59190ec4-45ba-4a79-f6c4-7fdf7150dc0d"
      },
      "execution_count": null,
      "outputs": [
        {
          "output_type": "execute_result",
          "data": {
            "text/plain": [
              "                                             abstract  \\\n",
              "0   fundamental frequency (f0) approximation from ...   \n",
              "1   this large-scale study, consisting of 24.5 mil...   \n",
              "2   we present a stability analysis of the plane c...   \n",
              "3   we construct finite time blow-up solutions to ...   \n",
              "4   planetary nebulae (pne) constitute an importan...   \n",
              "..                                                ...   \n",
              "95  we present a highest spatial resolution alma o...   \n",
              "96  complex systems should be modelled at various ...   \n",
              "97  this paper was concerned with the discrete-tim...   \n",
              "98  it was the great pleasure to be invited to joi...   \n",
              "99  we evaluate a performance of four machine lear...   \n",
              "\n",
              "                                      docs_procesados  \\\n",
              "0   fundamental frequency (f0) approximation from ...   \n",
              "1   this large-scale study consisting of 245 milli...   \n",
              "2   we present a stability analysis of the plane c...   \n",
              "3   we construct finite time blow-up solutions to ...   \n",
              "4   planetary nebulae (pne) constitute an importan...   \n",
              "..                                                ...   \n",
              "95  we present a highest spatial resolution alma o...   \n",
              "96  complex systems should be modelled at various ...   \n",
              "97  this paper was concerned with the discrete-tim...   \n",
              "98  it was the great pleasure to be invited to joi...   \n",
              "99  we evaluate a performance of four machine lear...   \n",
              "\n",
              "                                                  esp  \n",
              "0   La aproximación de la frecuencia fundamental (...  \n",
              "1   este estudio a gran escala que consta de 245 m...  \n",
              "2   presentamos un análisis de estabilidad del flu...  \n",
              "3   construimos soluciones ampliadas en tiempo fin...  \n",
              "4   Las nebulosas planetarias (pne) constituyen un...  \n",
              "..                                                ...  \n",
              "95  presentamos las observaciones de alma de resol...  \n",
              "96  los sistemas complejos deben ser modelados en ...  \n",
              "97  Este documento se ocupó del problema de contro...  \n",
              "98  fue un gran placer ser invitado a unirme a un ...  \n",
              "99  evaluamos el desempeño de cuatro métodos de ap...  \n",
              "\n",
              "[100 rows x 3 columns]"
            ],
            "text/html": [
              "\n",
              "  <div id=\"df-3d8393b1-4d32-4620-a7cf-d8b75e1d6c32\">\n",
              "    <div class=\"colab-df-container\">\n",
              "      <div>\n",
              "<style scoped>\n",
              "    .dataframe tbody tr th:only-of-type {\n",
              "        vertical-align: middle;\n",
              "    }\n",
              "\n",
              "    .dataframe tbody tr th {\n",
              "        vertical-align: top;\n",
              "    }\n",
              "\n",
              "    .dataframe thead th {\n",
              "        text-align: right;\n",
              "    }\n",
              "</style>\n",
              "<table border=\"1\" class=\"dataframe\">\n",
              "  <thead>\n",
              "    <tr style=\"text-align: right;\">\n",
              "      <th></th>\n",
              "      <th>abstract</th>\n",
              "      <th>docs_procesados</th>\n",
              "      <th>esp</th>\n",
              "    </tr>\n",
              "  </thead>\n",
              "  <tbody>\n",
              "    <tr>\n",
              "      <th>0</th>\n",
              "      <td>fundamental frequency (f0) approximation from ...</td>\n",
              "      <td>fundamental frequency (f0) approximation from ...</td>\n",
              "      <td>La aproximación de la frecuencia fundamental (...</td>\n",
              "    </tr>\n",
              "    <tr>\n",
              "      <th>1</th>\n",
              "      <td>this large-scale study, consisting of 24.5 mil...</td>\n",
              "      <td>this large-scale study consisting of 245 milli...</td>\n",
              "      <td>este estudio a gran escala que consta de 245 m...</td>\n",
              "    </tr>\n",
              "    <tr>\n",
              "      <th>2</th>\n",
              "      <td>we present a stability analysis of the plane c...</td>\n",
              "      <td>we present a stability analysis of the plane c...</td>\n",
              "      <td>presentamos un análisis de estabilidad del flu...</td>\n",
              "    </tr>\n",
              "    <tr>\n",
              "      <th>3</th>\n",
              "      <td>we construct finite time blow-up solutions to ...</td>\n",
              "      <td>we construct finite time blow-up solutions to ...</td>\n",
              "      <td>construimos soluciones ampliadas en tiempo fin...</td>\n",
              "    </tr>\n",
              "    <tr>\n",
              "      <th>4</th>\n",
              "      <td>planetary nebulae (pne) constitute an importan...</td>\n",
              "      <td>planetary nebulae (pne) constitute an importan...</td>\n",
              "      <td>Las nebulosas planetarias (pne) constituyen un...</td>\n",
              "    </tr>\n",
              "    <tr>\n",
              "      <th>...</th>\n",
              "      <td>...</td>\n",
              "      <td>...</td>\n",
              "      <td>...</td>\n",
              "    </tr>\n",
              "    <tr>\n",
              "      <th>95</th>\n",
              "      <td>we present a highest spatial resolution alma o...</td>\n",
              "      <td>we present a highest spatial resolution alma o...</td>\n",
              "      <td>presentamos las observaciones de alma de resol...</td>\n",
              "    </tr>\n",
              "    <tr>\n",
              "      <th>96</th>\n",
              "      <td>complex systems should be modelled at various ...</td>\n",
              "      <td>complex systems should be modelled at various ...</td>\n",
              "      <td>los sistemas complejos deben ser modelados en ...</td>\n",
              "    </tr>\n",
              "    <tr>\n",
              "      <th>97</th>\n",
              "      <td>this paper was concerned with the discrete-tim...</td>\n",
              "      <td>this paper was concerned with the discrete-tim...</td>\n",
              "      <td>Este documento se ocupó del problema de contro...</td>\n",
              "    </tr>\n",
              "    <tr>\n",
              "      <th>98</th>\n",
              "      <td>it was the great pleasure to be invited to joi...</td>\n",
              "      <td>it was the great pleasure to be invited to joi...</td>\n",
              "      <td>fue un gran placer ser invitado a unirme a un ...</td>\n",
              "    </tr>\n",
              "    <tr>\n",
              "      <th>99</th>\n",
              "      <td>we evaluate a performance of four machine lear...</td>\n",
              "      <td>we evaluate a performance of four machine lear...</td>\n",
              "      <td>evaluamos el desempeño de cuatro métodos de ap...</td>\n",
              "    </tr>\n",
              "  </tbody>\n",
              "</table>\n",
              "<p>100 rows × 3 columns</p>\n",
              "</div>\n",
              "      <button class=\"colab-df-convert\" onclick=\"convertToInteractive('df-3d8393b1-4d32-4620-a7cf-d8b75e1d6c32')\"\n",
              "              title=\"Convert this dataframe to an interactive table.\"\n",
              "              style=\"display:none;\">\n",
              "        \n",
              "  <svg xmlns=\"http://www.w3.org/2000/svg\" height=\"24px\"viewBox=\"0 0 24 24\"\n",
              "       width=\"24px\">\n",
              "    <path d=\"M0 0h24v24H0V0z\" fill=\"none\"/>\n",
              "    <path d=\"M18.56 5.44l.94 2.06.94-2.06 2.06-.94-2.06-.94-.94-2.06-.94 2.06-2.06.94zm-11 1L8.5 8.5l.94-2.06 2.06-.94-2.06-.94L8.5 2.5l-.94 2.06-2.06.94zm10 10l.94 2.06.94-2.06 2.06-.94-2.06-.94-.94-2.06-.94 2.06-2.06.94z\"/><path d=\"M17.41 7.96l-1.37-1.37c-.4-.4-.92-.59-1.43-.59-.52 0-1.04.2-1.43.59L10.3 9.45l-7.72 7.72c-.78.78-.78 2.05 0 2.83L4 21.41c.39.39.9.59 1.41.59.51 0 1.02-.2 1.41-.59l7.78-7.78 2.81-2.81c.8-.78.8-2.07 0-2.86zM5.41 20L4 18.59l7.72-7.72 1.47 1.35L5.41 20z\"/>\n",
              "  </svg>\n",
              "      </button>\n",
              "      \n",
              "  <style>\n",
              "    .colab-df-container {\n",
              "      display:flex;\n",
              "      flex-wrap:wrap;\n",
              "      gap: 12px;\n",
              "    }\n",
              "\n",
              "    .colab-df-convert {\n",
              "      background-color: #E8F0FE;\n",
              "      border: none;\n",
              "      border-radius: 50%;\n",
              "      cursor: pointer;\n",
              "      display: none;\n",
              "      fill: #1967D2;\n",
              "      height: 32px;\n",
              "      padding: 0 0 0 0;\n",
              "      width: 32px;\n",
              "    }\n",
              "\n",
              "    .colab-df-convert:hover {\n",
              "      background-color: #E2EBFA;\n",
              "      box-shadow: 0px 1px 2px rgba(60, 64, 67, 0.3), 0px 1px 3px 1px rgba(60, 64, 67, 0.15);\n",
              "      fill: #174EA6;\n",
              "    }\n",
              "\n",
              "    [theme=dark] .colab-df-convert {\n",
              "      background-color: #3B4455;\n",
              "      fill: #D2E3FC;\n",
              "    }\n",
              "\n",
              "    [theme=dark] .colab-df-convert:hover {\n",
              "      background-color: #434B5C;\n",
              "      box-shadow: 0px 1px 3px 1px rgba(0, 0, 0, 0.15);\n",
              "      filter: drop-shadow(0px 1px 2px rgba(0, 0, 0, 0.3));\n",
              "      fill: #FFFFFF;\n",
              "    }\n",
              "  </style>\n",
              "\n",
              "      <script>\n",
              "        const buttonEl =\n",
              "          document.querySelector('#df-3d8393b1-4d32-4620-a7cf-d8b75e1d6c32 button.colab-df-convert');\n",
              "        buttonEl.style.display =\n",
              "          google.colab.kernel.accessAllowed ? 'block' : 'none';\n",
              "\n",
              "        async function convertToInteractive(key) {\n",
              "          const element = document.querySelector('#df-3d8393b1-4d32-4620-a7cf-d8b75e1d6c32');\n",
              "          const dataTable =\n",
              "            await google.colab.kernel.invokeFunction('convertToInteractive',\n",
              "                                                     [key], {});\n",
              "          if (!dataTable) return;\n",
              "\n",
              "          const docLinkHtml = 'Like what you see? Visit the ' +\n",
              "            '<a target=\"_blank\" href=https://colab.research.google.com/notebooks/data_table.ipynb>data table notebook</a>'\n",
              "            + ' to learn more about interactive tables.';\n",
              "          element.innerHTML = '';\n",
              "          dataTable['output_type'] = 'display_data';\n",
              "          await google.colab.output.renderOutput(dataTable, element);\n",
              "          const docLink = document.createElement('div');\n",
              "          docLink.innerHTML = docLinkHtml;\n",
              "          element.appendChild(docLink);\n",
              "        }\n",
              "      </script>\n",
              "    </div>\n",
              "  </div>\n",
              "  "
            ]
          },
          "metadata": {},
          "execution_count": 326
        }
      ]
    },
    {
      "cell_type": "code",
      "source": [
        "examples=examples.drop(columns=['abstract','docs_procesados'],axis=1)\n",
        "examples.head(50)"
      ],
      "metadata": {
        "colab": {
          "base_uri": "https://localhost:8080/",
          "height": 1000
        },
        "id": "JdTs340S8asv",
        "outputId": "ac0bbbd7-9e2f-400c-9580-5057ae2ef0b7"
      },
      "execution_count": null,
      "outputs": [
        {
          "output_type": "execute_result",
          "data": {
            "text/plain": [
              "                                                  esp\n",
              "0   La aproximación de la frecuencia fundamental (...\n",
              "1   este estudio a gran escala que consta de 245 m...\n",
              "2   presentamos un análisis de estabilidad del flu...\n",
              "3   construimos soluciones ampliadas en tiempo fin...\n",
              "4   Las nebulosas planetarias (pne) constituyen un...\n",
              "5   Con avances recientes dentro de la inteligenci...\n",
              "6   Los métodos de optimización basados ​​en model...\n",
              "7   Dentro de un trabajo actual, se ha propuesto e...\n",
              "8   estudiamos un problema de detección de comunid...\n",
              "9   Las nanocintas de grafeno (gnrs) son tiras ult...\n",
              "10  con un aumento dentro de la actividad militant...\n",
              "11  Dentro de la turbulencia magnetohidrodinámica ...\n",
              "12  el desafío central dentro de un análisis de da...\n",
              "13  Se informa que las sales de transferencia de c...\n",
              "14  un propósito de este artículo fue investigar u...\n",
              "15  diferentes combinaciones de parámetros de entr...\n",
              "16  Propósito: un receso facial era la estructura ...\n",
              "17  Dentro de este artículo, estudiamos un problem...\n",
              "18  hélices de mayor densidad de electrones deberí...\n",
              "19  Experimentos recientes revelaron la sorprenden...\n",
              "20  Este documento se enfoca en la detección de an...\n",
              "21  este artículo propone el método basado en la r...\n",
              "22  dentro de este artículo consideramos un modelo...\n",
              "23  la nueva técnica se presentó teniendo en cuent...\n",
              "24  este estudio exhaustivo del cometa c/1995 o1 s...\n",
              "25  un objetivo principal de este trabajo fue abor...\n",
              "26  consideramos un espectro de peso de la clase d...\n",
              "27  la superconductividad ha sido objeto de un eno...\n",
              "28  a lo largo de un procesamiento y análisis de l...\n",
              "29  la cuantificación de vectores tiene como objet...\n",
              "30  el modelado mecanicista del movimiento animal ...\n",
              "31  este artículo analiza un fenómeno de reacción ...\n",
              "32  En este documento, empleamos análisis asintóti...\n",
              "33  aquí presentamos el modelo estructurado de pob...\n",
              "34  este artículo presenta una construcción explíc...\n",
              "35  Las propiedades estructurales de lacu{6-x}ag{x...\n",
              "36  consideramos un problema del robot que aprende...\n",
              "37  el espacio-tiempo denota el campo de radiación...\n",
              "38  dentro de la reciente letra j cardy phys rev l...\n",
              "39  abordamos un problema de equidad algorítmica: ...\n",
              "40  Se examinó exactamente el efecto de una inclin...\n",
              "41  Las estructuras comunitarias son fundamentales...\n",
              "42  un objeto de un artículo presente fue estudiar...\n",
              "43  esta disertación fue motivada por una necesida...\n",
              "44  dentro de este artículo derivamos un segundo o...\n",
              "45  La polimerización asistida por superficie de m...\n",
              "46  entre los asteroides existen ambigüedades dent...\n",
              "47  este documento se centra en la identificación ...\n",
              "48  la clasificación de los nódulos pulmonares fue...\n",
              "49  el entrenamiento de redes antagónicas generati..."
            ],
            "text/html": [
              "\n",
              "  <div id=\"df-8e1a866d-e898-45a3-81d3-d296a8719db2\">\n",
              "    <div class=\"colab-df-container\">\n",
              "      <div>\n",
              "<style scoped>\n",
              "    .dataframe tbody tr th:only-of-type {\n",
              "        vertical-align: middle;\n",
              "    }\n",
              "\n",
              "    .dataframe tbody tr th {\n",
              "        vertical-align: top;\n",
              "    }\n",
              "\n",
              "    .dataframe thead th {\n",
              "        text-align: right;\n",
              "    }\n",
              "</style>\n",
              "<table border=\"1\" class=\"dataframe\">\n",
              "  <thead>\n",
              "    <tr style=\"text-align: right;\">\n",
              "      <th></th>\n",
              "      <th>esp</th>\n",
              "    </tr>\n",
              "  </thead>\n",
              "  <tbody>\n",
              "    <tr>\n",
              "      <th>0</th>\n",
              "      <td>La aproximación de la frecuencia fundamental (...</td>\n",
              "    </tr>\n",
              "    <tr>\n",
              "      <th>1</th>\n",
              "      <td>este estudio a gran escala que consta de 245 m...</td>\n",
              "    </tr>\n",
              "    <tr>\n",
              "      <th>2</th>\n",
              "      <td>presentamos un análisis de estabilidad del flu...</td>\n",
              "    </tr>\n",
              "    <tr>\n",
              "      <th>3</th>\n",
              "      <td>construimos soluciones ampliadas en tiempo fin...</td>\n",
              "    </tr>\n",
              "    <tr>\n",
              "      <th>4</th>\n",
              "      <td>Las nebulosas planetarias (pne) constituyen un...</td>\n",
              "    </tr>\n",
              "    <tr>\n",
              "      <th>5</th>\n",
              "      <td>Con avances recientes dentro de la inteligenci...</td>\n",
              "    </tr>\n",
              "    <tr>\n",
              "      <th>6</th>\n",
              "      <td>Los métodos de optimización basados ​​en model...</td>\n",
              "    </tr>\n",
              "    <tr>\n",
              "      <th>7</th>\n",
              "      <td>Dentro de un trabajo actual, se ha propuesto e...</td>\n",
              "    </tr>\n",
              "    <tr>\n",
              "      <th>8</th>\n",
              "      <td>estudiamos un problema de detección de comunid...</td>\n",
              "    </tr>\n",
              "    <tr>\n",
              "      <th>9</th>\n",
              "      <td>Las nanocintas de grafeno (gnrs) son tiras ult...</td>\n",
              "    </tr>\n",
              "    <tr>\n",
              "      <th>10</th>\n",
              "      <td>con un aumento dentro de la actividad militant...</td>\n",
              "    </tr>\n",
              "    <tr>\n",
              "      <th>11</th>\n",
              "      <td>Dentro de la turbulencia magnetohidrodinámica ...</td>\n",
              "    </tr>\n",
              "    <tr>\n",
              "      <th>12</th>\n",
              "      <td>el desafío central dentro de un análisis de da...</td>\n",
              "    </tr>\n",
              "    <tr>\n",
              "      <th>13</th>\n",
              "      <td>Se informa que las sales de transferencia de c...</td>\n",
              "    </tr>\n",
              "    <tr>\n",
              "      <th>14</th>\n",
              "      <td>un propósito de este artículo fue investigar u...</td>\n",
              "    </tr>\n",
              "    <tr>\n",
              "      <th>15</th>\n",
              "      <td>diferentes combinaciones de parámetros de entr...</td>\n",
              "    </tr>\n",
              "    <tr>\n",
              "      <th>16</th>\n",
              "      <td>Propósito: un receso facial era la estructura ...</td>\n",
              "    </tr>\n",
              "    <tr>\n",
              "      <th>17</th>\n",
              "      <td>Dentro de este artículo, estudiamos un problem...</td>\n",
              "    </tr>\n",
              "    <tr>\n",
              "      <th>18</th>\n",
              "      <td>hélices de mayor densidad de electrones deberí...</td>\n",
              "    </tr>\n",
              "    <tr>\n",
              "      <th>19</th>\n",
              "      <td>Experimentos recientes revelaron la sorprenden...</td>\n",
              "    </tr>\n",
              "    <tr>\n",
              "      <th>20</th>\n",
              "      <td>Este documento se enfoca en la detección de an...</td>\n",
              "    </tr>\n",
              "    <tr>\n",
              "      <th>21</th>\n",
              "      <td>este artículo propone el método basado en la r...</td>\n",
              "    </tr>\n",
              "    <tr>\n",
              "      <th>22</th>\n",
              "      <td>dentro de este artículo consideramos un modelo...</td>\n",
              "    </tr>\n",
              "    <tr>\n",
              "      <th>23</th>\n",
              "      <td>la nueva técnica se presentó teniendo en cuent...</td>\n",
              "    </tr>\n",
              "    <tr>\n",
              "      <th>24</th>\n",
              "      <td>este estudio exhaustivo del cometa c/1995 o1 s...</td>\n",
              "    </tr>\n",
              "    <tr>\n",
              "      <th>25</th>\n",
              "      <td>un objetivo principal de este trabajo fue abor...</td>\n",
              "    </tr>\n",
              "    <tr>\n",
              "      <th>26</th>\n",
              "      <td>consideramos un espectro de peso de la clase d...</td>\n",
              "    </tr>\n",
              "    <tr>\n",
              "      <th>27</th>\n",
              "      <td>la superconductividad ha sido objeto de un eno...</td>\n",
              "    </tr>\n",
              "    <tr>\n",
              "      <th>28</th>\n",
              "      <td>a lo largo de un procesamiento y análisis de l...</td>\n",
              "    </tr>\n",
              "    <tr>\n",
              "      <th>29</th>\n",
              "      <td>la cuantificación de vectores tiene como objet...</td>\n",
              "    </tr>\n",
              "    <tr>\n",
              "      <th>30</th>\n",
              "      <td>el modelado mecanicista del movimiento animal ...</td>\n",
              "    </tr>\n",
              "    <tr>\n",
              "      <th>31</th>\n",
              "      <td>este artículo analiza un fenómeno de reacción ...</td>\n",
              "    </tr>\n",
              "    <tr>\n",
              "      <th>32</th>\n",
              "      <td>En este documento, empleamos análisis asintóti...</td>\n",
              "    </tr>\n",
              "    <tr>\n",
              "      <th>33</th>\n",
              "      <td>aquí presentamos el modelo estructurado de pob...</td>\n",
              "    </tr>\n",
              "    <tr>\n",
              "      <th>34</th>\n",
              "      <td>este artículo presenta una construcción explíc...</td>\n",
              "    </tr>\n",
              "    <tr>\n",
              "      <th>35</th>\n",
              "      <td>Las propiedades estructurales de lacu{6-x}ag{x...</td>\n",
              "    </tr>\n",
              "    <tr>\n",
              "      <th>36</th>\n",
              "      <td>consideramos un problema del robot que aprende...</td>\n",
              "    </tr>\n",
              "    <tr>\n",
              "      <th>37</th>\n",
              "      <td>el espacio-tiempo denota el campo de radiación...</td>\n",
              "    </tr>\n",
              "    <tr>\n",
              "      <th>38</th>\n",
              "      <td>dentro de la reciente letra j cardy phys rev l...</td>\n",
              "    </tr>\n",
              "    <tr>\n",
              "      <th>39</th>\n",
              "      <td>abordamos un problema de equidad algorítmica: ...</td>\n",
              "    </tr>\n",
              "    <tr>\n",
              "      <th>40</th>\n",
              "      <td>Se examinó exactamente el efecto de una inclin...</td>\n",
              "    </tr>\n",
              "    <tr>\n",
              "      <th>41</th>\n",
              "      <td>Las estructuras comunitarias son fundamentales...</td>\n",
              "    </tr>\n",
              "    <tr>\n",
              "      <th>42</th>\n",
              "      <td>un objeto de un artículo presente fue estudiar...</td>\n",
              "    </tr>\n",
              "    <tr>\n",
              "      <th>43</th>\n",
              "      <td>esta disertación fue motivada por una necesida...</td>\n",
              "    </tr>\n",
              "    <tr>\n",
              "      <th>44</th>\n",
              "      <td>dentro de este artículo derivamos un segundo o...</td>\n",
              "    </tr>\n",
              "    <tr>\n",
              "      <th>45</th>\n",
              "      <td>La polimerización asistida por superficie de m...</td>\n",
              "    </tr>\n",
              "    <tr>\n",
              "      <th>46</th>\n",
              "      <td>entre los asteroides existen ambigüedades dent...</td>\n",
              "    </tr>\n",
              "    <tr>\n",
              "      <th>47</th>\n",
              "      <td>este documento se centra en la identificación ...</td>\n",
              "    </tr>\n",
              "    <tr>\n",
              "      <th>48</th>\n",
              "      <td>la clasificación de los nódulos pulmonares fue...</td>\n",
              "    </tr>\n",
              "    <tr>\n",
              "      <th>49</th>\n",
              "      <td>el entrenamiento de redes antagónicas generati...</td>\n",
              "    </tr>\n",
              "  </tbody>\n",
              "</table>\n",
              "</div>\n",
              "      <button class=\"colab-df-convert\" onclick=\"convertToInteractive('df-8e1a866d-e898-45a3-81d3-d296a8719db2')\"\n",
              "              title=\"Convert this dataframe to an interactive table.\"\n",
              "              style=\"display:none;\">\n",
              "        \n",
              "  <svg xmlns=\"http://www.w3.org/2000/svg\" height=\"24px\"viewBox=\"0 0 24 24\"\n",
              "       width=\"24px\">\n",
              "    <path d=\"M0 0h24v24H0V0z\" fill=\"none\"/>\n",
              "    <path d=\"M18.56 5.44l.94 2.06.94-2.06 2.06-.94-2.06-.94-.94-2.06-.94 2.06-2.06.94zm-11 1L8.5 8.5l.94-2.06 2.06-.94-2.06-.94L8.5 2.5l-.94 2.06-2.06.94zm10 10l.94 2.06.94-2.06 2.06-.94-2.06-.94-.94-2.06-.94 2.06-2.06.94z\"/><path d=\"M17.41 7.96l-1.37-1.37c-.4-.4-.92-.59-1.43-.59-.52 0-1.04.2-1.43.59L10.3 9.45l-7.72 7.72c-.78.78-.78 2.05 0 2.83L4 21.41c.39.39.9.59 1.41.59.51 0 1.02-.2 1.41-.59l7.78-7.78 2.81-2.81c.8-.78.8-2.07 0-2.86zM5.41 20L4 18.59l7.72-7.72 1.47 1.35L5.41 20z\"/>\n",
              "  </svg>\n",
              "      </button>\n",
              "      \n",
              "  <style>\n",
              "    .colab-df-container {\n",
              "      display:flex;\n",
              "      flex-wrap:wrap;\n",
              "      gap: 12px;\n",
              "    }\n",
              "\n",
              "    .colab-df-convert {\n",
              "      background-color: #E8F0FE;\n",
              "      border: none;\n",
              "      border-radius: 50%;\n",
              "      cursor: pointer;\n",
              "      display: none;\n",
              "      fill: #1967D2;\n",
              "      height: 32px;\n",
              "      padding: 0 0 0 0;\n",
              "      width: 32px;\n",
              "    }\n",
              "\n",
              "    .colab-df-convert:hover {\n",
              "      background-color: #E2EBFA;\n",
              "      box-shadow: 0px 1px 2px rgba(60, 64, 67, 0.3), 0px 1px 3px 1px rgba(60, 64, 67, 0.15);\n",
              "      fill: #174EA6;\n",
              "    }\n",
              "\n",
              "    [theme=dark] .colab-df-convert {\n",
              "      background-color: #3B4455;\n",
              "      fill: #D2E3FC;\n",
              "    }\n",
              "\n",
              "    [theme=dark] .colab-df-convert:hover {\n",
              "      background-color: #434B5C;\n",
              "      box-shadow: 0px 1px 3px 1px rgba(0, 0, 0, 0.15);\n",
              "      filter: drop-shadow(0px 1px 2px rgba(0, 0, 0, 0.3));\n",
              "      fill: #FFFFFF;\n",
              "    }\n",
              "  </style>\n",
              "\n",
              "      <script>\n",
              "        const buttonEl =\n",
              "          document.querySelector('#df-8e1a866d-e898-45a3-81d3-d296a8719db2 button.colab-df-convert');\n",
              "        buttonEl.style.display =\n",
              "          google.colab.kernel.accessAllowed ? 'block' : 'none';\n",
              "\n",
              "        async function convertToInteractive(key) {\n",
              "          const element = document.querySelector('#df-8e1a866d-e898-45a3-81d3-d296a8719db2');\n",
              "          const dataTable =\n",
              "            await google.colab.kernel.invokeFunction('convertToInteractive',\n",
              "                                                     [key], {});\n",
              "          if (!dataTable) return;\n",
              "\n",
              "          const docLinkHtml = 'Like what you see? Visit the ' +\n",
              "            '<a target=\"_blank\" href=https://colab.research.google.com/notebooks/data_table.ipynb>data table notebook</a>'\n",
              "            + ' to learn more about interactive tables.';\n",
              "          element.innerHTML = '';\n",
              "          dataTable['output_type'] = 'display_data';\n",
              "          await google.colab.output.renderOutput(dataTable, element);\n",
              "          const docLink = document.createElement('div');\n",
              "          docLink.innerHTML = docLinkHtml;\n",
              "          element.appendChild(docLink);\n",
              "        }\n",
              "      </script>\n",
              "    </div>\n",
              "  </div>\n",
              "  "
            ]
          },
          "metadata": {},
          "execution_count": 332
        }
      ]
    },
    {
      "cell_type": "code",
      "source": [
        "examples.to_csv(\"test_traducido.csv\")   \n"
      ],
      "metadata": {
        "id": "hECGHsPS7rPc"
      },
      "execution_count": null,
      "outputs": []
    },
    {
      "cell_type": "code",
      "source": [
        "examples.docs_procesados[64]"
      ],
      "metadata": {
        "colab": {
          "base_uri": "https://localhost:8080/",
          "height": 174
        },
        "id": "GihqxRg5yKvw",
        "outputId": "837b8f6a-0d04-4ee0-966c-a5c2fe03f4f9"
      },
      "execution_count": null,
      "outputs": [
        {
          "output_type": "execute_result",
          "data": {
            "text/plain": [
              "'inside this paper we exploit the memory-augmented neural network to predict accurate answers to visual questions even when those answers occur rarely inside a training set a memory network incorporates both internal and external memory blocks and selectively pays attention to each training exemplar we show that memory-augmented neural networks are able to maintain the relatively long-term memory of scarce training exemplars which was important considering visual question answering due to a heavy-tailed distribution of answers inside the general vqa setting experimental results on two large-scale benchmark datasets show a favorable performance of a proposed algorithm with the comparison to state of a art'"
            ],
            "application/vnd.google.colaboratory.intrinsic+json": {
              "type": "string"
            }
          },
          "metadata": {},
          "execution_count": 327
        }
      ]
    },
    {
      "cell_type": "code",
      "source": [
        "#text=\"inside this paper we exploit the memory-augmented neural network to predict accurate answers to visual questions even when those answers occur rarely inside a training set a memory network incorporates both internal and external memory blocks and selectively pays attention to each training exemplar we show that memory-augmented neural networks are able to maintain the relatively long-term memory of scarce training exemplars which was important considering visual question answering due to a heavy-tailed distribution of answers inside the general vqa setting experimental results on two large-scale benchmark datasets show a favorable performance of a proposed algorithm with the comparison to state of a art\"\n",
        "text=\"se trata de un sistema inteligente con capacidad de entender el habla común, pero requiere de cientos a miles de datos para poder realizar la tarea de aprendizaje del modelo\"\n",
        "predict_topic(text)"
      ],
      "metadata": {
        "colab": {
          "base_uri": "https://localhost:8080/"
        },
        "id": "HywQcB2qxz1y",
        "outputId": "ab218a65-03fc-46b9-dc89-4a4a174a13d6"
      },
      "execution_count": null,
      "outputs": [
        {
          "output_type": "execute_result",
          "data": {
            "text/plain": [
              "[(0, 0.01660751), (1, 0.9501216), (2, 0.016799115), (3, 0.01647181)]"
            ]
          },
          "metadata": {},
          "execution_count": 296
        }
      ]
    },
    {
      "cell_type": "code",
      "source": [
        "! pip install fitz\n",
        "!pip install PyMuPDF"
      ],
      "metadata": {
        "id": "amoH-rhdxzwT"
      },
      "execution_count": null,
      "outputs": []
    },
    {
      "cell_type": "markdown",
      "source": [
        "**Implementacion del modelo para la organizacion de documentos**"
      ],
      "metadata": {
        "id": "2SCiO0V76RpX"
      }
    },
    {
      "cell_type": "code",
      "source": [
        "import cv2\n",
        "import glob\n",
        "import os\n",
        "import fitz\n",
        "\n",
        "def obtener_lista_archivos(ruta):\n",
        "    archivos_pdf=glob.glob(ruta+\"/*.pdf\")\n",
        "    return archivos_pdf\n",
        "\n",
        "def leer_contenido_pdf(ruta_pdf):\n",
        "    documento=fitz.open(ruta_pdf)\n",
        "    pagina=documento.load_page(0)\n",
        "    contenido=pagina.get_text(\"text\")\n",
        "    return contenido\n",
        "\n",
        "\n",
        "def maximo(lista_tuplas):\n",
        "  print(lista_tuplas)\n",
        "  maximo= lista_tuplas[0][1]\n",
        "  posicion_maximo=0\n",
        "  for i in range(1,4):\n",
        "    if(lista_tuplas[i][1]>maximo):\n",
        "      maximo=lista_tuplas[i][1]\n",
        "      print(maximo)\n",
        "      posicion_maximo=i\n",
        "      \n",
        "  return posicion_maximo\n",
        "\n",
        "def predecir_carpeta(contenido):\n",
        "    lista_probabilidades=predict_topic(contenido)\n",
        "    topico=maximo(lista_tuplas=lista_probabilidades)\n",
        "    return topico\n",
        " \n",
        "def asignar_carpeta(ruta,archivo,carpeta):\n",
        "    ruta_archivo=archivo\n",
        "    ruta_destino=ruta+str(carpeta)\n",
        "\n",
        "    if not(os.path.isdir(ruta_destino)):\n",
        "        print(\"no deberia\")\n",
        "        os.system(\"mkdir \"+ruta_destino)\n",
        "    print(\"mv \"+\"'\"+ruta_archivo+\"'\"+\" \"+ruta_destino)\n",
        "    os.system(\"mv \"+ruta_archivo+\" \"+ruta_destino)\n",
        "\n",
        "\n",
        "def ordenar_documentos(ruta):\n",
        "    lista_pdfs=obtener_lista_archivos(ruta)\n",
        "    for ruta_pdf in lista_pdfs:\n",
        "        texto=leer_contenido_pdf(ruta_pdf)\n",
        "        carpeta_destino=predecir_carpeta(texto)\n",
        "        print(texto)\n",
        "        print(carpeta_destino)\n",
        "        asignar_carpeta(ruta,ruta_pdf,carpeta_destino)\n",
        "\n",
        "ordenar_documentos(\"/content/carpeta/\")"
      ],
      "metadata": {
        "id": "nD6jYjb4xzrN"
      },
      "execution_count": null,
      "outputs": []
    },
    {
      "cell_type": "code",
      "source": [
        ""
      ],
      "metadata": {
        "id": "1N0PlaHJyR3j"
      },
      "execution_count": null,
      "outputs": []
    },
    {
      "cell_type": "code",
      "source": [
        ""
      ],
      "metadata": {
        "id": "mrgz7uAQyR05"
      },
      "execution_count": null,
      "outputs": []
    },
    {
      "cell_type": "code",
      "source": [
        ""
      ],
      "metadata": {
        "id": "IEq-U65OyRyQ"
      },
      "execution_count": null,
      "outputs": []
    },
    {
      "cell_type": "code",
      "source": [
        ""
      ],
      "metadata": {
        "id": "SO-kgEC8yRva"
      },
      "execution_count": null,
      "outputs": []
    },
    {
      "cell_type": "code",
      "source": [
        ""
      ],
      "metadata": {
        "id": "Wi7zDOFAyRsf"
      },
      "execution_count": null,
      "outputs": []
    }
  ],
  "metadata": {
    "colab": {
      "collapsed_sections": [],
      "name": "practica_segundo_parcialML.ipynb",
      "provenance": []
    },
    "kernelspec": {
      "display_name": "Python 3",
      "name": "python3"
    },
    "language_info": {
      "name": "python"
    }
  },
  "nbformat": 4,
  "nbformat_minor": 0
}